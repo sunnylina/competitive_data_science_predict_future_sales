{
 "cells": [
  {
   "cell_type": "markdown",
   "id": "welsh-transition",
   "metadata": {
    "papermill": {
     "duration": 0.051611,
     "end_time": "2021-04-29T11:54:25.824345",
     "exception": false,
     "start_time": "2021-04-29T11:54:25.772734",
     "status": "completed"
    },
    "tags": []
   },
   "source": [
    "# Predict Future Sales Competition\n",
    "## Top 3.5% Solution with Feature Engineering\n",
    "\n",
    "- [Competition Link](https://www.kaggle.com/c/competitive-data-science-predict-future-sales)\n",
    "- [Reference modeling link](https://www.kaggle.com/dkomyagin/predict-future-sales-lightgbm-framework)"
   ]
  },
  {
   "cell_type": "markdown",
   "id": "considerable-lottery",
   "metadata": {
    "papermill": {
     "duration": 0.044988,
     "end_time": "2021-04-29T11:54:25.914591",
     "exception": false,
     "start_time": "2021-04-29T11:54:25.869603",
     "status": "completed"
    },
    "tags": []
   },
   "source": [
    "## This is Top 3.5% modeling code with feature engineering. I made a total of 30 featrues. If it was helpful, please upvote my code!! 👀"
   ]
  },
  {
   "cell_type": "code",
   "execution_count": 1,
   "id": "developmental-freeze",
   "metadata": {
    "execution": {
     "iopub.execute_input": "2021-04-29T11:54:26.013163Z",
     "iopub.status.busy": "2021-04-29T11:54:26.012475Z",
     "iopub.status.idle": "2021-04-29T11:54:29.258651Z",
     "shell.execute_reply": "2021-04-29T11:54:29.259231Z"
    },
    "papermill": {
     "duration": 3.299246,
     "end_time": "2021-04-29T11:54:29.259532",
     "exception": false,
     "start_time": "2021-04-29T11:54:25.960286",
     "status": "completed"
    },
    "tags": []
   },
   "outputs": [
    {
     "ename": "FileNotFoundError",
     "evalue": "[Errno 2] No such file or directory: '/kaggle/input/competitive-data-science-predict-future-sales/sales_train.csv'",
     "output_type": "error",
     "traceback": [
      "\u001b[0;31m---------------------------------------------------------------------------\u001b[0m",
      "\u001b[0;31mFileNotFoundError\u001b[0m                         Traceback (most recent call last)",
      "Input \u001b[0;32mIn [1]\u001b[0m, in \u001b[0;36m<cell line: 10>\u001b[0;34m()\u001b[0m\n\u001b[1;32m      7\u001b[0m \u001b[38;5;66;03m# date path\u001b[39;00m\n\u001b[1;32m      8\u001b[0m data_path \u001b[38;5;241m=\u001b[39m \u001b[38;5;124m'\u001b[39m\u001b[38;5;124m/kaggle/input/competitive-data-science-predict-future-sales/\u001b[39m\u001b[38;5;124m'\u001b[39m\n\u001b[0;32m---> 10\u001b[0m sales_train \u001b[38;5;241m=\u001b[39m \u001b[43mpd\u001b[49m\u001b[38;5;241;43m.\u001b[39;49m\u001b[43mread_csv\u001b[49m\u001b[43m(\u001b[49m\u001b[43mdata_path\u001b[49m\u001b[43m \u001b[49m\u001b[38;5;241;43m+\u001b[39;49m\u001b[43m \u001b[49m\u001b[38;5;124;43m'\u001b[39;49m\u001b[38;5;124;43msales_train.csv\u001b[39;49m\u001b[38;5;124;43m'\u001b[39;49m\u001b[43m)\u001b[49m\n\u001b[1;32m     11\u001b[0m shops \u001b[38;5;241m=\u001b[39m pd\u001b[38;5;241m.\u001b[39mread_csv(data_path \u001b[38;5;241m+\u001b[39m \u001b[38;5;124m'\u001b[39m\u001b[38;5;124mshops.csv\u001b[39m\u001b[38;5;124m'\u001b[39m)\n\u001b[1;32m     12\u001b[0m items \u001b[38;5;241m=\u001b[39m pd\u001b[38;5;241m.\u001b[39mread_csv(data_path \u001b[38;5;241m+\u001b[39m \u001b[38;5;124m'\u001b[39m\u001b[38;5;124mitems.csv\u001b[39m\u001b[38;5;124m'\u001b[39m)\n",
      "File \u001b[0;32m~/opt/anaconda3/lib/python3.9/site-packages/pandas/util/_decorators.py:311\u001b[0m, in \u001b[0;36mdeprecate_nonkeyword_arguments.<locals>.decorate.<locals>.wrapper\u001b[0;34m(*args, **kwargs)\u001b[0m\n\u001b[1;32m    305\u001b[0m \u001b[38;5;28;01mif\u001b[39;00m \u001b[38;5;28mlen\u001b[39m(args) \u001b[38;5;241m>\u001b[39m num_allow_args:\n\u001b[1;32m    306\u001b[0m     warnings\u001b[38;5;241m.\u001b[39mwarn(\n\u001b[1;32m    307\u001b[0m         msg\u001b[38;5;241m.\u001b[39mformat(arguments\u001b[38;5;241m=\u001b[39marguments),\n\u001b[1;32m    308\u001b[0m         \u001b[38;5;167;01mFutureWarning\u001b[39;00m,\n\u001b[1;32m    309\u001b[0m         stacklevel\u001b[38;5;241m=\u001b[39mstacklevel,\n\u001b[1;32m    310\u001b[0m     )\n\u001b[0;32m--> 311\u001b[0m \u001b[38;5;28;01mreturn\u001b[39;00m \u001b[43mfunc\u001b[49m\u001b[43m(\u001b[49m\u001b[38;5;241;43m*\u001b[39;49m\u001b[43margs\u001b[49m\u001b[43m,\u001b[49m\u001b[43m \u001b[49m\u001b[38;5;241;43m*\u001b[39;49m\u001b[38;5;241;43m*\u001b[39;49m\u001b[43mkwargs\u001b[49m\u001b[43m)\u001b[49m\n",
      "File \u001b[0;32m~/opt/anaconda3/lib/python3.9/site-packages/pandas/io/parsers/readers.py:680\u001b[0m, in \u001b[0;36mread_csv\u001b[0;34m(filepath_or_buffer, sep, delimiter, header, names, index_col, usecols, squeeze, prefix, mangle_dupe_cols, dtype, engine, converters, true_values, false_values, skipinitialspace, skiprows, skipfooter, nrows, na_values, keep_default_na, na_filter, verbose, skip_blank_lines, parse_dates, infer_datetime_format, keep_date_col, date_parser, dayfirst, cache_dates, iterator, chunksize, compression, thousands, decimal, lineterminator, quotechar, quoting, doublequote, escapechar, comment, encoding, encoding_errors, dialect, error_bad_lines, warn_bad_lines, on_bad_lines, delim_whitespace, low_memory, memory_map, float_precision, storage_options)\u001b[0m\n\u001b[1;32m    665\u001b[0m kwds_defaults \u001b[38;5;241m=\u001b[39m _refine_defaults_read(\n\u001b[1;32m    666\u001b[0m     dialect,\n\u001b[1;32m    667\u001b[0m     delimiter,\n\u001b[0;32m   (...)\u001b[0m\n\u001b[1;32m    676\u001b[0m     defaults\u001b[38;5;241m=\u001b[39m{\u001b[38;5;124m\"\u001b[39m\u001b[38;5;124mdelimiter\u001b[39m\u001b[38;5;124m\"\u001b[39m: \u001b[38;5;124m\"\u001b[39m\u001b[38;5;124m,\u001b[39m\u001b[38;5;124m\"\u001b[39m},\n\u001b[1;32m    677\u001b[0m )\n\u001b[1;32m    678\u001b[0m kwds\u001b[38;5;241m.\u001b[39mupdate(kwds_defaults)\n\u001b[0;32m--> 680\u001b[0m \u001b[38;5;28;01mreturn\u001b[39;00m \u001b[43m_read\u001b[49m\u001b[43m(\u001b[49m\u001b[43mfilepath_or_buffer\u001b[49m\u001b[43m,\u001b[49m\u001b[43m \u001b[49m\u001b[43mkwds\u001b[49m\u001b[43m)\u001b[49m\n",
      "File \u001b[0;32m~/opt/anaconda3/lib/python3.9/site-packages/pandas/io/parsers/readers.py:575\u001b[0m, in \u001b[0;36m_read\u001b[0;34m(filepath_or_buffer, kwds)\u001b[0m\n\u001b[1;32m    572\u001b[0m _validate_names(kwds\u001b[38;5;241m.\u001b[39mget(\u001b[38;5;124m\"\u001b[39m\u001b[38;5;124mnames\u001b[39m\u001b[38;5;124m\"\u001b[39m, \u001b[38;5;28;01mNone\u001b[39;00m))\n\u001b[1;32m    574\u001b[0m \u001b[38;5;66;03m# Create the parser.\u001b[39;00m\n\u001b[0;32m--> 575\u001b[0m parser \u001b[38;5;241m=\u001b[39m \u001b[43mTextFileReader\u001b[49m\u001b[43m(\u001b[49m\u001b[43mfilepath_or_buffer\u001b[49m\u001b[43m,\u001b[49m\u001b[43m \u001b[49m\u001b[38;5;241;43m*\u001b[39;49m\u001b[38;5;241;43m*\u001b[39;49m\u001b[43mkwds\u001b[49m\u001b[43m)\u001b[49m\n\u001b[1;32m    577\u001b[0m \u001b[38;5;28;01mif\u001b[39;00m chunksize \u001b[38;5;129;01mor\u001b[39;00m iterator:\n\u001b[1;32m    578\u001b[0m     \u001b[38;5;28;01mreturn\u001b[39;00m parser\n",
      "File \u001b[0;32m~/opt/anaconda3/lib/python3.9/site-packages/pandas/io/parsers/readers.py:933\u001b[0m, in \u001b[0;36mTextFileReader.__init__\u001b[0;34m(self, f, engine, **kwds)\u001b[0m\n\u001b[1;32m    930\u001b[0m     \u001b[38;5;28mself\u001b[39m\u001b[38;5;241m.\u001b[39moptions[\u001b[38;5;124m\"\u001b[39m\u001b[38;5;124mhas_index_names\u001b[39m\u001b[38;5;124m\"\u001b[39m] \u001b[38;5;241m=\u001b[39m kwds[\u001b[38;5;124m\"\u001b[39m\u001b[38;5;124mhas_index_names\u001b[39m\u001b[38;5;124m\"\u001b[39m]\n\u001b[1;32m    932\u001b[0m \u001b[38;5;28mself\u001b[39m\u001b[38;5;241m.\u001b[39mhandles: IOHandles \u001b[38;5;241m|\u001b[39m \u001b[38;5;28;01mNone\u001b[39;00m \u001b[38;5;241m=\u001b[39m \u001b[38;5;28;01mNone\u001b[39;00m\n\u001b[0;32m--> 933\u001b[0m \u001b[38;5;28mself\u001b[39m\u001b[38;5;241m.\u001b[39m_engine \u001b[38;5;241m=\u001b[39m \u001b[38;5;28;43mself\u001b[39;49m\u001b[38;5;241;43m.\u001b[39;49m\u001b[43m_make_engine\u001b[49m\u001b[43m(\u001b[49m\u001b[43mf\u001b[49m\u001b[43m,\u001b[49m\u001b[43m \u001b[49m\u001b[38;5;28;43mself\u001b[39;49m\u001b[38;5;241;43m.\u001b[39;49m\u001b[43mengine\u001b[49m\u001b[43m)\u001b[49m\n",
      "File \u001b[0;32m~/opt/anaconda3/lib/python3.9/site-packages/pandas/io/parsers/readers.py:1217\u001b[0m, in \u001b[0;36mTextFileReader._make_engine\u001b[0;34m(self, f, engine)\u001b[0m\n\u001b[1;32m   1213\u001b[0m     mode \u001b[38;5;241m=\u001b[39m \u001b[38;5;124m\"\u001b[39m\u001b[38;5;124mrb\u001b[39m\u001b[38;5;124m\"\u001b[39m\n\u001b[1;32m   1214\u001b[0m \u001b[38;5;66;03m# error: No overload variant of \"get_handle\" matches argument types\u001b[39;00m\n\u001b[1;32m   1215\u001b[0m \u001b[38;5;66;03m# \"Union[str, PathLike[str], ReadCsvBuffer[bytes], ReadCsvBuffer[str]]\"\u001b[39;00m\n\u001b[1;32m   1216\u001b[0m \u001b[38;5;66;03m# , \"str\", \"bool\", \"Any\", \"Any\", \"Any\", \"Any\", \"Any\"\u001b[39;00m\n\u001b[0;32m-> 1217\u001b[0m \u001b[38;5;28mself\u001b[39m\u001b[38;5;241m.\u001b[39mhandles \u001b[38;5;241m=\u001b[39m \u001b[43mget_handle\u001b[49m\u001b[43m(\u001b[49m\u001b[43m  \u001b[49m\u001b[38;5;66;43;03m# type: ignore[call-overload]\u001b[39;49;00m\n\u001b[1;32m   1218\u001b[0m \u001b[43m    \u001b[49m\u001b[43mf\u001b[49m\u001b[43m,\u001b[49m\n\u001b[1;32m   1219\u001b[0m \u001b[43m    \u001b[49m\u001b[43mmode\u001b[49m\u001b[43m,\u001b[49m\n\u001b[1;32m   1220\u001b[0m \u001b[43m    \u001b[49m\u001b[43mencoding\u001b[49m\u001b[38;5;241;43m=\u001b[39;49m\u001b[38;5;28;43mself\u001b[39;49m\u001b[38;5;241;43m.\u001b[39;49m\u001b[43moptions\u001b[49m\u001b[38;5;241;43m.\u001b[39;49m\u001b[43mget\u001b[49m\u001b[43m(\u001b[49m\u001b[38;5;124;43m\"\u001b[39;49m\u001b[38;5;124;43mencoding\u001b[39;49m\u001b[38;5;124;43m\"\u001b[39;49m\u001b[43m,\u001b[49m\u001b[43m \u001b[49m\u001b[38;5;28;43;01mNone\u001b[39;49;00m\u001b[43m)\u001b[49m\u001b[43m,\u001b[49m\n\u001b[1;32m   1221\u001b[0m \u001b[43m    \u001b[49m\u001b[43mcompression\u001b[49m\u001b[38;5;241;43m=\u001b[39;49m\u001b[38;5;28;43mself\u001b[39;49m\u001b[38;5;241;43m.\u001b[39;49m\u001b[43moptions\u001b[49m\u001b[38;5;241;43m.\u001b[39;49m\u001b[43mget\u001b[49m\u001b[43m(\u001b[49m\u001b[38;5;124;43m\"\u001b[39;49m\u001b[38;5;124;43mcompression\u001b[39;49m\u001b[38;5;124;43m\"\u001b[39;49m\u001b[43m,\u001b[49m\u001b[43m \u001b[49m\u001b[38;5;28;43;01mNone\u001b[39;49;00m\u001b[43m)\u001b[49m\u001b[43m,\u001b[49m\n\u001b[1;32m   1222\u001b[0m \u001b[43m    \u001b[49m\u001b[43mmemory_map\u001b[49m\u001b[38;5;241;43m=\u001b[39;49m\u001b[38;5;28;43mself\u001b[39;49m\u001b[38;5;241;43m.\u001b[39;49m\u001b[43moptions\u001b[49m\u001b[38;5;241;43m.\u001b[39;49m\u001b[43mget\u001b[49m\u001b[43m(\u001b[49m\u001b[38;5;124;43m\"\u001b[39;49m\u001b[38;5;124;43mmemory_map\u001b[39;49m\u001b[38;5;124;43m\"\u001b[39;49m\u001b[43m,\u001b[49m\u001b[43m \u001b[49m\u001b[38;5;28;43;01mFalse\u001b[39;49;00m\u001b[43m)\u001b[49m\u001b[43m,\u001b[49m\n\u001b[1;32m   1223\u001b[0m \u001b[43m    \u001b[49m\u001b[43mis_text\u001b[49m\u001b[38;5;241;43m=\u001b[39;49m\u001b[43mis_text\u001b[49m\u001b[43m,\u001b[49m\n\u001b[1;32m   1224\u001b[0m \u001b[43m    \u001b[49m\u001b[43merrors\u001b[49m\u001b[38;5;241;43m=\u001b[39;49m\u001b[38;5;28;43mself\u001b[39;49m\u001b[38;5;241;43m.\u001b[39;49m\u001b[43moptions\u001b[49m\u001b[38;5;241;43m.\u001b[39;49m\u001b[43mget\u001b[49m\u001b[43m(\u001b[49m\u001b[38;5;124;43m\"\u001b[39;49m\u001b[38;5;124;43mencoding_errors\u001b[39;49m\u001b[38;5;124;43m\"\u001b[39;49m\u001b[43m,\u001b[49m\u001b[43m \u001b[49m\u001b[38;5;124;43m\"\u001b[39;49m\u001b[38;5;124;43mstrict\u001b[39;49m\u001b[38;5;124;43m\"\u001b[39;49m\u001b[43m)\u001b[49m\u001b[43m,\u001b[49m\n\u001b[1;32m   1225\u001b[0m \u001b[43m    \u001b[49m\u001b[43mstorage_options\u001b[49m\u001b[38;5;241;43m=\u001b[39;49m\u001b[38;5;28;43mself\u001b[39;49m\u001b[38;5;241;43m.\u001b[39;49m\u001b[43moptions\u001b[49m\u001b[38;5;241;43m.\u001b[39;49m\u001b[43mget\u001b[49m\u001b[43m(\u001b[49m\u001b[38;5;124;43m\"\u001b[39;49m\u001b[38;5;124;43mstorage_options\u001b[39;49m\u001b[38;5;124;43m\"\u001b[39;49m\u001b[43m,\u001b[49m\u001b[43m \u001b[49m\u001b[38;5;28;43;01mNone\u001b[39;49;00m\u001b[43m)\u001b[49m\u001b[43m,\u001b[49m\n\u001b[1;32m   1226\u001b[0m \u001b[43m\u001b[49m\u001b[43m)\u001b[49m\n\u001b[1;32m   1227\u001b[0m \u001b[38;5;28;01massert\u001b[39;00m \u001b[38;5;28mself\u001b[39m\u001b[38;5;241m.\u001b[39mhandles \u001b[38;5;129;01mis\u001b[39;00m \u001b[38;5;129;01mnot\u001b[39;00m \u001b[38;5;28;01mNone\u001b[39;00m\n\u001b[1;32m   1228\u001b[0m f \u001b[38;5;241m=\u001b[39m \u001b[38;5;28mself\u001b[39m\u001b[38;5;241m.\u001b[39mhandles\u001b[38;5;241m.\u001b[39mhandle\n",
      "File \u001b[0;32m~/opt/anaconda3/lib/python3.9/site-packages/pandas/io/common.py:789\u001b[0m, in \u001b[0;36mget_handle\u001b[0;34m(path_or_buf, mode, encoding, compression, memory_map, is_text, errors, storage_options)\u001b[0m\n\u001b[1;32m    784\u001b[0m \u001b[38;5;28;01melif\u001b[39;00m \u001b[38;5;28misinstance\u001b[39m(handle, \u001b[38;5;28mstr\u001b[39m):\n\u001b[1;32m    785\u001b[0m     \u001b[38;5;66;03m# Check whether the filename is to be opened in binary mode.\u001b[39;00m\n\u001b[1;32m    786\u001b[0m     \u001b[38;5;66;03m# Binary mode does not support 'encoding' and 'newline'.\u001b[39;00m\n\u001b[1;32m    787\u001b[0m     \u001b[38;5;28;01mif\u001b[39;00m ioargs\u001b[38;5;241m.\u001b[39mencoding \u001b[38;5;129;01mand\u001b[39;00m \u001b[38;5;124m\"\u001b[39m\u001b[38;5;124mb\u001b[39m\u001b[38;5;124m\"\u001b[39m \u001b[38;5;129;01mnot\u001b[39;00m \u001b[38;5;129;01min\u001b[39;00m ioargs\u001b[38;5;241m.\u001b[39mmode:\n\u001b[1;32m    788\u001b[0m         \u001b[38;5;66;03m# Encoding\u001b[39;00m\n\u001b[0;32m--> 789\u001b[0m         handle \u001b[38;5;241m=\u001b[39m \u001b[38;5;28;43mopen\u001b[39;49m\u001b[43m(\u001b[49m\n\u001b[1;32m    790\u001b[0m \u001b[43m            \u001b[49m\u001b[43mhandle\u001b[49m\u001b[43m,\u001b[49m\n\u001b[1;32m    791\u001b[0m \u001b[43m            \u001b[49m\u001b[43mioargs\u001b[49m\u001b[38;5;241;43m.\u001b[39;49m\u001b[43mmode\u001b[49m\u001b[43m,\u001b[49m\n\u001b[1;32m    792\u001b[0m \u001b[43m            \u001b[49m\u001b[43mencoding\u001b[49m\u001b[38;5;241;43m=\u001b[39;49m\u001b[43mioargs\u001b[49m\u001b[38;5;241;43m.\u001b[39;49m\u001b[43mencoding\u001b[49m\u001b[43m,\u001b[49m\n\u001b[1;32m    793\u001b[0m \u001b[43m            \u001b[49m\u001b[43merrors\u001b[49m\u001b[38;5;241;43m=\u001b[39;49m\u001b[43merrors\u001b[49m\u001b[43m,\u001b[49m\n\u001b[1;32m    794\u001b[0m \u001b[43m            \u001b[49m\u001b[43mnewline\u001b[49m\u001b[38;5;241;43m=\u001b[39;49m\u001b[38;5;124;43m\"\u001b[39;49m\u001b[38;5;124;43m\"\u001b[39;49m\u001b[43m,\u001b[49m\n\u001b[1;32m    795\u001b[0m \u001b[43m        \u001b[49m\u001b[43m)\u001b[49m\n\u001b[1;32m    796\u001b[0m     \u001b[38;5;28;01melse\u001b[39;00m:\n\u001b[1;32m    797\u001b[0m         \u001b[38;5;66;03m# Binary mode\u001b[39;00m\n\u001b[1;32m    798\u001b[0m         handle \u001b[38;5;241m=\u001b[39m \u001b[38;5;28mopen\u001b[39m(handle, ioargs\u001b[38;5;241m.\u001b[39mmode)\n",
      "\u001b[0;31mFileNotFoundError\u001b[0m: [Errno 2] No such file or directory: '/kaggle/input/competitive-data-science-predict-future-sales/sales_train.csv'"
     ]
    }
   ],
   "source": [
    "import numpy as np\n",
    "import pandas as pd\n",
    "import warnings\n",
    "\n",
    "warnings.filterwarnings(action='ignore') # Ignore warning message\n",
    "\n",
    "# date path\n",
    "data_path = '/kaggle/input/competitive-data-science-predict-future-sales/'\n",
    "\n",
    "sales_train = pd.read_csv(data_path + 'sales_train.csv')\n",
    "shops = pd.read_csv(data_path + 'shops.csv')\n",
    "items = pd.read_csv(data_path + 'items.csv')\n",
    "item_categories = pd.read_csv(data_path + 'item_categories.csv')\n",
    "test = pd.read_csv(data_path + 'test.csv')\n",
    "submission = pd.read_csv(data_path + 'sample_submission.csv')"
   ]
  },
  {
   "cell_type": "markdown",
   "id": "numerical-variation",
   "metadata": {
    "papermill": {
     "duration": 0.046351,
     "end_time": "2021-04-29T11:54:29.351615",
     "exception": false,
     "start_time": "2021-04-29T11:54:29.305264",
     "status": "completed"
    },
    "tags": []
   },
   "source": [
    "#### Data Downcasting"
   ]
  },
  {
   "cell_type": "code",
   "execution_count": null,
   "id": "biblical-collect",
   "metadata": {
    "execution": {
     "iopub.execute_input": "2021-04-29T11:54:29.463041Z",
     "iopub.status.busy": "2021-04-29T11:54:29.452759Z",
     "iopub.status.idle": "2021-04-29T11:54:29.869992Z",
     "shell.execute_reply": "2021-04-29T11:54:29.868950Z"
    },
    "papermill": {
     "duration": 0.472124,
     "end_time": "2021-04-29T11:54:29.870167",
     "exception": false,
     "start_time": "2021-04-29T11:54:29.398043",
     "status": "completed"
    },
    "tags": []
   },
   "outputs": [],
   "source": [
    "def downcast(df, verbose=True):\n",
    "    start_mem = df.memory_usage().sum() / 1024**2\n",
    "    for col in df.columns:\n",
    "        dtype_name = df[col].dtype.name\n",
    "        if dtype_name == 'object':\n",
    "            pass\n",
    "        elif dtype_name == 'bool':\n",
    "            df[col] = df[col].astype('int8')\n",
    "        elif dtype_name.startswith('int') or (df[col].round() == df[col]).all():\n",
    "            df[col] = pd.to_numeric(df[col], downcast='integer')\n",
    "        else:\n",
    "            df[col] = pd.to_numeric(df[col], downcast='float')\n",
    "    end_mem = df.memory_usage().sum() / 1024**2\n",
    "    if verbose:\n",
    "        print('{:.1f}% compressed'.format(100 * (start_mem - end_mem) / start_mem))\n",
    "    \n",
    "    return df\n",
    "\n",
    "all_df = [sales_train, shops, items, item_categories, test]\n",
    "for df in all_df:\n",
    "    df = downcast(df)"
   ]
  },
  {
   "cell_type": "markdown",
   "id": "canadian-concrete",
   "metadata": {
    "papermill": {
     "duration": 0.046409,
     "end_time": "2021-04-29T11:54:29.963256",
     "exception": false,
     "start_time": "2021-04-29T11:54:29.916847",
     "status": "completed"
    },
    "tags": []
   },
   "source": [
    "## Feature Engineering I - handling sales_train, shops, items, item_categories"
   ]
  },
  {
   "cell_type": "markdown",
   "id": "exotic-newport",
   "metadata": {
    "papermill": {
     "duration": 0.045875,
     "end_time": "2021-04-29T11:54:30.055149",
     "exception": false,
     "start_time": "2021-04-29T11:54:30.009274",
     "status": "completed"
    },
    "tags": []
   },
   "source": [
    "### sales_train: remove outliers and preprocess"
   ]
  },
  {
   "cell_type": "code",
   "execution_count": null,
   "id": "parallel-accent",
   "metadata": {
    "execution": {
     "iopub.execute_input": "2021-04-29T11:54:30.153333Z",
     "iopub.status.busy": "2021-04-29T11:54:30.152589Z",
     "iopub.status.idle": "2021-04-29T11:54:30.606171Z",
     "shell.execute_reply": "2021-04-29T11:54:30.606648Z"
    },
    "papermill": {
     "duration": 0.504999,
     "end_time": "2021-04-29T11:54:30.606835",
     "exception": false,
     "start_time": "2021-04-29T11:54:30.101836",
     "status": "completed"
    },
    "tags": []
   },
   "outputs": [],
   "source": [
    "# Extract data with a item_price greater than 0\n",
    "sales_train = sales_train[sales_train['item_price'] > 0]\n",
    "# Extract data with a item_priceof less than 50,000\n",
    "sales_train = sales_train[sales_train['item_price'] < 50000]\n",
    "# Extract data with item_cnt_day greater than 0\n",
    "sales_train = sales_train[sales_train['item_cnt_day'] > 0]\n",
    "# Extract data with item_cnt_day less than 1,000\n",
    "sales_train = sales_train[sales_train['item_cnt_day'] < 1000]"
   ]
  },
  {
   "cell_type": "code",
   "execution_count": null,
   "id": "engaging-ethernet",
   "metadata": {
    "execution": {
     "iopub.execute_input": "2021-04-29T11:54:30.702545Z",
     "iopub.status.busy": "2021-04-29T11:54:30.701546Z",
     "iopub.status.idle": "2021-04-29T11:54:30.711031Z",
     "shell.execute_reply": "2021-04-29T11:54:30.710489Z"
    },
    "papermill": {
     "duration": 0.058362,
     "end_time": "2021-04-29T11:54:30.711191",
     "exception": false,
     "start_time": "2021-04-29T11:54:30.652829",
     "status": "completed"
    },
    "tags": []
   },
   "outputs": [],
   "source": [
    "print(shops['shop_name'][0], '||', shops['shop_name'][57])\n",
    "print(shops['shop_name'][1], '||', shops['shop_name'][58])\n",
    "print(shops['shop_name'][10], '||', shops['shop_name'][11])\n",
    "print(shops['shop_name'][39], '||', shops['shop_name'][40])"
   ]
  },
  {
   "cell_type": "code",
   "execution_count": 2,
   "id": "religious-manual",
   "metadata": {
    "execution": {
     "iopub.execute_input": "2021-04-29T11:54:30.812243Z",
     "iopub.status.busy": "2021-04-29T11:54:30.811530Z",
     "iopub.status.idle": "2021-04-29T11:54:30.833020Z",
     "shell.execute_reply": "2021-04-29T11:54:30.832327Z"
    },
    "papermill": {
     "duration": 0.075584,
     "end_time": "2021-04-29T11:54:30.833184",
     "exception": false,
     "start_time": "2021-04-29T11:54:30.757600",
     "status": "completed"
    },
    "tags": []
   },
   "outputs": [
    {
     "ename": "NameError",
     "evalue": "name 'sales_train' is not defined",
     "output_type": "error",
     "traceback": [
      "\u001b[0;31m---------------------------------------------------------------------------\u001b[0m",
      "\u001b[0;31mNameError\u001b[0m                                 Traceback (most recent call last)",
      "Input \u001b[0;32mIn [2]\u001b[0m, in \u001b[0;36m<cell line: 2>\u001b[0;34m()\u001b[0m\n\u001b[1;32m      1\u001b[0m \u001b[38;5;66;03m#  Modify shop_id in sales_train data\u001b[39;00m\n\u001b[0;32m----> 2\u001b[0m \u001b[43msales_train\u001b[49m\u001b[38;5;241m.\u001b[39mloc[sales_train[\u001b[38;5;124m'\u001b[39m\u001b[38;5;124mshop_id\u001b[39m\u001b[38;5;124m'\u001b[39m] \u001b[38;5;241m==\u001b[39m \u001b[38;5;241m0\u001b[39m, \u001b[38;5;124m'\u001b[39m\u001b[38;5;124mshop_id\u001b[39m\u001b[38;5;124m'\u001b[39m] \u001b[38;5;241m=\u001b[39m \u001b[38;5;241m57\u001b[39m\n\u001b[1;32m      3\u001b[0m sales_train\u001b[38;5;241m.\u001b[39mloc[sales_train[\u001b[38;5;124m'\u001b[39m\u001b[38;5;124mshop_id\u001b[39m\u001b[38;5;124m'\u001b[39m] \u001b[38;5;241m==\u001b[39m \u001b[38;5;241m1\u001b[39m, \u001b[38;5;124m'\u001b[39m\u001b[38;5;124mshop_id\u001b[39m\u001b[38;5;124m'\u001b[39m] \u001b[38;5;241m=\u001b[39m \u001b[38;5;241m58\u001b[39m\n\u001b[1;32m      4\u001b[0m sales_train\u001b[38;5;241m.\u001b[39mloc[sales_train[\u001b[38;5;124m'\u001b[39m\u001b[38;5;124mshop_id\u001b[39m\u001b[38;5;124m'\u001b[39m] \u001b[38;5;241m==\u001b[39m \u001b[38;5;241m10\u001b[39m, \u001b[38;5;124m'\u001b[39m\u001b[38;5;124mshop_id\u001b[39m\u001b[38;5;124m'\u001b[39m] \u001b[38;5;241m=\u001b[39m \u001b[38;5;241m11\u001b[39m\n",
      "\u001b[0;31mNameError\u001b[0m: name 'sales_train' is not defined"
     ]
    }
   ],
   "source": [
    "#  Modify shop_id in sales_train data\n",
    "sales_train.loc[sales_train['shop_id'] == 0, 'shop_id'] = 57\n",
    "sales_train.loc[sales_train['shop_id'] == 1, 'shop_id'] = 58\n",
    "sales_train.loc[sales_train['shop_id'] == 10, 'shop_id'] = 11\n",
    "sales_train.loc[sales_train['shop_id'] == 39, 'shop_id'] = 40\n",
    "\n",
    "#  Modify shop_id in test data\n",
    "test.loc[test['shop_id'] == 0, 'shop_id'] = 57\n",
    "test.loc[test['shop_id'] == 1, 'shop_id'] = 58\n",
    "test.loc[test['shop_id'] == 10, 'shop_id'] = 11\n",
    "test.loc[test['shop_id'] == 39, 'shop_id'] = 40"
   ]
  },
  {
   "cell_type": "code",
   "execution_count": 3,
   "id": "automatic-clause",
   "metadata": {
    "execution": {
     "iopub.execute_input": "2021-04-29T11:54:30.935715Z",
     "iopub.status.busy": "2021-04-29T11:54:30.933968Z",
     "iopub.status.idle": "2021-04-29T11:54:31.037005Z",
     "shell.execute_reply": "2021-04-29T11:54:31.037620Z"
    },
    "papermill": {
     "duration": 0.156851,
     "end_time": "2021-04-29T11:54:31.037804",
     "exception": false,
     "start_time": "2021-04-29T11:54:30.880953",
     "status": "completed"
    },
    "tags": []
   },
   "outputs": [
    {
     "ename": "NameError",
     "evalue": "name 'test' is not defined",
     "output_type": "error",
     "traceback": [
      "\u001b[0;31m---------------------------------------------------------------------------\u001b[0m",
      "\u001b[0;31mNameError\u001b[0m                                 Traceback (most recent call last)",
      "Input \u001b[0;32mIn [3]\u001b[0m, in \u001b[0;36m<cell line: 2>\u001b[0;34m()\u001b[0m\n\u001b[1;32m      1\u001b[0m \u001b[38;5;66;03m# Leaking to imporve performance\u001b[39;00m\n\u001b[0;32m----> 2\u001b[0m unique_test_shop_id \u001b[38;5;241m=\u001b[39m \u001b[43mtest\u001b[49m[\u001b[38;5;124m'\u001b[39m\u001b[38;5;124mshop_id\u001b[39m\u001b[38;5;124m'\u001b[39m]\u001b[38;5;241m.\u001b[39munique()\n\u001b[1;32m      3\u001b[0m sales_train \u001b[38;5;241m=\u001b[39m sales_train[sales_train[\u001b[38;5;124m'\u001b[39m\u001b[38;5;124mshop_id\u001b[39m\u001b[38;5;124m'\u001b[39m]\u001b[38;5;241m.\u001b[39misin(unique_test_shop_id)]\n",
      "\u001b[0;31mNameError\u001b[0m: name 'test' is not defined"
     ]
    }
   ],
   "source": [
    "# Leaking to imporve performance\n",
    "unique_test_shop_id = test['shop_id'].unique()\n",
    "sales_train = sales_train[sales_train['shop_id'].isin(unique_test_shop_id)]"
   ]
  },
  {
   "cell_type": "markdown",
   "id": "decreased-wrestling",
   "metadata": {
    "papermill": {
     "duration": 0.047093,
     "end_time": "2021-04-29T11:54:31.132380",
     "exception": false,
     "start_time": "2021-04-29T11:54:31.085287",
     "status": "completed"
    },
    "tags": []
   },
   "source": [
    "### Shops: create derived features and encode"
   ]
  },
  {
   "cell_type": "code",
   "execution_count": 4,
   "id": "recent-writer",
   "metadata": {
    "execution": {
     "iopub.execute_input": "2021-04-29T11:54:31.233737Z",
     "iopub.status.busy": "2021-04-29T11:54:31.232866Z",
     "iopub.status.idle": "2021-04-29T11:54:31.237109Z",
     "shell.execute_reply": "2021-04-29T11:54:31.236463Z"
    },
    "papermill": {
     "duration": 0.057322,
     "end_time": "2021-04-29T11:54:31.237253",
     "exception": false,
     "start_time": "2021-04-29T11:54:31.179931",
     "status": "completed"
    },
    "tags": []
   },
   "outputs": [
    {
     "ename": "NameError",
     "evalue": "name 'shops' is not defined",
     "output_type": "error",
     "traceback": [
      "\u001b[0;31m---------------------------------------------------------------------------\u001b[0m",
      "\u001b[0;31mNameError\u001b[0m                                 Traceback (most recent call last)",
      "Input \u001b[0;32mIn [4]\u001b[0m, in \u001b[0;36m<cell line: 1>\u001b[0;34m()\u001b[0m\n\u001b[0;32m----> 1\u001b[0m shops[\u001b[38;5;124m'\u001b[39m\u001b[38;5;124mcity\u001b[39m\u001b[38;5;124m'\u001b[39m] \u001b[38;5;241m=\u001b[39m \u001b[43mshops\u001b[49m[\u001b[38;5;124m'\u001b[39m\u001b[38;5;124mshop_name\u001b[39m\u001b[38;5;124m'\u001b[39m]\u001b[38;5;241m.\u001b[39mapply(\u001b[38;5;28;01mlambda\u001b[39;00m x: x\u001b[38;5;241m.\u001b[39msplit()[\u001b[38;5;241m0\u001b[39m])\n",
      "\u001b[0;31mNameError\u001b[0m: name 'shops' is not defined"
     ]
    }
   ],
   "source": [
    "shops['city'] = shops['shop_name'].apply(lambda x: x.split()[0])"
   ]
  },
  {
   "cell_type": "code",
   "execution_count": 5,
   "id": "stylish-victim",
   "metadata": {
    "execution": {
     "iopub.execute_input": "2021-04-29T11:54:31.341341Z",
     "iopub.status.busy": "2021-04-29T11:54:31.340412Z",
     "iopub.status.idle": "2021-04-29T11:54:31.345049Z",
     "shell.execute_reply": "2021-04-29T11:54:31.344577Z"
    },
    "papermill": {
     "duration": 0.060442,
     "end_time": "2021-04-29T11:54:31.345210",
     "exception": false,
     "start_time": "2021-04-29T11:54:31.284768",
     "status": "completed"
    },
    "tags": []
   },
   "outputs": [
    {
     "ename": "NameError",
     "evalue": "name 'shops' is not defined",
     "output_type": "error",
     "traceback": [
      "\u001b[0;31m---------------------------------------------------------------------------\u001b[0m",
      "\u001b[0;31mNameError\u001b[0m                                 Traceback (most recent call last)",
      "Input \u001b[0;32mIn [5]\u001b[0m, in \u001b[0;36m<cell line: 1>\u001b[0;34m()\u001b[0m\n\u001b[0;32m----> 1\u001b[0m \u001b[43mshops\u001b[49m[\u001b[38;5;124m'\u001b[39m\u001b[38;5;124mcity\u001b[39m\u001b[38;5;124m'\u001b[39m]\u001b[38;5;241m.\u001b[39munique()\n",
      "\u001b[0;31mNameError\u001b[0m: name 'shops' is not defined"
     ]
    }
   ],
   "source": [
    "shops['city'].unique()"
   ]
  },
  {
   "cell_type": "code",
   "execution_count": 9,
   "id": "greater-arnold",
   "metadata": {
    "execution": {
     "iopub.execute_input": "2021-04-29T11:54:31.446138Z",
     "iopub.status.busy": "2021-04-29T11:54:31.445177Z",
     "iopub.status.idle": "2021-04-29T11:54:31.448936Z",
     "shell.execute_reply": "2021-04-29T11:54:31.448302Z"
    },
    "papermill": {
     "duration": 0.056476,
     "end_time": "2021-04-29T11:54:31.449102",
     "exception": false,
     "start_time": "2021-04-29T11:54:31.392626",
     "status": "completed"
    },
    "tags": []
   },
   "outputs": [],
   "source": [
    "shops.loc[shops['city'] =='!Якутск', 'city'] = 'Якутск'"
   ]
  },
  {
   "cell_type": "code",
   "execution_count": 10,
   "id": "toxic-dragon",
   "metadata": {
    "execution": {
     "iopub.execute_input": "2021-04-29T11:54:31.549972Z",
     "iopub.status.busy": "2021-04-29T11:54:31.549299Z",
     "iopub.status.idle": "2021-04-29T11:54:32.605573Z",
     "shell.execute_reply": "2021-04-29T11:54:32.604976Z"
    },
    "papermill": {
     "duration": 1.108895,
     "end_time": "2021-04-29T11:54:32.605717",
     "exception": false,
     "start_time": "2021-04-29T11:54:31.496822",
     "status": "completed"
    },
    "tags": []
   },
   "outputs": [],
   "source": [
    "from sklearn.preprocessing import LabelEncoder\n",
    "\n",
    "# Create Label Encoder\n",
    "label_encoder = LabelEncoder()\n",
    "# City Feature Label Encoding \n",
    "shops['city'] = label_encoder.fit_transform(shops['city'])"
   ]
  },
  {
   "cell_type": "code",
   "execution_count": 11,
   "id": "promising-recipient",
   "metadata": {
    "execution": {
     "iopub.execute_input": "2021-04-29T11:54:32.707581Z",
     "iopub.status.busy": "2021-04-29T11:54:32.706910Z",
     "iopub.status.idle": "2021-04-29T11:54:32.718918Z",
     "shell.execute_reply": "2021-04-29T11:54:32.718240Z"
    },
    "papermill": {
     "duration": 0.065956,
     "end_time": "2021-04-29T11:54:32.719094",
     "exception": false,
     "start_time": "2021-04-29T11:54:32.653138",
     "status": "completed"
    },
    "tags": []
   },
   "outputs": [
    {
     "data": {
      "text/html": [
       "<div>\n",
       "<style scoped>\n",
       "    .dataframe tbody tr th:only-of-type {\n",
       "        vertical-align: middle;\n",
       "    }\n",
       "\n",
       "    .dataframe tbody tr th {\n",
       "        vertical-align: top;\n",
       "    }\n",
       "\n",
       "    .dataframe thead th {\n",
       "        text-align: right;\n",
       "    }\n",
       "</style>\n",
       "<table border=\"1\" class=\"dataframe\">\n",
       "  <thead>\n",
       "    <tr style=\"text-align: right;\">\n",
       "      <th></th>\n",
       "      <th>shop_id</th>\n",
       "      <th>city</th>\n",
       "    </tr>\n",
       "  </thead>\n",
       "  <tbody>\n",
       "    <tr>\n",
       "      <th>0</th>\n",
       "      <td>0</td>\n",
       "      <td>29</td>\n",
       "    </tr>\n",
       "    <tr>\n",
       "      <th>1</th>\n",
       "      <td>1</td>\n",
       "      <td>29</td>\n",
       "    </tr>\n",
       "    <tr>\n",
       "      <th>2</th>\n",
       "      <td>2</td>\n",
       "      <td>0</td>\n",
       "    </tr>\n",
       "    <tr>\n",
       "      <th>3</th>\n",
       "      <td>3</td>\n",
       "      <td>1</td>\n",
       "    </tr>\n",
       "    <tr>\n",
       "      <th>4</th>\n",
       "      <td>4</td>\n",
       "      <td>2</td>\n",
       "    </tr>\n",
       "  </tbody>\n",
       "</table>\n",
       "</div>"
      ],
      "text/plain": [
       "   shop_id  city\n",
       "0        0    29\n",
       "1        1    29\n",
       "2        2     0\n",
       "3        3     1\n",
       "4        4     2"
      ]
     },
     "execution_count": 11,
     "metadata": {},
     "output_type": "execute_result"
    }
   ],
   "source": [
    "# Remove shop_name feature\n",
    "shops = shops.drop('shop_name', axis=1)\n",
    "\n",
    "shops.head()"
   ]
  },
  {
   "cell_type": "markdown",
   "id": "mechanical-defendant",
   "metadata": {
    "papermill": {
     "duration": 0.047883,
     "end_time": "2021-04-29T11:54:32.815555",
     "exception": false,
     "start_time": "2021-04-29T11:54:32.767672",
     "status": "completed"
    },
    "tags": []
   },
   "source": [
    "### itmes: Create derived features"
   ]
  },
  {
   "cell_type": "code",
   "execution_count": 12,
   "id": "textile-secret",
   "metadata": {
    "execution": {
     "iopub.execute_input": "2021-04-29T11:54:32.915592Z",
     "iopub.status.busy": "2021-04-29T11:54:32.914874Z",
     "iopub.status.idle": "2021-04-29T11:54:32.919654Z",
     "shell.execute_reply": "2021-04-29T11:54:32.920184Z"
    },
    "papermill": {
     "duration": 0.056866,
     "end_time": "2021-04-29T11:54:32.920351",
     "exception": false,
     "start_time": "2021-04-29T11:54:32.863485",
     "status": "completed"
    },
    "tags": []
   },
   "outputs": [],
   "source": [
    "# Remove item_name feature\n",
    "items = items.drop(['item_name'], axis=1)"
   ]
  },
  {
   "cell_type": "code",
   "execution_count": 13,
   "id": "patient-performance",
   "metadata": {
    "execution": {
     "iopub.execute_input": "2021-04-29T11:54:33.020385Z",
     "iopub.status.busy": "2021-04-29T11:54:33.019723Z",
     "iopub.status.idle": "2021-04-29T11:54:33.113973Z",
     "shell.execute_reply": "2021-04-29T11:54:33.113340Z"
    },
    "papermill": {
     "duration": 0.145431,
     "end_time": "2021-04-29T11:54:33.114134",
     "exception": false,
     "start_time": "2021-04-29T11:54:32.968703",
     "status": "completed"
    },
    "tags": []
   },
   "outputs": [
    {
     "data": {
      "text/html": [
       "<div>\n",
       "<style scoped>\n",
       "    .dataframe tbody tr th:only-of-type {\n",
       "        vertical-align: middle;\n",
       "    }\n",
       "\n",
       "    .dataframe tbody tr th {\n",
       "        vertical-align: top;\n",
       "    }\n",
       "\n",
       "    .dataframe thead th {\n",
       "        text-align: right;\n",
       "    }\n",
       "</style>\n",
       "<table border=\"1\" class=\"dataframe\">\n",
       "  <thead>\n",
       "    <tr style=\"text-align: right;\">\n",
       "      <th></th>\n",
       "      <th>item_id</th>\n",
       "      <th>item_category_id</th>\n",
       "      <th>first_sale_date</th>\n",
       "    </tr>\n",
       "  </thead>\n",
       "  <tbody>\n",
       "    <tr>\n",
       "      <th>0</th>\n",
       "      <td>0</td>\n",
       "      <td>40</td>\n",
       "      <td>NaN</td>\n",
       "    </tr>\n",
       "    <tr>\n",
       "      <th>1</th>\n",
       "      <td>1</td>\n",
       "      <td>76</td>\n",
       "      <td>15.0</td>\n",
       "    </tr>\n",
       "    <tr>\n",
       "      <th>2</th>\n",
       "      <td>2</td>\n",
       "      <td>40</td>\n",
       "      <td>NaN</td>\n",
       "    </tr>\n",
       "    <tr>\n",
       "      <th>3</th>\n",
       "      <td>3</td>\n",
       "      <td>40</td>\n",
       "      <td>NaN</td>\n",
       "    </tr>\n",
       "    <tr>\n",
       "      <th>4</th>\n",
       "      <td>4</td>\n",
       "      <td>40</td>\n",
       "      <td>NaN</td>\n",
       "    </tr>\n",
       "  </tbody>\n",
       "</table>\n",
       "</div>"
      ],
      "text/plain": [
       "   item_id  item_category_id  first_sale_date\n",
       "0        0                40              NaN\n",
       "1        1                76             15.0\n",
       "2        2                40              NaN\n",
       "3        3                40              NaN\n",
       "4        4                40              NaN"
      ]
     },
     "execution_count": 13,
     "metadata": {},
     "output_type": "execute_result"
    }
   ],
   "source": [
    "# Create the date the product was first sold as a feature\n",
    "items['first_sale_date'] = sales_train.groupby('item_id').agg({'date_block_num': 'min'})['date_block_num']\n",
    "\n",
    "items.head()"
   ]
  },
  {
   "cell_type": "code",
   "execution_count": 14,
   "id": "charming-vocabulary",
   "metadata": {
    "execution": {
     "iopub.execute_input": "2021-04-29T11:54:33.223904Z",
     "iopub.status.busy": "2021-04-29T11:54:33.219035Z",
     "iopub.status.idle": "2021-04-29T11:54:33.233310Z",
     "shell.execute_reply": "2021-04-29T11:54:33.232665Z"
    },
    "papermill": {
     "duration": 0.069232,
     "end_time": "2021-04-29T11:54:33.233452",
     "exception": false,
     "start_time": "2021-04-29T11:54:33.164220",
     "status": "completed"
    },
    "tags": []
   },
   "outputs": [
    {
     "data": {
      "text/html": [
       "<div>\n",
       "<style scoped>\n",
       "    .dataframe tbody tr th:only-of-type {\n",
       "        vertical-align: middle;\n",
       "    }\n",
       "\n",
       "    .dataframe tbody tr th {\n",
       "        vertical-align: top;\n",
       "    }\n",
       "\n",
       "    .dataframe thead th {\n",
       "        text-align: right;\n",
       "    }\n",
       "</style>\n",
       "<table border=\"1\" class=\"dataframe\">\n",
       "  <thead>\n",
       "    <tr style=\"text-align: right;\">\n",
       "      <th></th>\n",
       "      <th>item_id</th>\n",
       "      <th>item_category_id</th>\n",
       "      <th>first_sale_date</th>\n",
       "    </tr>\n",
       "  </thead>\n",
       "  <tbody>\n",
       "    <tr>\n",
       "      <th>0</th>\n",
       "      <td>0</td>\n",
       "      <td>40</td>\n",
       "      <td>NaN</td>\n",
       "    </tr>\n",
       "    <tr>\n",
       "      <th>2</th>\n",
       "      <td>2</td>\n",
       "      <td>40</td>\n",
       "      <td>NaN</td>\n",
       "    </tr>\n",
       "    <tr>\n",
       "      <th>3</th>\n",
       "      <td>3</td>\n",
       "      <td>40</td>\n",
       "      <td>NaN</td>\n",
       "    </tr>\n",
       "    <tr>\n",
       "      <th>4</th>\n",
       "      <td>4</td>\n",
       "      <td>40</td>\n",
       "      <td>NaN</td>\n",
       "    </tr>\n",
       "    <tr>\n",
       "      <th>5</th>\n",
       "      <td>5</td>\n",
       "      <td>40</td>\n",
       "      <td>NaN</td>\n",
       "    </tr>\n",
       "    <tr>\n",
       "      <th>...</th>\n",
       "      <td>...</td>\n",
       "      <td>...</td>\n",
       "      <td>...</td>\n",
       "    </tr>\n",
       "    <tr>\n",
       "      <th>21975</th>\n",
       "      <td>21975</td>\n",
       "      <td>61</td>\n",
       "      <td>NaN</td>\n",
       "    </tr>\n",
       "    <tr>\n",
       "      <th>22022</th>\n",
       "      <td>22022</td>\n",
       "      <td>40</td>\n",
       "      <td>NaN</td>\n",
       "    </tr>\n",
       "    <tr>\n",
       "      <th>22028</th>\n",
       "      <td>22028</td>\n",
       "      <td>40</td>\n",
       "      <td>NaN</td>\n",
       "    </tr>\n",
       "    <tr>\n",
       "      <th>22035</th>\n",
       "      <td>22035</td>\n",
       "      <td>40</td>\n",
       "      <td>NaN</td>\n",
       "    </tr>\n",
       "    <tr>\n",
       "      <th>22137</th>\n",
       "      <td>22137</td>\n",
       "      <td>40</td>\n",
       "      <td>NaN</td>\n",
       "    </tr>\n",
       "  </tbody>\n",
       "</table>\n",
       "<p>1090 rows × 3 columns</p>\n",
       "</div>"
      ],
      "text/plain": [
       "       item_id  item_category_id  first_sale_date\n",
       "0            0                40              NaN\n",
       "2            2                40              NaN\n",
       "3            3                40              NaN\n",
       "4            4                40              NaN\n",
       "5            5                40              NaN\n",
       "...        ...               ...              ...\n",
       "21975    21975                61              NaN\n",
       "22022    22022                40              NaN\n",
       "22028    22028                40              NaN\n",
       "22035    22035                40              NaN\n",
       "22137    22137                40              NaN\n",
       "\n",
       "[1090 rows x 3 columns]"
      ]
     },
     "execution_count": 14,
     "metadata": {},
     "output_type": "execute_result"
    }
   ],
   "source": [
    "items[items['first_sale_date'].isna()]"
   ]
  },
  {
   "cell_type": "code",
   "execution_count": 15,
   "id": "imported-olive",
   "metadata": {
    "execution": {
     "iopub.execute_input": "2021-04-29T11:54:33.337851Z",
     "iopub.status.busy": "2021-04-29T11:54:33.337202Z",
     "iopub.status.idle": "2021-04-29T11:54:33.340314Z",
     "shell.execute_reply": "2021-04-29T11:54:33.340818Z"
    },
    "papermill": {
     "duration": 0.057941,
     "end_time": "2021-04-29T11:54:33.340996",
     "exception": false,
     "start_time": "2021-04-29T11:54:33.283055",
     "status": "completed"
    },
    "tags": []
   },
   "outputs": [],
   "source": [
    "# Replace NaN of first_sale_date with 34\n",
    "items['first_sale_date'] = items['first_sale_date'].fillna(34)"
   ]
  },
  {
   "cell_type": "markdown",
   "id": "consecutive-plumbing",
   "metadata": {
    "papermill": {
     "duration": 0.050373,
     "end_time": "2021-04-29T11:54:33.441358",
     "exception": false,
     "start_time": "2021-04-29T11:54:33.390985",
     "status": "completed"
    },
    "tags": []
   },
   "source": [
    "### Create item_categories derived feature and encode"
   ]
  },
  {
   "cell_type": "code",
   "execution_count": 16,
   "id": "conscious-volume",
   "metadata": {
    "execution": {
     "iopub.execute_input": "2021-04-29T11:54:33.544478Z",
     "iopub.status.busy": "2021-04-29T11:54:33.543791Z",
     "iopub.status.idle": "2021-04-29T11:54:33.549337Z",
     "shell.execute_reply": "2021-04-29T11:54:33.549918Z"
    },
    "papermill": {
     "duration": 0.05872,
     "end_time": "2021-04-29T11:54:33.550127",
     "exception": false,
     "start_time": "2021-04-29T11:54:33.491407",
     "status": "completed"
    },
    "tags": []
   },
   "outputs": [],
   "source": [
    "# Extract the first word of the item_categories_name into category\n",
    "item_categories['category'] = item_categories['item_category_name'].apply(lambda x: x.split()[0])  "
   ]
  },
  {
   "cell_type": "code",
   "execution_count": 17,
   "id": "immediate-municipality",
   "metadata": {
    "execution": {
     "iopub.execute_input": "2021-04-29T11:54:33.654861Z",
     "iopub.status.busy": "2021-04-29T11:54:33.654234Z",
     "iopub.status.idle": "2021-04-29T11:54:33.661369Z",
     "shell.execute_reply": "2021-04-29T11:54:33.661928Z"
    },
    "papermill": {
     "duration": 0.061018,
     "end_time": "2021-04-29T11:54:33.662135",
     "exception": false,
     "start_time": "2021-04-29T11:54:33.601117",
     "status": "completed"
    },
    "tags": []
   },
   "outputs": [
    {
     "data": {
      "text/plain": [
       "Игры          14\n",
       "Книги         13\n",
       "Подарки       12\n",
       "Игровые        8\n",
       "Аксессуары     7\n",
       "Программы      6\n",
       "Музыка         6\n",
       "Карты          5\n",
       "Кино           5\n",
       "Служебные      2\n",
       "Чистые         2\n",
       "PC             1\n",
       "Билеты         1\n",
       "Элементы       1\n",
       "Доставка       1\n",
       "Name: category, dtype: int64"
      ]
     },
     "execution_count": 17,
     "metadata": {},
     "output_type": "execute_result"
    }
   ],
   "source": [
    "item_categories['category'].value_counts()"
   ]
  },
  {
   "cell_type": "code",
   "execution_count": 18,
   "id": "forbidden-promotion",
   "metadata": {
    "execution": {
     "iopub.execute_input": "2021-04-29T11:54:33.766523Z",
     "iopub.status.busy": "2021-04-29T11:54:33.765759Z",
     "iopub.status.idle": "2021-04-29T11:54:33.807184Z",
     "shell.execute_reply": "2021-04-29T11:54:33.807660Z"
    },
    "papermill": {
     "duration": 0.094623,
     "end_time": "2021-04-29T11:54:33.807845",
     "exception": false,
     "start_time": "2021-04-29T11:54:33.713222",
     "status": "completed"
    },
    "tags": []
   },
   "outputs": [],
   "source": [
    "def make_etc(x):\n",
    "    if len(item_categories[item_categories['category']==x]) >= 5:\n",
    "        return x\n",
    "    else:\n",
    "        return 'etc'\n",
    "\n",
    "# Replace with 'etc' if category count is less than 5\n",
    "item_categories['category'] = item_categories['category'].apply(make_etc)"
   ]
  },
  {
   "cell_type": "code",
   "execution_count": 19,
   "id": "bulgarian-pakistan",
   "metadata": {
    "execution": {
     "iopub.execute_input": "2021-04-29T11:54:33.911725Z",
     "iopub.status.busy": "2021-04-29T11:54:33.911102Z",
     "iopub.status.idle": "2021-04-29T11:54:33.921450Z",
     "shell.execute_reply": "2021-04-29T11:54:33.920823Z"
    },
    "papermill": {
     "duration": 0.063337,
     "end_time": "2021-04-29T11:54:33.921601",
     "exception": false,
     "start_time": "2021-04-29T11:54:33.858264",
     "status": "completed"
    },
    "tags": []
   },
   "outputs": [
    {
     "data": {
      "text/html": [
       "<div>\n",
       "<style scoped>\n",
       "    .dataframe tbody tr th:only-of-type {\n",
       "        vertical-align: middle;\n",
       "    }\n",
       "\n",
       "    .dataframe tbody tr th {\n",
       "        vertical-align: top;\n",
       "    }\n",
       "\n",
       "    .dataframe thead th {\n",
       "        text-align: right;\n",
       "    }\n",
       "</style>\n",
       "<table border=\"1\" class=\"dataframe\">\n",
       "  <thead>\n",
       "    <tr style=\"text-align: right;\">\n",
       "      <th></th>\n",
       "      <th>item_category_name</th>\n",
       "      <th>item_category_id</th>\n",
       "      <th>category</th>\n",
       "    </tr>\n",
       "  </thead>\n",
       "  <tbody>\n",
       "    <tr>\n",
       "      <th>0</th>\n",
       "      <td>PC - Гарнитуры/Наушники</td>\n",
       "      <td>0</td>\n",
       "      <td>etc</td>\n",
       "    </tr>\n",
       "    <tr>\n",
       "      <th>1</th>\n",
       "      <td>Аксессуары - PS2</td>\n",
       "      <td>1</td>\n",
       "      <td>Аксессуары</td>\n",
       "    </tr>\n",
       "    <tr>\n",
       "      <th>2</th>\n",
       "      <td>Аксессуары - PS3</td>\n",
       "      <td>2</td>\n",
       "      <td>Аксессуары</td>\n",
       "    </tr>\n",
       "    <tr>\n",
       "      <th>3</th>\n",
       "      <td>Аксессуары - PS4</td>\n",
       "      <td>3</td>\n",
       "      <td>Аксессуары</td>\n",
       "    </tr>\n",
       "    <tr>\n",
       "      <th>4</th>\n",
       "      <td>Аксессуары - PSP</td>\n",
       "      <td>4</td>\n",
       "      <td>Аксессуары</td>\n",
       "    </tr>\n",
       "  </tbody>\n",
       "</table>\n",
       "</div>"
      ],
      "text/plain": [
       "        item_category_name  item_category_id    category\n",
       "0  PC - Гарнитуры/Наушники                 0         etc\n",
       "1         Аксессуары - PS2                 1  Аксессуары\n",
       "2         Аксессуары - PS3                 2  Аксессуары\n",
       "3         Аксессуары - PS4                 3  Аксессуары\n",
       "4         Аксессуары - PSP                 4  Аксессуары"
      ]
     },
     "execution_count": 19,
     "metadata": {},
     "output_type": "execute_result"
    }
   ],
   "source": [
    "item_categories.head()"
   ]
  },
  {
   "cell_type": "code",
   "execution_count": 20,
   "id": "powered-paraguay",
   "metadata": {
    "execution": {
     "iopub.execute_input": "2021-04-29T11:54:34.032673Z",
     "iopub.status.busy": "2021-04-29T11:54:34.031514Z",
     "iopub.status.idle": "2021-04-29T11:54:34.035167Z",
     "shell.execute_reply": "2021-04-29T11:54:34.034499Z"
    },
    "papermill": {
     "duration": 0.061863,
     "end_time": "2021-04-29T11:54:34.035311",
     "exception": false,
     "start_time": "2021-04-29T11:54:33.973448",
     "status": "completed"
    },
    "tags": []
   },
   "outputs": [],
   "source": [
    "# Create Label Encoder\n",
    "label_encoder = LabelEncoder()\n",
    "# Category Feature Label Encoding \n",
    "item_categories['category'] = label_encoder.fit_transform(item_categories['category'])\n",
    "\n",
    "# Remove item_category_name feature\n",
    "item_categories = item_categories.drop('item_category_name', axis=1)"
   ]
  },
  {
   "cell_type": "markdown",
   "id": "complicated-fighter",
   "metadata": {
    "papermill": {
     "duration": 0.051599,
     "end_time": "2021-04-29T11:54:34.139268",
     "exception": false,
     "start_time": "2021-04-29T11:54:34.087669",
     "status": "completed"
    },
    "tags": []
   },
   "source": [
    "### Generate data combinations and derived features"
   ]
  },
  {
   "cell_type": "code",
   "execution_count": 21,
   "id": "innocent-athletics",
   "metadata": {
    "execution": {
     "iopub.execute_input": "2021-04-29T11:54:34.252402Z",
     "iopub.status.busy": "2021-04-29T11:54:34.251301Z",
     "iopub.status.idle": "2021-04-29T11:54:52.163493Z",
     "shell.execute_reply": "2021-04-29T11:54:52.162873Z"
    },
    "papermill": {
     "duration": 17.971524,
     "end_time": "2021-04-29T11:54:52.163653",
     "exception": false,
     "start_time": "2021-04-29T11:54:34.192129",
     "status": "completed"
    },
    "tags": []
   },
   "outputs": [],
   "source": [
    "from itertools import product\n",
    "\n",
    "train = []\n",
    "# Create date_block_num, sop_id, item_id combination\n",
    "for i in sales_train['date_block_num'].unique():\n",
    "    all_shop = sales_train.loc[sales_train['date_block_num']==i, 'shop_id'].unique()\n",
    "    all_item = sales_train.loc[sales_train['date_block_num']==i, 'item_id'].unique()\n",
    "    train.append(np.array(list(product([i], all_shop, all_item))))\n",
    "\n",
    "idx_features = ['date_block_num', 'shop_id', 'item_id'] # base features\n",
    "train = pd.DataFrame(np.vstack(train), columns=idx_features)"
   ]
  },
  {
   "cell_type": "code",
   "execution_count": 22,
   "id": "rough-links",
   "metadata": {
    "execution": {
     "iopub.execute_input": "2021-04-29T11:54:52.274858Z",
     "iopub.status.busy": "2021-04-29T11:54:52.273838Z",
     "iopub.status.idle": "2021-04-29T11:54:57.844583Z",
     "shell.execute_reply": "2021-04-29T11:54:57.843988Z"
    },
    "papermill": {
     "duration": 5.629666,
     "end_time": "2021-04-29T11:54:57.844724",
     "exception": false,
     "start_time": "2021-04-29T11:54:52.215058",
     "status": "completed"
    },
    "tags": []
   },
   "outputs": [
    {
     "data": {
      "text/html": [
       "<div>\n",
       "<style scoped>\n",
       "    .dataframe tbody tr th:only-of-type {\n",
       "        vertical-align: middle;\n",
       "    }\n",
       "\n",
       "    .dataframe tbody tr th {\n",
       "        vertical-align: top;\n",
       "    }\n",
       "\n",
       "    .dataframe thead th {\n",
       "        text-align: right;\n",
       "    }\n",
       "</style>\n",
       "<table border=\"1\" class=\"dataframe\">\n",
       "  <thead>\n",
       "    <tr style=\"text-align: right;\">\n",
       "      <th></th>\n",
       "      <th>date_block_num</th>\n",
       "      <th>shop_id</th>\n",
       "      <th>item_id</th>\n",
       "      <th>item_cnt_month</th>\n",
       "      <th>item_price_mean</th>\n",
       "    </tr>\n",
       "  </thead>\n",
       "  <tbody>\n",
       "    <tr>\n",
       "      <th>0</th>\n",
       "      <td>0</td>\n",
       "      <td>59</td>\n",
       "      <td>22154</td>\n",
       "      <td>1.0</td>\n",
       "      <td>999.0</td>\n",
       "    </tr>\n",
       "    <tr>\n",
       "      <th>1</th>\n",
       "      <td>0</td>\n",
       "      <td>59</td>\n",
       "      <td>2552</td>\n",
       "      <td>NaN</td>\n",
       "      <td>NaN</td>\n",
       "    </tr>\n",
       "    <tr>\n",
       "      <th>2</th>\n",
       "      <td>0</td>\n",
       "      <td>59</td>\n",
       "      <td>2554</td>\n",
       "      <td>NaN</td>\n",
       "      <td>NaN</td>\n",
       "    </tr>\n",
       "    <tr>\n",
       "      <th>3</th>\n",
       "      <td>0</td>\n",
       "      <td>59</td>\n",
       "      <td>2555</td>\n",
       "      <td>NaN</td>\n",
       "      <td>NaN</td>\n",
       "    </tr>\n",
       "    <tr>\n",
       "      <th>4</th>\n",
       "      <td>0</td>\n",
       "      <td>59</td>\n",
       "      <td>2564</td>\n",
       "      <td>NaN</td>\n",
       "      <td>NaN</td>\n",
       "    </tr>\n",
       "  </tbody>\n",
       "</table>\n",
       "</div>"
      ],
      "text/plain": [
       "   date_block_num  shop_id  item_id  item_cnt_month  item_price_mean\n",
       "0               0       59    22154             1.0            999.0\n",
       "1               0       59     2552             NaN              NaN\n",
       "2               0       59     2554             NaN              NaN\n",
       "3               0       59     2555             NaN              NaN\n",
       "4               0       59     2564             NaN              NaN"
      ]
     },
     "execution_count": 22,
     "metadata": {},
     "output_type": "execute_result"
    }
   ],
   "source": [
    "group = sales_train.groupby(idx_features).agg({'item_cnt_day': 'sum',\n",
    "                                               'item_price': 'mean'})\n",
    "group = group.reset_index()\n",
    "group = group.rename(columns={'item_cnt_day': 'item_cnt_month', 'item_price': 'item_price_mean'})\n",
    "\n",
    "train = train.merge(group, on=idx_features, how='left')\n",
    "\n",
    "train.head()"
   ]
  },
  {
   "cell_type": "code",
   "execution_count": 23,
   "id": "secondary-mount",
   "metadata": {
    "execution": {
     "iopub.execute_input": "2021-04-29T11:54:58.042937Z",
     "iopub.status.busy": "2021-04-29T11:54:58.042176Z",
     "iopub.status.idle": "2021-04-29T11:54:58.045254Z",
     "shell.execute_reply": "2021-04-29T11:54:58.044645Z"
    },
    "papermill": {
     "duration": 0.148268,
     "end_time": "2021-04-29T11:54:58.045393",
     "exception": false,
     "start_time": "2021-04-29T11:54:57.897125",
     "status": "completed"
    },
    "tags": []
   },
   "outputs": [],
   "source": [
    "import gc\n",
    "\n",
    "# group variable garbage collection\n",
    "del group\n",
    "gc.collect();"
   ]
  },
  {
   "cell_type": "code",
   "execution_count": 24,
   "id": "external-father",
   "metadata": {
    "execution": {
     "iopub.execute_input": "2021-04-29T11:54:58.157627Z",
     "iopub.status.busy": "2021-04-29T11:54:58.156871Z",
     "iopub.status.idle": "2021-04-29T11:55:02.978782Z",
     "shell.execute_reply": "2021-04-29T11:55:02.979354Z"
    },
    "papermill": {
     "duration": 4.881996,
     "end_time": "2021-04-29T11:55:02.979563",
     "exception": false,
     "start_time": "2021-04-29T11:54:58.097567",
     "status": "completed"
    },
    "tags": []
   },
   "outputs": [
    {
     "data": {
      "text/html": [
       "<div>\n",
       "<style scoped>\n",
       "    .dataframe tbody tr th:only-of-type {\n",
       "        vertical-align: middle;\n",
       "    }\n",
       "\n",
       "    .dataframe tbody tr th {\n",
       "        vertical-align: top;\n",
       "    }\n",
       "\n",
       "    .dataframe thead th {\n",
       "        text-align: right;\n",
       "    }\n",
       "</style>\n",
       "<table border=\"1\" class=\"dataframe\">\n",
       "  <thead>\n",
       "    <tr style=\"text-align: right;\">\n",
       "      <th></th>\n",
       "      <th>date_block_num</th>\n",
       "      <th>shop_id</th>\n",
       "      <th>item_id</th>\n",
       "      <th>item_cnt_month</th>\n",
       "      <th>item_price_mean</th>\n",
       "      <th>item_count</th>\n",
       "    </tr>\n",
       "  </thead>\n",
       "  <tbody>\n",
       "    <tr>\n",
       "      <th>0</th>\n",
       "      <td>0</td>\n",
       "      <td>59</td>\n",
       "      <td>22154</td>\n",
       "      <td>1.0</td>\n",
       "      <td>999.0</td>\n",
       "      <td>1.0</td>\n",
       "    </tr>\n",
       "    <tr>\n",
       "      <th>1</th>\n",
       "      <td>0</td>\n",
       "      <td>59</td>\n",
       "      <td>2552</td>\n",
       "      <td>NaN</td>\n",
       "      <td>NaN</td>\n",
       "      <td>NaN</td>\n",
       "    </tr>\n",
       "    <tr>\n",
       "      <th>2</th>\n",
       "      <td>0</td>\n",
       "      <td>59</td>\n",
       "      <td>2554</td>\n",
       "      <td>NaN</td>\n",
       "      <td>NaN</td>\n",
       "      <td>NaN</td>\n",
       "    </tr>\n",
       "    <tr>\n",
       "      <th>3</th>\n",
       "      <td>0</td>\n",
       "      <td>59</td>\n",
       "      <td>2555</td>\n",
       "      <td>NaN</td>\n",
       "      <td>NaN</td>\n",
       "      <td>NaN</td>\n",
       "    </tr>\n",
       "    <tr>\n",
       "      <th>4</th>\n",
       "      <td>0</td>\n",
       "      <td>59</td>\n",
       "      <td>2564</td>\n",
       "      <td>NaN</td>\n",
       "      <td>NaN</td>\n",
       "      <td>NaN</td>\n",
       "    </tr>\n",
       "  </tbody>\n",
       "</table>\n",
       "</div>"
      ],
      "text/plain": [
       "   date_block_num  shop_id  item_id  item_cnt_month  item_price_mean  \\\n",
       "0               0       59    22154             1.0            999.0   \n",
       "1               0       59     2552             NaN              NaN   \n",
       "2               0       59     2554             NaN              NaN   \n",
       "3               0       59     2555             NaN              NaN   \n",
       "4               0       59     2564             NaN              NaN   \n",
       "\n",
       "   item_count  \n",
       "0         1.0  \n",
       "1         NaN  \n",
       "2         NaN  \n",
       "3         NaN  \n",
       "4         NaN  "
      ]
     },
     "execution_count": 24,
     "metadata": {},
     "output_type": "execute_result"
    }
   ],
   "source": [
    "# Add a feature for the number of items sold\n",
    "group = sales_train.groupby(idx_features).agg({'item_cnt_day': 'count'})\n",
    "group = group.reset_index()\n",
    "group = group.rename(columns={'item_cnt_day': 'item_count'})\n",
    "\n",
    "train = train.merge(group, on=idx_features, how='left')\n",
    "\n",
    "# Garbage collection\n",
    "del group, sales_train\n",
    "gc.collect()\n",
    "\n",
    "train.head()"
   ]
  },
  {
   "cell_type": "markdown",
   "id": "later-substitute",
   "metadata": {
    "papermill": {
     "duration": 0.053258,
     "end_time": "2021-04-29T11:55:03.085387",
     "exception": false,
     "start_time": "2021-04-29T11:55:03.032129",
     "status": "completed"
    },
    "tags": []
   },
   "source": [
    "### Concatenate test data, Merge remaining data"
   ]
  },
  {
   "cell_type": "code",
   "execution_count": 25,
   "id": "champion-trust",
   "metadata": {
    "execution": {
     "iopub.execute_input": "2021-04-29T11:55:03.198360Z",
     "iopub.status.busy": "2021-04-29T11:55:03.197668Z",
     "iopub.status.idle": "2021-04-29T11:55:03.827723Z",
     "shell.execute_reply": "2021-04-29T11:55:03.828189Z"
    },
    "papermill": {
     "duration": 0.689137,
     "end_time": "2021-04-29T11:55:03.828372",
     "exception": false,
     "start_time": "2021-04-29T11:55:03.139235",
     "status": "completed"
    },
    "tags": []
   },
   "outputs": [
    {
     "data": {
      "text/html": [
       "<div>\n",
       "<style scoped>\n",
       "    .dataframe tbody tr th:only-of-type {\n",
       "        vertical-align: middle;\n",
       "    }\n",
       "\n",
       "    .dataframe tbody tr th {\n",
       "        vertical-align: top;\n",
       "    }\n",
       "\n",
       "    .dataframe thead th {\n",
       "        text-align: right;\n",
       "    }\n",
       "</style>\n",
       "<table border=\"1\" class=\"dataframe\">\n",
       "  <thead>\n",
       "    <tr style=\"text-align: right;\">\n",
       "      <th></th>\n",
       "      <th>date_block_num</th>\n",
       "      <th>shop_id</th>\n",
       "      <th>item_id</th>\n",
       "      <th>item_cnt_month</th>\n",
       "      <th>item_price_mean</th>\n",
       "      <th>item_count</th>\n",
       "    </tr>\n",
       "  </thead>\n",
       "  <tbody>\n",
       "    <tr>\n",
       "      <th>0</th>\n",
       "      <td>0</td>\n",
       "      <td>59</td>\n",
       "      <td>22154</td>\n",
       "      <td>1.0</td>\n",
       "      <td>999.0</td>\n",
       "      <td>1.0</td>\n",
       "    </tr>\n",
       "    <tr>\n",
       "      <th>1</th>\n",
       "      <td>0</td>\n",
       "      <td>59</td>\n",
       "      <td>2552</td>\n",
       "      <td>0.0</td>\n",
       "      <td>0.0</td>\n",
       "      <td>0.0</td>\n",
       "    </tr>\n",
       "    <tr>\n",
       "      <th>2</th>\n",
       "      <td>0</td>\n",
       "      <td>59</td>\n",
       "      <td>2554</td>\n",
       "      <td>0.0</td>\n",
       "      <td>0.0</td>\n",
       "      <td>0.0</td>\n",
       "    </tr>\n",
       "    <tr>\n",
       "      <th>3</th>\n",
       "      <td>0</td>\n",
       "      <td>59</td>\n",
       "      <td>2555</td>\n",
       "      <td>0.0</td>\n",
       "      <td>0.0</td>\n",
       "      <td>0.0</td>\n",
       "    </tr>\n",
       "    <tr>\n",
       "      <th>4</th>\n",
       "      <td>0</td>\n",
       "      <td>59</td>\n",
       "      <td>2564</td>\n",
       "      <td>0.0</td>\n",
       "      <td>0.0</td>\n",
       "      <td>0.0</td>\n",
       "    </tr>\n",
       "  </tbody>\n",
       "</table>\n",
       "</div>"
      ],
      "text/plain": [
       "   date_block_num  shop_id  item_id  item_cnt_month  item_price_mean  \\\n",
       "0               0       59    22154             1.0            999.0   \n",
       "1               0       59     2552             0.0              0.0   \n",
       "2               0       59     2554             0.0              0.0   \n",
       "3               0       59     2555             0.0              0.0   \n",
       "4               0       59     2564             0.0              0.0   \n",
       "\n",
       "   item_count  \n",
       "0         1.0  \n",
       "1         0.0  \n",
       "2         0.0  \n",
       "3         0.0  \n",
       "4         0.0  "
      ]
     },
     "execution_count": 25,
     "metadata": {},
     "output_type": "execute_result"
    }
   ],
   "source": [
    "# Set test data date_block_num to 34\n",
    "test['date_block_num'] = 34\n",
    "\n",
    "# Concatenate train and test\n",
    "all_data = pd.concat([train, test.drop('ID', axis=1)],\n",
    "                     ignore_index=True,\n",
    "                     keys=idx_features)\n",
    "# Replace NaN with 0\n",
    "all_data = all_data.fillna(0)\n",
    "\n",
    "all_data.head()"
   ]
  },
  {
   "cell_type": "code",
   "execution_count": 26,
   "id": "acting-courage",
   "metadata": {
    "execution": {
     "iopub.execute_input": "2021-04-29T11:55:03.940162Z",
     "iopub.status.busy": "2021-04-29T11:55:03.939463Z",
     "iopub.status.idle": "2021-04-29T11:55:10.946773Z",
     "shell.execute_reply": "2021-04-29T11:55:10.947285Z"
    },
    "papermill": {
     "duration": 7.065068,
     "end_time": "2021-04-29T11:55:10.947448",
     "exception": false,
     "start_time": "2021-04-29T11:55:03.882380",
     "status": "completed"
    },
    "tags": []
   },
   "outputs": [
    {
     "name": "stdout",
     "output_type": "stream",
     "text": [
      "64.6% compressed\n"
     ]
    }
   ],
   "source": [
    "# Merge other data\n",
    "all_data = all_data.merge(shops, on='shop_id', how='left')\n",
    "all_data = all_data.merge(items, on='item_id', how='left')\n",
    "all_data = all_data.merge(item_categories, on='item_category_id', how='left')\n",
    "\n",
    "# Data downcasting\n",
    "all_data = downcast(all_data)\n",
    "\n",
    "# Garbage collection\n",
    "del shops, items, item_categories\n",
    "gc.collect();"
   ]
  },
  {
   "cell_type": "markdown",
   "id": "wireless-deadline",
   "metadata": {
    "papermill": {
     "duration": 0.053875,
     "end_time": "2021-04-29T11:55:11.055754",
     "exception": false,
     "start_time": "2021-04-29T11:55:11.001879",
     "status": "completed"
    },
    "tags": []
   },
   "source": [
    "### Feature summary"
   ]
  },
  {
   "cell_type": "code",
   "execution_count": 27,
   "id": "divided-netscape",
   "metadata": {
    "execution": {
     "iopub.execute_input": "2021-04-29T11:55:11.173325Z",
     "iopub.status.busy": "2021-04-29T11:55:11.172338Z",
     "iopub.status.idle": "2021-04-29T11:55:11.175743Z",
     "shell.execute_reply": "2021-04-29T11:55:11.175117Z"
    },
    "papermill": {
     "duration": 0.064167,
     "end_time": "2021-04-29T11:55:11.175893",
     "exception": false,
     "start_time": "2021-04-29T11:55:11.111726",
     "status": "completed"
    },
    "tags": []
   },
   "outputs": [],
   "source": [
    "def resumetable(df):\n",
    "    print(f'Data Shape: {df.shape}')\n",
    "    summary = pd.DataFrame(df.dtypes, columns=['Dtypes'])\n",
    "    summary['Null'] = df.isnull().sum().values\n",
    "    summary['Uniques'] = df.nunique().values\n",
    "    summary['First_values'] = df.loc[0].values\n",
    "    summary['Second_values'] = df.loc[1].values\n",
    "    summary['Third_values'] = df.loc[2].values\n",
    "    \n",
    "    return summary"
   ]
  },
  {
   "cell_type": "code",
   "execution_count": 28,
   "id": "structured-preference",
   "metadata": {
    "execution": {
     "iopub.execute_input": "2021-04-29T11:55:11.287673Z",
     "iopub.status.busy": "2021-04-29T11:55:11.286927Z",
     "iopub.status.idle": "2021-04-29T11:55:12.869714Z",
     "shell.execute_reply": "2021-04-29T11:55:12.869113Z"
    },
    "papermill": {
     "duration": 1.639549,
     "end_time": "2021-04-29T11:55:12.869856",
     "exception": false,
     "start_time": "2021-04-29T11:55:11.230307",
     "status": "completed"
    },
    "tags": []
   },
   "outputs": [
    {
     "name": "stdout",
     "output_type": "stream",
     "text": [
      "Data Shape: (8856961, 10)\n"
     ]
    },
    {
     "data": {
      "text/html": [
       "<div>\n",
       "<style scoped>\n",
       "    .dataframe tbody tr th:only-of-type {\n",
       "        vertical-align: middle;\n",
       "    }\n",
       "\n",
       "    .dataframe tbody tr th {\n",
       "        vertical-align: top;\n",
       "    }\n",
       "\n",
       "    .dataframe thead th {\n",
       "        text-align: right;\n",
       "    }\n",
       "</style>\n",
       "<table border=\"1\" class=\"dataframe\">\n",
       "  <thead>\n",
       "    <tr style=\"text-align: right;\">\n",
       "      <th></th>\n",
       "      <th>Dtypes</th>\n",
       "      <th>Null</th>\n",
       "      <th>Uniques</th>\n",
       "      <th>First_values</th>\n",
       "      <th>Second_values</th>\n",
       "      <th>Third_values</th>\n",
       "    </tr>\n",
       "  </thead>\n",
       "  <tbody>\n",
       "    <tr>\n",
       "      <th>date_block_num</th>\n",
       "      <td>int8</td>\n",
       "      <td>0</td>\n",
       "      <td>35</td>\n",
       "      <td>0.0</td>\n",
       "      <td>0.0</td>\n",
       "      <td>0.0</td>\n",
       "    </tr>\n",
       "    <tr>\n",
       "      <th>shop_id</th>\n",
       "      <td>int8</td>\n",
       "      <td>0</td>\n",
       "      <td>42</td>\n",
       "      <td>59.0</td>\n",
       "      <td>59.0</td>\n",
       "      <td>59.0</td>\n",
       "    </tr>\n",
       "    <tr>\n",
       "      <th>item_id</th>\n",
       "      <td>int16</td>\n",
       "      <td>0</td>\n",
       "      <td>21464</td>\n",
       "      <td>22154.0</td>\n",
       "      <td>2552.0</td>\n",
       "      <td>2554.0</td>\n",
       "    </tr>\n",
       "    <tr>\n",
       "      <th>item_cnt_month</th>\n",
       "      <td>int16</td>\n",
       "      <td>0</td>\n",
       "      <td>407</td>\n",
       "      <td>1.0</td>\n",
       "      <td>0.0</td>\n",
       "      <td>0.0</td>\n",
       "    </tr>\n",
       "    <tr>\n",
       "      <th>item_price_mean</th>\n",
       "      <td>float32</td>\n",
       "      <td>0</td>\n",
       "      <td>34147</td>\n",
       "      <td>999.0</td>\n",
       "      <td>0.0</td>\n",
       "      <td>0.0</td>\n",
       "    </tr>\n",
       "    <tr>\n",
       "      <th>item_count</th>\n",
       "      <td>int8</td>\n",
       "      <td>0</td>\n",
       "      <td>40</td>\n",
       "      <td>1.0</td>\n",
       "      <td>0.0</td>\n",
       "      <td>0.0</td>\n",
       "    </tr>\n",
       "    <tr>\n",
       "      <th>city</th>\n",
       "      <td>int8</td>\n",
       "      <td>0</td>\n",
       "      <td>28</td>\n",
       "      <td>30.0</td>\n",
       "      <td>30.0</td>\n",
       "      <td>30.0</td>\n",
       "    </tr>\n",
       "    <tr>\n",
       "      <th>item_category_id</th>\n",
       "      <td>int8</td>\n",
       "      <td>0</td>\n",
       "      <td>84</td>\n",
       "      <td>37.0</td>\n",
       "      <td>58.0</td>\n",
       "      <td>58.0</td>\n",
       "    </tr>\n",
       "    <tr>\n",
       "      <th>first_sale_date</th>\n",
       "      <td>int8</td>\n",
       "      <td>0</td>\n",
       "      <td>35</td>\n",
       "      <td>0.0</td>\n",
       "      <td>0.0</td>\n",
       "      <td>0.0</td>\n",
       "    </tr>\n",
       "    <tr>\n",
       "      <th>category</th>\n",
       "      <td>int8</td>\n",
       "      <td>0</td>\n",
       "      <td>10</td>\n",
       "      <td>5.0</td>\n",
       "      <td>7.0</td>\n",
       "      <td>7.0</td>\n",
       "    </tr>\n",
       "  </tbody>\n",
       "</table>\n",
       "</div>"
      ],
      "text/plain": [
       "                   Dtypes  Null  Uniques  First_values  Second_values  \\\n",
       "date_block_num       int8     0       35           0.0            0.0   \n",
       "shop_id              int8     0       42          59.0           59.0   \n",
       "item_id             int16     0    21464       22154.0         2552.0   \n",
       "item_cnt_month      int16     0      407           1.0            0.0   \n",
       "item_price_mean   float32     0    34147         999.0            0.0   \n",
       "item_count           int8     0       40           1.0            0.0   \n",
       "city                 int8     0       28          30.0           30.0   \n",
       "item_category_id     int8     0       84          37.0           58.0   \n",
       "first_sale_date      int8     0       35           0.0            0.0   \n",
       "category             int8     0       10           5.0            7.0   \n",
       "\n",
       "                  Third_values  \n",
       "date_block_num             0.0  \n",
       "shop_id                   59.0  \n",
       "item_id                 2554.0  \n",
       "item_cnt_month             0.0  \n",
       "item_price_mean            0.0  \n",
       "item_count                 0.0  \n",
       "city                      30.0  \n",
       "item_category_id          58.0  \n",
       "first_sale_date            0.0  \n",
       "category                   7.0  "
      ]
     },
     "execution_count": 28,
     "metadata": {},
     "output_type": "execute_result"
    }
   ],
   "source": [
    "resumetable(all_data)"
   ]
  },
  {
   "cell_type": "markdown",
   "id": "latin-paper",
   "metadata": {
    "papermill": {
     "duration": 0.054732,
     "end_time": "2021-04-29T11:55:12.979454",
     "exception": false,
     "start_time": "2021-04-29T11:55:12.924722",
     "status": "completed"
    },
    "tags": []
   },
   "source": [
    "## Visualization"
   ]
  },
  {
   "cell_type": "code",
   "execution_count": 29,
   "id": "scheduled-jimmy",
   "metadata": {
    "execution": {
     "iopub.execute_input": "2021-04-29T11:55:13.099872Z",
     "iopub.status.busy": "2021-04-29T11:55:13.099196Z",
     "iopub.status.idle": "2021-04-29T11:55:13.860278Z",
     "shell.execute_reply": "2021-04-29T11:55:13.860734Z"
    },
    "papermill": {
     "duration": 0.825787,
     "end_time": "2021-04-29T11:55:13.860908",
     "exception": false,
     "start_time": "2021-04-29T11:55:13.035121",
     "status": "completed"
    },
    "tags": []
   },
   "outputs": [
    {
     "data": {
      "image/png": "[encoded data removed]",
      "text/plain": [
       "<Figure size 792x360 with 1 Axes>"
      ]
     },
     "metadata": {
      "needs_background": "light"
     },
     "output_type": "display_data"
    }
   ],
   "source": [
    "import seaborn as sns\n",
    "import matplotlib as mpl\n",
    "import matplotlib.pyplot as plt\n",
    "%matplotlib inline\n",
    "\n",
    "mpl.rc('font', size=13)\n",
    "figure, ax = plt.subplots() \n",
    "figure.set_size_inches(11, 5)\n",
    "\n",
    "# total montly item sales\n",
    "group_month_sum = all_data.groupby('date_block_num').agg({'item_cnt_month': 'sum'})\n",
    "group_month_sum = group_month_sum.reset_index()\n",
    "\n",
    "sns.barplot(x='date_block_num', y='item_cnt_month', data=group_month_sum)\n",
    "ax.set(title='Distribution of monthly item counts by date block number',\n",
    "       xlabel='Date block number', \n",
    "       ylabel='Monthly item counts');"
   ]
  },
  {
   "cell_type": "code",
   "execution_count": 30,
   "id": "duplicate-bahamas",
   "metadata": {
    "execution": {
     "iopub.execute_input": "2021-04-29T11:55:14.007289Z",
     "iopub.status.busy": "2021-04-29T11:55:14.002213Z",
     "iopub.status.idle": "2021-04-29T11:55:14.690930Z",
     "shell.execute_reply": "2021-04-29T11:55:14.690310Z"
    },
    "papermill": {
     "duration": 0.772704,
     "end_time": "2021-04-29T11:55:14.691092",
     "exception": false,
     "start_time": "2021-04-29T11:55:13.918388",
     "status": "completed"
    },
    "tags": []
   },
   "outputs": [
    {
     "data": {
      "image/png": "[encoded data removed]",
      "text/plain": [
       "<Figure size 792x360 with 1 Axes>"
      ]
     },
     "metadata": {
      "needs_background": "light"
     },
     "output_type": "display_data"
    }
   ],
   "source": [
    "figure, ax= plt.subplots() \n",
    "figure.set_size_inches(11, 5)\n",
    "\n",
    "# Total item sales by item_category_id\n",
    "group_cat_sum = all_data.groupby('item_category_id').agg({'item_cnt_month': 'sum'})\n",
    "group_cat_sum = group_cat_sum.reset_index()\n",
    "\n",
    "# Extract only item categories with total sales > 10,000\n",
    "group_cat_sum = group_cat_sum[group_cat_sum['item_cnt_month'] > 10000]\n",
    "\n",
    "sns.barplot(x='item_category_id', y='item_cnt_month', data=group_cat_sum)\n",
    "ax.set(title='Distribution of total item counts by item category id',\n",
    "       xlabel='Item category ID', \n",
    "       ylabel='Total item counts')\n",
    "ax.tick_params(axis='x', labelrotation=90) # Rotate X label"
   ]
  },
  {
   "cell_type": "code",
   "execution_count": 31,
   "id": "hired-devon",
   "metadata": {
    "execution": {
     "iopub.execute_input": "2021-04-29T11:55:14.841250Z",
     "iopub.status.busy": "2021-04-29T11:55:14.839961Z",
     "iopub.status.idle": "2021-04-29T11:55:15.528617Z",
     "shell.execute_reply": "2021-04-29T11:55:15.528046Z"
    },
    "papermill": {
     "duration": 0.779915,
     "end_time": "2021-04-29T11:55:15.528766",
     "exception": false,
     "start_time": "2021-04-29T11:55:14.748851",
     "status": "completed"
    },
    "tags": []
   },
   "outputs": [
    {
     "data": {
      "image/png": "[encoded data removed]",
      "text/plain": [
       "<Figure size 792x360 with 1 Axes>"
      ]
     },
     "metadata": {
      "needs_background": "light"
     },
     "output_type": "display_data"
    }
   ],
   "source": [
    "figure, ax= plt.subplots() \n",
    "figure.set_size_inches(11, 5)\n",
    "\n",
    "# Total item sales by shop_id\n",
    "group_shop_sum = all_data.groupby('shop_id').agg({'item_cnt_month': 'sum'})\n",
    "group_shop_sum = group_shop_sum.reset_index()\n",
    "\n",
    "group_shop_sum = group_shop_sum[group_shop_sum['item_cnt_month'] > 10000]\n",
    "\n",
    "sns.barplot(x='shop_id', y='item_cnt_month', data=group_shop_sum)\n",
    "ax.set(title='Distribution of total item counts by shop id',\n",
    "       xlabel='Shop ID', \n",
    "       ylabel='Total item counts')\n",
    "ax.tick_params(axis='x', labelrotation=90)"
   ]
  },
  {
   "cell_type": "markdown",
   "id": "young-freeze",
   "metadata": {
    "papermill": {
     "duration": 0.057952,
     "end_time": "2021-04-29T11:55:15.645582",
     "exception": false,
     "start_time": "2021-04-29T11:55:15.587630",
     "status": "completed"
    },
    "tags": []
   },
   "source": [
    "## Feature Engineering II - Create Lag features "
   ]
  },
  {
   "cell_type": "markdown",
   "id": "legitimate-pendant",
   "metadata": {
    "papermill": {
     "duration": 0.059061,
     "end_time": "2021-04-29T11:55:15.762984",
     "exception": false,
     "start_time": "2021-04-29T11:55:15.703923",
     "status": "completed"
    },
    "tags": []
   },
   "source": [
    "### Create Average Monthly Sales Derived Feature by Base Feature"
   ]
  },
  {
   "cell_type": "code",
   "execution_count": 32,
   "id": "armed-smell",
   "metadata": {
    "execution": {
     "iopub.execute_input": "2021-04-29T11:55:15.894419Z",
     "iopub.status.busy": "2021-04-29T11:55:15.893564Z",
     "iopub.status.idle": "2021-04-29T11:55:15.896559Z",
     "shell.execute_reply": "2021-04-29T11:55:15.895919Z"
    },
    "papermill": {
     "duration": 0.071015,
     "end_time": "2021-04-29T11:55:15.896697",
     "exception": false,
     "start_time": "2021-04-29T11:55:15.825682",
     "status": "completed"
    },
    "tags": []
   },
   "outputs": [],
   "source": [
    "def add_mean_features(df, mean_features, idx_features):\n",
    "    # Check base features\n",
    "    # the assert statement is used to continue the execute if the given condition evaluates to True.\n",
    "    assert (idx_features[0] == 'date_block_num') and \\\n",
    "           len(idx_features) in [2, 3]\n",
    "    \n",
    "    # Set derived feature name \n",
    "    if len(idx_features) == 2:\n",
    "        feature_name = idx_features[1] + '_mean_sales'\n",
    "    else:\n",
    "        feature_name = idx_features[1] + '_' + idx_features[2] + '_mean_sales'\n",
    "    \n",
    "    # Get average monthly sales by grouping based on base features\n",
    "    group = df.groupby(idx_features).agg({'item_cnt_month': 'mean'})\n",
    "    group = group.reset_index()\n",
    "    group = group.rename(columns={'item_cnt_month': feature_name})\n",
    "    \n",
    "    # Merge df with group based on idx_features\n",
    "    df = df.merge(group, on=idx_features, how='left')\n",
    "    # Date downcasting\n",
    "    df = downcast(df, False)\n",
    "    # Append newly created mean_feature_name features to the mean_features list\n",
    "    mean_features.append(feature_name)\n",
    "    \n",
    "    # Garbage collection\n",
    "    del group\n",
    "    gc.collect()\n",
    "    \n",
    "    return df, mean_features"
   ]
  },
  {
   "cell_type": "code",
   "execution_count": 33,
   "id": "effective-easter",
   "metadata": {
    "execution": {
     "iopub.execute_input": "2021-04-29T11:55:16.022859Z",
     "iopub.status.busy": "2021-04-29T11:55:16.022186Z",
     "iopub.status.idle": "2021-04-29T11:55:28.512399Z",
     "shell.execute_reply": "2021-04-29T11:55:28.511744Z"
    },
    "papermill": {
     "duration": 12.556801,
     "end_time": "2021-04-29T11:55:28.512557",
     "exception": false,
     "start_time": "2021-04-29T11:55:15.955756",
     "status": "completed"
    },
    "tags": []
   },
   "outputs": [],
   "source": [
    "# List of derived features containing 'item_id' in the grouping base features\n",
    "item_mean_features = []\n",
    "\n",
    "\n",
    "# Create monthly average sales derived features grouped by ['date_block_num', 'item_id']\n",
    "all_data, item_mean_features = add_mean_features(df=all_data,\n",
    "                                                 mean_features=item_mean_features,\n",
    "                                                 idx_features=['date_block_num', 'item_id'])\n",
    "\n",
    "# Create monthly average sales derived features grouped by ['date_block_num', 'item_id', 'city']\n",
    "all_data, item_mean_features = add_mean_features(df=all_data,\n",
    "                                                 mean_features=item_mean_features,\n",
    "                                                 idx_features=['date_block_num', 'item_id', 'city'])"
   ]
  },
  {
   "cell_type": "code",
   "execution_count": 34,
   "id": "third-advice",
   "metadata": {
    "execution": {
     "iopub.execute_input": "2021-04-29T11:55:28.639698Z",
     "iopub.status.busy": "2021-04-29T11:55:28.639013Z",
     "iopub.status.idle": "2021-04-29T11:55:28.643545Z",
     "shell.execute_reply": "2021-04-29T11:55:28.642940Z"
    },
    "papermill": {
     "duration": 0.070066,
     "end_time": "2021-04-29T11:55:28.643690",
     "exception": false,
     "start_time": "2021-04-29T11:55:28.573624",
     "status": "completed"
    },
    "tags": []
   },
   "outputs": [
    {
     "data": {
      "text/plain": [
       "['item_id_mean_sales', 'item_id_city_mean_sales']"
      ]
     },
     "execution_count": 34,
     "metadata": {},
     "output_type": "execute_result"
    }
   ],
   "source": [
    "item_mean_features"
   ]
  },
  {
   "cell_type": "code",
   "execution_count": 35,
   "id": "promotional-cheese",
   "metadata": {
    "execution": {
     "iopub.execute_input": "2021-04-29T11:55:28.771509Z",
     "iopub.status.busy": "2021-04-29T11:55:28.770834Z",
     "iopub.status.idle": "2021-04-29T11:55:31.647653Z",
     "shell.execute_reply": "2021-04-29T11:55:31.648189Z"
    },
    "papermill": {
     "duration": 2.943241,
     "end_time": "2021-04-29T11:55:31.648444",
     "exception": false,
     "start_time": "2021-04-29T11:55:28.705203",
     "status": "completed"
    },
    "tags": []
   },
   "outputs": [],
   "source": [
    "# List of derived features containing 'shop_id' in the grouping base features\n",
    "shop_mean_features = []\n",
    "\n",
    "# Create monthly average sales derived features grouped by ['date_block_num', 'shop_id', 'item_category_id']\n",
    "all_data, shop_mean_features = add_mean_features(df=all_data, \n",
    "                                                 mean_features=shop_mean_features,\n",
    "                                                 idx_features=['date_block_num', 'shop_id', 'item_category_id'])"
   ]
  },
  {
   "cell_type": "code",
   "execution_count": 36,
   "id": "muslim-avenue",
   "metadata": {
    "execution": {
     "iopub.execute_input": "2021-04-29T11:55:31.770692Z",
     "iopub.status.busy": "2021-04-29T11:55:31.770003Z",
     "iopub.status.idle": "2021-04-29T11:55:31.774377Z",
     "shell.execute_reply": "2021-04-29T11:55:31.774819Z"
    },
    "papermill": {
     "duration": 0.067145,
     "end_time": "2021-04-29T11:55:31.775008",
     "exception": false,
     "start_time": "2021-04-29T11:55:31.707863",
     "status": "completed"
    },
    "tags": []
   },
   "outputs": [
    {
     "data": {
      "text/plain": [
       "['shop_id_item_category_id_mean_sales']"
      ]
     },
     "execution_count": 36,
     "metadata": {},
     "output_type": "execute_result"
    }
   ],
   "source": [
    "shop_mean_features"
   ]
  },
  {
   "cell_type": "markdown",
   "id": "cutting-sherman",
   "metadata": {
    "papermill": {
     "duration": 0.059896,
     "end_time": "2021-04-29T11:55:31.895789",
     "exception": false,
     "start_time": "2021-04-29T11:55:31.835893",
     "status": "completed"
    },
    "tags": []
   },
   "source": [
    "### Create Lag Features"
   ]
  },
  {
   "cell_type": "code",
   "execution_count": 37,
   "id": "adult-savings",
   "metadata": {
    "execution": {
     "iopub.execute_input": "2021-04-29T11:55:32.022896Z",
     "iopub.status.busy": "2021-04-29T11:55:32.022195Z",
     "iopub.status.idle": "2021-04-29T11:55:32.029986Z",
     "shell.execute_reply": "2021-04-29T11:55:32.030500Z"
    },
    "papermill": {
     "duration": 0.073098,
     "end_time": "2021-04-29T11:55:32.030693",
     "exception": false,
     "start_time": "2021-04-29T11:55:31.957595",
     "status": "completed"
    },
    "tags": []
   },
   "outputs": [],
   "source": [
    "def add_lag_features(df, lag_features_to_clip, idx_features, \n",
    "                     lag_feature, nlags=3, clip=False):\n",
    "    # Copy only the part of the DataFrame needed to create the lag features\n",
    "    df_temp = df[idx_features + [lag_feature]].copy() \n",
    "\n",
    "    # Create lag features\n",
    "    for i in range(1, nlags+1):\n",
    "        # Lag featrue name\n",
    "        lag_feature_name = lag_feature +'_lag' + str(i)\n",
    "        # Set df_temp column name\n",
    "        df_temp.columns = idx_features + [lag_feature_name]\n",
    "        # Add 1 to date_block_num feature in df_temp\n",
    "        df_temp['date_block_num'] += i\n",
    "        # Merge df with df_temp based on idx_feature\n",
    "        df = df.merge(df_temp.drop_duplicates(), \n",
    "                      on=idx_features, \n",
    "                      how='left')\n",
    "        # Replace NaN with 0\n",
    "        df[lag_feature_name] = df[lag_feature_name].fillna(0)\n",
    "        # Add lag features to lag_features_to_clip to clip between 0 and 20\n",
    "        if clip: \n",
    "            lag_features_to_clip.append(lag_feature_name)\n",
    "    \n",
    "    # Date downcasting\n",
    "    df = downcast(df, False)\n",
    "    # Garbage collection\n",
    "    del df_temp\n",
    "    gc.collect()\n",
    "    \n",
    "    return df, lag_features_to_clip"
   ]
  },
  {
   "cell_type": "code",
   "execution_count": 38,
   "id": "deluxe-collins",
   "metadata": {
    "execution": {
     "iopub.execute_input": "2021-04-29T11:55:32.155598Z",
     "iopub.status.busy": "2021-04-29T11:55:32.154765Z",
     "iopub.status.idle": "2021-04-29T11:56:00.802548Z",
     "shell.execute_reply": "2021-04-29T11:56:00.801922Z"
    },
    "papermill": {
     "duration": 28.711307,
     "end_time": "2021-04-29T11:56:00.802709",
     "exception": false,
     "start_time": "2021-04-29T11:55:32.091402",
     "status": "completed"
    },
    "tags": []
   },
   "outputs": [],
   "source": [
    "lag_features_to_clip = [] # list of lag features to be clipped to between 0 to 20 \n",
    "idx_features = ['date_block_num', 'shop_id', 'item_id'] # base features\n",
    "\n",
    "# Create 3 month lag features of item_cnt_month based on idx_features\n",
    "all_data, lag_features_to_clip = add_lag_features(df=all_data, \n",
    "                                                  lag_features_to_clip=lag_features_to_clip,\n",
    "                                                  idx_features=idx_features,\n",
    "                                                  lag_feature='item_cnt_month', \n",
    "                                                  nlags=3,\n",
    "                                                  clip=True)"
   ]
  },
  {
   "cell_type": "code",
   "execution_count": 39,
   "id": "photographic-interference",
   "metadata": {
    "execution": {
     "iopub.execute_input": "2021-04-29T11:56:00.941513Z",
     "iopub.status.busy": "2021-04-29T11:56:00.940528Z",
     "iopub.status.idle": "2021-04-29T11:56:00.946024Z",
     "shell.execute_reply": "2021-04-29T11:56:00.945390Z"
    },
    "papermill": {
     "duration": 0.082486,
     "end_time": "2021-04-29T11:56:00.946183",
     "exception": false,
     "start_time": "2021-04-29T11:56:00.863697",
     "status": "completed"
    },
    "tags": []
   },
   "outputs": [
    {
     "data": {
      "text/html": [
       "<div>\n",
       "<style scoped>\n",
       "    .dataframe tbody tr th:only-of-type {\n",
       "        vertical-align: middle;\n",
       "    }\n",
       "\n",
       "    .dataframe tbody tr th {\n",
       "        vertical-align: top;\n",
       "    }\n",
       "\n",
       "    .dataframe thead th {\n",
       "        text-align: right;\n",
       "    }\n",
       "</style>\n",
       "<table border=\"1\" class=\"dataframe\">\n",
       "  <thead>\n",
       "    <tr style=\"text-align: right;\">\n",
       "      <th></th>\n",
       "      <th>0</th>\n",
       "      <th>1</th>\n",
       "      <th>2</th>\n",
       "      <th>3</th>\n",
       "      <th>4</th>\n",
       "    </tr>\n",
       "  </thead>\n",
       "  <tbody>\n",
       "    <tr>\n",
       "      <th>date_block_num</th>\n",
       "      <td>0.000000</td>\n",
       "      <td>0.000000</td>\n",
       "      <td>0.000000</td>\n",
       "      <td>0.000000</td>\n",
       "      <td>0.000000</td>\n",
       "    </tr>\n",
       "    <tr>\n",
       "      <th>shop_id</th>\n",
       "      <td>59.000000</td>\n",
       "      <td>59.000000</td>\n",
       "      <td>59.000000</td>\n",
       "      <td>59.000000</td>\n",
       "      <td>59.000000</td>\n",
       "    </tr>\n",
       "    <tr>\n",
       "      <th>item_id</th>\n",
       "      <td>22154.000000</td>\n",
       "      <td>2552.000000</td>\n",
       "      <td>2554.000000</td>\n",
       "      <td>2555.000000</td>\n",
       "      <td>2564.000000</td>\n",
       "    </tr>\n",
       "    <tr>\n",
       "      <th>item_cnt_month</th>\n",
       "      <td>1.000000</td>\n",
       "      <td>0.000000</td>\n",
       "      <td>0.000000</td>\n",
       "      <td>0.000000</td>\n",
       "      <td>0.000000</td>\n",
       "    </tr>\n",
       "    <tr>\n",
       "      <th>item_price_mean</th>\n",
       "      <td>999.000000</td>\n",
       "      <td>0.000000</td>\n",
       "      <td>0.000000</td>\n",
       "      <td>0.000000</td>\n",
       "      <td>0.000000</td>\n",
       "    </tr>\n",
       "    <tr>\n",
       "      <th>item_count</th>\n",
       "      <td>1.000000</td>\n",
       "      <td>0.000000</td>\n",
       "      <td>0.000000</td>\n",
       "      <td>0.000000</td>\n",
       "      <td>0.000000</td>\n",
       "    </tr>\n",
       "    <tr>\n",
       "      <th>city</th>\n",
       "      <td>30.000000</td>\n",
       "      <td>30.000000</td>\n",
       "      <td>30.000000</td>\n",
       "      <td>30.000000</td>\n",
       "      <td>30.000000</td>\n",
       "    </tr>\n",
       "    <tr>\n",
       "      <th>item_category_id</th>\n",
       "      <td>37.000000</td>\n",
       "      <td>58.000000</td>\n",
       "      <td>58.000000</td>\n",
       "      <td>56.000000</td>\n",
       "      <td>59.000000</td>\n",
       "    </tr>\n",
       "    <tr>\n",
       "      <th>first_sale_date</th>\n",
       "      <td>0.000000</td>\n",
       "      <td>0.000000</td>\n",
       "      <td>0.000000</td>\n",
       "      <td>0.000000</td>\n",
       "      <td>0.000000</td>\n",
       "    </tr>\n",
       "    <tr>\n",
       "      <th>category</th>\n",
       "      <td>5.000000</td>\n",
       "      <td>7.000000</td>\n",
       "      <td>7.000000</td>\n",
       "      <td>7.000000</td>\n",
       "      <td>7.000000</td>\n",
       "    </tr>\n",
       "    <tr>\n",
       "      <th>item_id_mean_sales</th>\n",
       "      <td>0.457143</td>\n",
       "      <td>0.028571</td>\n",
       "      <td>0.028571</td>\n",
       "      <td>0.028571</td>\n",
       "      <td>0.142857</td>\n",
       "    </tr>\n",
       "    <tr>\n",
       "      <th>item_id_city_mean_sales</th>\n",
       "      <td>1.000000</td>\n",
       "      <td>0.000000</td>\n",
       "      <td>0.000000</td>\n",
       "      <td>0.000000</td>\n",
       "      <td>0.000000</td>\n",
       "    </tr>\n",
       "    <tr>\n",
       "      <th>shop_id_item_category_id_mean_sales</th>\n",
       "      <td>0.096774</td>\n",
       "      <td>0.000000</td>\n",
       "      <td>0.000000</td>\n",
       "      <td>0.011494</td>\n",
       "      <td>0.013245</td>\n",
       "    </tr>\n",
       "    <tr>\n",
       "      <th>item_cnt_month_lag1</th>\n",
       "      <td>0.000000</td>\n",
       "      <td>0.000000</td>\n",
       "      <td>0.000000</td>\n",
       "      <td>0.000000</td>\n",
       "      <td>0.000000</td>\n",
       "    </tr>\n",
       "    <tr>\n",
       "      <th>item_cnt_month_lag2</th>\n",
       "      <td>0.000000</td>\n",
       "      <td>0.000000</td>\n",
       "      <td>0.000000</td>\n",
       "      <td>0.000000</td>\n",
       "      <td>0.000000</td>\n",
       "    </tr>\n",
       "    <tr>\n",
       "      <th>item_cnt_month_lag3</th>\n",
       "      <td>0.000000</td>\n",
       "      <td>0.000000</td>\n",
       "      <td>0.000000</td>\n",
       "      <td>0.000000</td>\n",
       "      <td>0.000000</td>\n",
       "    </tr>\n",
       "  </tbody>\n",
       "</table>\n",
       "</div>"
      ],
      "text/plain": [
       "                                                0            1            2  \\\n",
       "date_block_num                           0.000000     0.000000     0.000000   \n",
       "shop_id                                 59.000000    59.000000    59.000000   \n",
       "item_id                              22154.000000  2552.000000  2554.000000   \n",
       "item_cnt_month                           1.000000     0.000000     0.000000   \n",
       "item_price_mean                        999.000000     0.000000     0.000000   \n",
       "item_count                               1.000000     0.000000     0.000000   \n",
       "city                                    30.000000    30.000000    30.000000   \n",
       "item_category_id                        37.000000    58.000000    58.000000   \n",
       "first_sale_date                          0.000000     0.000000     0.000000   \n",
       "category                                 5.000000     7.000000     7.000000   \n",
       "item_id_mean_sales                       0.457143     0.028571     0.028571   \n",
       "item_id_city_mean_sales                  1.000000     0.000000     0.000000   \n",
       "shop_id_item_category_id_mean_sales      0.096774     0.000000     0.000000   \n",
       "item_cnt_month_lag1                      0.000000     0.000000     0.000000   \n",
       "item_cnt_month_lag2                      0.000000     0.000000     0.000000   \n",
       "item_cnt_month_lag3                      0.000000     0.000000     0.000000   \n",
       "\n",
       "                                               3            4  \n",
       "date_block_num                          0.000000     0.000000  \n",
       "shop_id                                59.000000    59.000000  \n",
       "item_id                              2555.000000  2564.000000  \n",
       "item_cnt_month                          0.000000     0.000000  \n",
       "item_price_mean                         0.000000     0.000000  \n",
       "item_count                              0.000000     0.000000  \n",
       "city                                   30.000000    30.000000  \n",
       "item_category_id                       56.000000    59.000000  \n",
       "first_sale_date                         0.000000     0.000000  \n",
       "category                                7.000000     7.000000  \n",
       "item_id_mean_sales                      0.028571     0.142857  \n",
       "item_id_city_mean_sales                 0.000000     0.000000  \n",
       "shop_id_item_category_id_mean_sales     0.011494     0.013245  \n",
       "item_cnt_month_lag1                     0.000000     0.000000  \n",
       "item_cnt_month_lag2                     0.000000     0.000000  \n",
       "item_cnt_month_lag3                     0.000000     0.000000  "
      ]
     },
     "execution_count": 39,
     "metadata": {},
     "output_type": "execute_result"
    }
   ],
   "source": [
    "all_data.head().T"
   ]
  },
  {
   "cell_type": "code",
   "execution_count": 40,
   "id": "dated-haiti",
   "metadata": {
    "execution": {
     "iopub.execute_input": "2021-04-29T11:56:01.075548Z",
     "iopub.status.busy": "2021-04-29T11:56:01.074669Z",
     "iopub.status.idle": "2021-04-29T11:56:01.079453Z",
     "shell.execute_reply": "2021-04-29T11:56:01.078777Z"
    },
    "papermill": {
     "duration": 0.07155,
     "end_time": "2021-04-29T11:56:01.079595",
     "exception": false,
     "start_time": "2021-04-29T11:56:01.008045",
     "status": "completed"
    },
    "tags": []
   },
   "outputs": [
    {
     "data": {
      "text/plain": [
       "['item_cnt_month_lag1', 'item_cnt_month_lag2', 'item_cnt_month_lag3']"
      ]
     },
     "execution_count": 40,
     "metadata": {},
     "output_type": "execute_result"
    }
   ],
   "source": [
    "lag_features_to_clip"
   ]
  },
  {
   "cell_type": "code",
   "execution_count": 41,
   "id": "round-karaoke",
   "metadata": {
    "execution": {
     "iopub.execute_input": "2021-04-29T11:56:01.210893Z",
     "iopub.status.busy": "2021-04-29T11:56:01.209460Z",
     "iopub.status.idle": "2021-04-29T11:56:59.604840Z",
     "shell.execute_reply": "2021-04-29T11:56:59.605376Z"
    },
    "papermill": {
     "duration": 58.464704,
     "end_time": "2021-04-29T11:56:59.605572",
     "exception": false,
     "start_time": "2021-04-29T11:56:01.140868",
     "status": "completed"
    },
    "tags": []
   },
   "outputs": [],
   "source": [
    "# Create 3 month lag features of item_count feature based on idx_features\n",
    "all_data, lag_features_to_clip = add_lag_features(df=all_data, \n",
    "                                                  lag_features_to_clip=lag_features_to_clip,\n",
    "                                                  idx_features=idx_features,\n",
    "                                                  lag_feature='item_count', \n",
    "                                                  nlags=3)\n",
    "\n",
    "# Create 3 month lag features of item_price_mean feature based on idx_features\n",
    "all_data, lag_features_to_clip = add_lag_features(df=all_data, \n",
    "                                                  lag_features_to_clip=lag_features_to_clip,\n",
    "                                                  idx_features=idx_features,\n",
    "                                                  lag_feature='item_price_mean', \n",
    "                                                  nlags=3)"
   ]
  },
  {
   "cell_type": "code",
   "execution_count": 42,
   "id": "amended-clone",
   "metadata": {
    "execution": {
     "iopub.execute_input": "2021-04-29T11:56:59.733495Z",
     "iopub.status.busy": "2021-04-29T11:56:59.732489Z",
     "iopub.status.idle": "2021-04-29T11:57:00.114947Z",
     "shell.execute_reply": "2021-04-29T11:57:00.115426Z"
    },
    "papermill": {
     "duration": 0.447824,
     "end_time": "2021-04-29T11:57:00.115620",
     "exception": false,
     "start_time": "2021-04-29T11:56:59.667796",
     "status": "completed"
    },
    "tags": []
   },
   "outputs": [
    {
     "data": {
      "text/plain": [
       "item_id_mean_sales         0.0\n",
       "item_id_city_mean_sales    0.0\n",
       "dtype: float32"
      ]
     },
     "execution_count": 42,
     "metadata": {},
     "output_type": "execute_result"
    }
   ],
   "source": [
    "X_test_temp = all_data[all_data['date_block_num'] == 34]\n",
    "X_test_temp[item_mean_features].sum()"
   ]
  },
  {
   "cell_type": "code",
   "execution_count": 43,
   "id": "allied-limitation",
   "metadata": {
    "execution": {
     "iopub.execute_input": "2021-04-29T11:57:00.244158Z",
     "iopub.status.busy": "2021-04-29T11:57:00.243122Z",
     "iopub.status.idle": "2021-04-29T11:58:01.050654Z",
     "shell.execute_reply": "2021-04-29T11:58:01.049788Z"
    },
    "papermill": {
     "duration": 60.873323,
     "end_time": "2021-04-29T11:58:01.050829",
     "exception": false,
     "start_time": "2021-04-29T11:57:00.177506",
     "status": "completed"
    },
    "tags": []
   },
   "outputs": [],
   "source": [
    "# Create lag features by item_mean_features element based on dx_features\n",
    "for item_mean_feature in item_mean_features:\n",
    "    all_data, lag_features_to_clip = add_lag_features(df=all_data, \n",
    "                                                      lag_features_to_clip=lag_features_to_clip, \n",
    "                                                      idx_features=idx_features, \n",
    "                                                      lag_feature=item_mean_feature, \n",
    "                                                      nlags=3)\n",
    "# Remove features in item_mean_features\n",
    "all_data = all_data.drop(item_mean_features, axis=1)"
   ]
  },
  {
   "cell_type": "code",
   "execution_count": 44,
   "id": "italic-wichita",
   "metadata": {
    "execution": {
     "iopub.execute_input": "2021-04-29T11:58:01.182494Z",
     "iopub.status.busy": "2021-04-29T11:58:01.181822Z",
     "iopub.status.idle": "2021-04-29T11:58:01.186007Z",
     "shell.execute_reply": "2021-04-29T11:58:01.185379Z"
    },
    "papermill": {
     "duration": 0.071664,
     "end_time": "2021-04-29T11:58:01.186166",
     "exception": false,
     "start_time": "2021-04-29T11:58:01.114502",
     "status": "completed"
    },
    "tags": []
   },
   "outputs": [
    {
     "data": {
      "text/plain": [
       "['shop_id_item_category_id_mean_sales']"
      ]
     },
     "execution_count": 44,
     "metadata": {},
     "output_type": "execute_result"
    }
   ],
   "source": [
    "shop_mean_features"
   ]
  },
  {
   "cell_type": "code",
   "execution_count": 45,
   "id": "indirect-advisory",
   "metadata": {
    "execution": {
     "iopub.execute_input": "2021-04-29T11:58:01.358809Z",
     "iopub.status.busy": "2021-04-29T11:58:01.340974Z",
     "iopub.status.idle": "2021-04-29T11:58:12.520444Z",
     "shell.execute_reply": "2021-04-29T11:58:12.519729Z"
    },
    "papermill": {
     "duration": 11.271041,
     "end_time": "2021-04-29T11:58:12.520585",
     "exception": false,
     "start_time": "2021-04-29T11:58:01.249544",
     "status": "completed"
    },
    "tags": []
   },
   "outputs": [],
   "source": [
    "# Create lag features by shop_mean_features element based on ['date_block_num', 'shop_id', 'item_category_id']\n",
    "for shop_mean_feature in shop_mean_features:\n",
    "    all_data, lag_features_to_clip = add_lag_features(df=all_data,\n",
    "                                                      lag_features_to_clip=lag_features_to_clip, \n",
    "                                                      idx_features=['date_block_num', 'shop_id', 'item_category_id'], \n",
    "                                                      lag_feature=shop_mean_feature, \n",
    "                                                      nlags=3)\n",
    "# Remove features in shop_mean_features\n",
    "all_data = all_data.drop(shop_mean_features, axis=1)"
   ]
  },
  {
   "cell_type": "code",
   "execution_count": 46,
   "id": "occupied-slave",
   "metadata": {
    "execution": {
     "iopub.execute_input": "2021-04-29T11:58:12.654219Z",
     "iopub.status.busy": "2021-04-29T11:58:12.653110Z",
     "iopub.status.idle": "2021-04-29T11:58:14.664427Z",
     "shell.execute_reply": "2021-04-29T11:58:14.663848Z"
    },
    "papermill": {
     "duration": 2.080124,
     "end_time": "2021-04-29T11:58:14.664591",
     "exception": false,
     "start_time": "2021-04-29T11:58:12.584467",
     "status": "completed"
    },
    "tags": []
   },
   "outputs": [],
   "source": [
    "# Remove data less than date ID 3\n",
    "all_data = all_data.drop(all_data[all_data['date_block_num'] < 3].index)"
   ]
  },
  {
   "cell_type": "markdown",
   "id": "remarkable-aruba",
   "metadata": {
    "papermill": {
     "duration": 0.062836,
     "end_time": "2021-04-29T11:58:14.790393",
     "exception": false,
     "start_time": "2021-04-29T11:58:14.727557",
     "status": "completed"
    },
    "tags": []
   },
   "source": [
    "### Other Features Engineering"
   ]
  },
  {
   "cell_type": "code",
   "execution_count": 47,
   "id": "limited-skiing",
   "metadata": {
    "execution": {
     "iopub.execute_input": "2021-04-29T11:58:14.956263Z",
     "iopub.status.busy": "2021-04-29T11:58:14.955520Z",
     "iopub.status.idle": "2021-04-29T11:58:15.063867Z",
     "shell.execute_reply": "2021-04-29T11:58:15.063174Z"
    },
    "papermill": {
     "duration": 0.209626,
     "end_time": "2021-04-29T11:58:15.064020",
     "exception": false,
     "start_time": "2021-04-29T11:58:14.854394",
     "status": "completed"
    },
    "tags": []
   },
   "outputs": [],
   "source": [
    "all_data['item_cnt_month_lag_mean'] = all_data[['item_cnt_month_lag1',\n",
    "                                         'item_cnt_month_lag2', \n",
    "                                         'item_cnt_month_lag3']].mean(axis=1)"
   ]
  },
  {
   "cell_type": "code",
   "execution_count": 48,
   "id": "purple-giving",
   "metadata": {
    "execution": {
     "iopub.execute_input": "2021-04-29T11:58:15.277217Z",
     "iopub.status.busy": "2021-04-29T11:58:15.276489Z",
     "iopub.status.idle": "2021-04-29T11:58:16.496820Z",
     "shell.execute_reply": "2021-04-29T11:58:16.496136Z"
    },
    "papermill": {
     "duration": 1.368256,
     "end_time": "2021-04-29T11:58:16.496967",
     "exception": false,
     "start_time": "2021-04-29T11:58:15.128711",
     "status": "completed"
    },
    "tags": []
   },
   "outputs": [],
   "source": [
    "# Clip 0~20\n",
    "all_data[lag_features_to_clip + ['item_cnt_month', 'item_cnt_month_lag_mean']] = all_data[lag_features_to_clip +['item_cnt_month', 'item_cnt_month_lag_mean']].clip(0, 20)"
   ]
  },
  {
   "cell_type": "code",
   "execution_count": 49,
   "id": "contrary-military",
   "metadata": {
    "execution": {
     "iopub.execute_input": "2021-04-29T11:58:16.631320Z",
     "iopub.status.busy": "2021-04-29T11:58:16.630533Z",
     "iopub.status.idle": "2021-04-29T11:58:17.129597Z",
     "shell.execute_reply": "2021-04-29T11:58:17.130107Z"
    },
    "papermill": {
     "duration": 0.569725,
     "end_time": "2021-04-29T11:58:17.130299",
     "exception": false,
     "start_time": "2021-04-29T11:58:16.560574",
     "status": "completed"
    },
    "tags": []
   },
   "outputs": [],
   "source": [
    "all_data['lag_grad1'] = all_data['item_cnt_month_lag1']/all_data['item_cnt_month_lag2']\n",
    "all_data['lag_grad1'] = all_data['lag_grad1'].replace([np.inf, -np.inf], \n",
    "                                                        np.nan).fillna(0)\n",
    "\n",
    "all_data['lag_grad2'] = all_data['item_cnt_month_lag2']/all_data['item_cnt_month_lag3']\n",
    "all_data['lag_grad2'] = all_data['lag_grad2'].replace([np.inf, -np.inf], \n",
    "                                                        np.nan).fillna(0)"
   ]
  },
  {
   "cell_type": "code",
   "execution_count": 50,
   "id": "empirical-observation",
   "metadata": {
    "execution": {
     "iopub.execute_input": "2021-04-29T11:58:17.263278Z",
     "iopub.status.busy": "2021-04-29T11:58:17.262592Z",
     "iopub.status.idle": "2021-04-29T11:58:17.270916Z",
     "shell.execute_reply": "2021-04-29T11:58:17.270238Z"
    },
    "papermill": {
     "duration": 0.077068,
     "end_time": "2021-04-29T11:58:17.271057",
     "exception": false,
     "start_time": "2021-04-29T11:58:17.193989",
     "status": "completed"
    },
    "tags": []
   },
   "outputs": [],
   "source": [
    "all_data['brand_new'] = all_data['first_sale_date'] == all_data['date_block_num']"
   ]
  },
  {
   "cell_type": "code",
   "execution_count": 51,
   "id": "published-satin",
   "metadata": {
    "execution": {
     "iopub.execute_input": "2021-04-29T11:58:17.404521Z",
     "iopub.status.busy": "2021-04-29T11:58:17.403806Z",
     "iopub.status.idle": "2021-04-29T11:58:18.037036Z",
     "shell.execute_reply": "2021-04-29T11:58:18.036336Z"
    },
    "papermill": {
     "duration": 0.702201,
     "end_time": "2021-04-29T11:58:18.037203",
     "exception": false,
     "start_time": "2021-04-29T11:58:17.335002",
     "status": "completed"
    },
    "tags": []
   },
   "outputs": [],
   "source": [
    "all_data['duration_after_first_sale'] = all_data['date_block_num'] - all_data['first_sale_date']\n",
    "all_data = all_data.drop('first_sale_date', axis=1)"
   ]
  },
  {
   "cell_type": "code",
   "execution_count": 52,
   "id": "nominated-viewer",
   "metadata": {
    "execution": {
     "iopub.execute_input": "2021-04-29T11:58:18.171043Z",
     "iopub.status.busy": "2021-04-29T11:58:18.170382Z",
     "iopub.status.idle": "2021-04-29T11:58:18.219823Z",
     "shell.execute_reply": "2021-04-29T11:58:18.219137Z"
    },
    "papermill": {
     "duration": 0.118793,
     "end_time": "2021-04-29T11:58:18.219971",
     "exception": false,
     "start_time": "2021-04-29T11:58:18.101178",
     "status": "completed"
    },
    "tags": []
   },
   "outputs": [],
   "source": [
    "all_data['month'] = all_data['date_block_num']%12"
   ]
  },
  {
   "cell_type": "code",
   "execution_count": 53,
   "id": "prospective-treaty",
   "metadata": {
    "execution": {
     "iopub.execute_input": "2021-04-29T11:58:18.354872Z",
     "iopub.status.busy": "2021-04-29T11:58:18.354204Z",
     "iopub.status.idle": "2021-04-29T11:58:20.181657Z",
     "shell.execute_reply": "2021-04-29T11:58:20.182143Z"
    },
    "papermill": {
     "duration": 1.897079,
     "end_time": "2021-04-29T11:58:20.182325",
     "exception": false,
     "start_time": "2021-04-29T11:58:18.285246",
     "status": "completed"
    },
    "tags": []
   },
   "outputs": [
    {
     "name": "stdout",
     "output_type": "stream",
     "text": [
      "<class 'pandas.core.frame.DataFrame'>\n",
      "Int64Index: 8029765 entries, 827196 to 8856960\n",
      "Data columns (total 31 columns):\n",
      " #   Column                                    Dtype  \n",
      "---  ------                                    -----  \n",
      " 0   date_block_num                            int8   \n",
      " 1   shop_id                                   int8   \n",
      " 2   item_id                                   int16  \n",
      " 3   item_cnt_month                            int8   \n",
      " 4   city                                      int8   \n",
      " 5   item_category_id                          int8   \n",
      " 6   category                                  int8   \n",
      " 7   item_cnt_month_lag1                       int8   \n",
      " 8   item_cnt_month_lag2                       int8   \n",
      " 9   item_cnt_month_lag3                       int8   \n",
      " 10  item_count_lag1                           int8   \n",
      " 11  item_count_lag2                           int8   \n",
      " 12  item_count_lag3                           int8   \n",
      " 13  item_price_mean_lag1                      float32\n",
      " 14  item_price_mean_lag2                      float32\n",
      " 15  item_price_mean_lag3                      float32\n",
      " 16  item_id_mean_sales_lag1                   float32\n",
      " 17  item_id_mean_sales_lag2                   float32\n",
      " 18  item_id_mean_sales_lag3                   float32\n",
      " 19  item_id_city_mean_sales_lag1              float32\n",
      " 20  item_id_city_mean_sales_lag2              float32\n",
      " 21  item_id_city_mean_sales_lag3              float32\n",
      " 22  shop_id_item_category_id_mean_sales_lag1  float32\n",
      " 23  shop_id_item_category_id_mean_sales_lag2  float32\n",
      " 24  shop_id_item_category_id_mean_sales_lag3  float32\n",
      " 25  item_cnt_month_lag_mean                   float32\n",
      " 26  lag_grad1                                 float32\n",
      " 27  lag_grad2                                 float32\n",
      " 28  brand_new                                 int8   \n",
      " 29  duration_after_first_sale                 int8   \n",
      " 30  month                                     int8   \n",
      "dtypes: float32(15), int16(1), int8(15)\n",
      "memory usage: 650.9 MB\n"
     ]
    }
   ],
   "source": [
    "# Remove item_price_mean, item_count features\n",
    "all_data = all_data.drop(['item_price_mean', 'item_count'], axis=1)\n",
    "all_data = downcast(all_data, False) # Data downcasting\n",
    "all_data.info()"
   ]
  },
  {
   "cell_type": "code",
   "execution_count": 54,
   "id": "offshore-kitchen",
   "metadata": {
    "execution": {
     "iopub.execute_input": "2021-04-29T11:58:20.320151Z",
     "iopub.status.busy": "2021-04-29T11:58:20.319418Z",
     "iopub.status.idle": "2021-04-29T11:58:22.497203Z",
     "shell.execute_reply": "2021-04-29T11:58:22.496425Z"
    },
    "papermill": {
     "duration": 2.250478,
     "end_time": "2021-04-29T11:58:22.497382",
     "exception": false,
     "start_time": "2021-04-29T11:58:20.246904",
     "status": "completed"
    },
    "tags": []
   },
   "outputs": [],
   "source": [
    "# Train data (Features)\n",
    "X_train = all_data[all_data['date_block_num'] < 33]\n",
    "X_train = X_train.drop(['item_cnt_month'], axis=1)\n",
    "# Valid data (Features)\n",
    "X_valid = all_data[all_data['date_block_num'] == 33]\n",
    "X_valid = X_valid.drop(['item_cnt_month'], axis=1)\n",
    "# Test data (Features)\n",
    "X_test = all_data[all_data['date_block_num'] == 34]\n",
    "X_test = X_test.drop(['item_cnt_month'], axis=1)\n",
    "\n",
    "# Train data (Target values)\n",
    "y_train = all_data[all_data['date_block_num'] < 33]['item_cnt_month']\n",
    "# Valid data (Target values)\n",
    "y_valid = all_data[all_data['date_block_num'] == 33]['item_cnt_month']\n",
    "\n",
    "# Garbage collection\n",
    "del all_data\n",
    "gc.collect();"
   ]
  },
  {
   "cell_type": "markdown",
   "id": "accredited-sight",
   "metadata": {
    "papermill": {
     "duration": 0.064065,
     "end_time": "2021-04-29T11:58:22.627096",
     "exception": false,
     "start_time": "2021-04-29T11:58:22.563031",
     "status": "completed"
    },
    "tags": []
   },
   "source": [
    "## Train model and Submit"
   ]
  },
  {
   "cell_type": "code",
   "execution_count": 55,
   "id": "aboriginal-money",
   "metadata": {
    "execution": {
     "iopub.execute_input": "2021-04-29T11:58:22.763861Z",
     "iopub.status.busy": "2021-04-29T11:58:22.763224Z",
     "iopub.status.idle": "2021-04-29T12:14:01.074490Z",
     "shell.execute_reply": "2021-04-29T12:14:01.073357Z"
    },
    "papermill": {
     "duration": 938.382966,
     "end_time": "2021-04-29T12:14:01.074756",
     "exception": false,
     "start_time": "2021-04-29T11:58:22.691790",
     "status": "completed"
    },
    "tags": []
   },
   "outputs": [
    {
     "data": {
      "text/html": [
       "<style type='text/css'>\n",
       ".datatable table.frame { margin-bottom: 0; }\n",
       ".datatable table.frame thead { border-bottom: none; }\n",
       ".datatable table.frame tr.coltypes td {  color: #FFFFFF;  line-height: 6px;  padding: 0 0.5em;}\n",
       ".datatable .bool    { background: #DDDD99; }\n",
       ".datatable .object  { background: #565656; }\n",
       ".datatable .int     { background: #5D9E5D; }\n",
       ".datatable .float   { background: #4040CC; }\n",
       ".datatable .str     { background: #CC4040; }\n",
       ".datatable .row_index {  background: var(--jp-border-color3);  border-right: 1px solid var(--jp-border-color0);  color: var(--jp-ui-font-color3);  font-size: 9px;}\n",
       ".datatable .frame tr.coltypes .row_index {  background: var(--jp-border-color0);}\n",
       ".datatable th:nth-child(2) { padding-left: 12px; }\n",
       ".datatable .hellipsis {  color: var(--jp-cell-editor-border-color);}\n",
       ".datatable .vellipsis {  background: var(--jp-layout-color0);  color: var(--jp-cell-editor-border-color);}\n",
       ".datatable .na {  color: var(--jp-cell-editor-border-color);  font-size: 80%;}\n",
       ".datatable .footer { font-size: 9px; }\n",
       ".datatable .frame_dimensions {  background: var(--jp-border-color3);  border-top: 1px solid var(--jp-border-color0);  color: var(--jp-ui-font-color3);  display: inline-block;  opacity: 0.6;  padding: 1px 10px 1px 5px;}\n",
       "</style>\n"
      ],
      "text/plain": [
       "<IPython.core.display.HTML object>"
      ]
     },
     "metadata": {},
     "output_type": "display_data"
    },
    {
     "name": "stdout",
     "output_type": "stream",
     "text": [
      "[LightGBM] [Info] Total Bins 3953\n",
      "[LightGBM] [Info] Number of data points in the train set: 7593847, number of used features: 30\n",
      "[LightGBM] [Info] Start training from score 0.307756\n",
      "Training until validation scores don't improve for 150 rounds\n",
      "[100]\ttraining's rmse: 1.01924\tvalid_1's rmse: 0.913885\n",
      "[200]\ttraining's rmse: 0.914524\tvalid_1's rmse: 0.841624\n",
      "[300]\ttraining's rmse: 0.862191\tvalid_1's rmse: 0.812862\n",
      "[400]\ttraining's rmse: 0.83338\tvalid_1's rmse: 0.801447\n",
      "[500]\ttraining's rmse: 0.814076\tvalid_1's rmse: 0.797531\n",
      "[600]\ttraining's rmse: 0.800453\tvalid_1's rmse: 0.79689\n",
      "[700]\ttraining's rmse: 0.790068\tvalid_1's rmse: 0.796336\n",
      "[800]\ttraining's rmse: 0.781746\tvalid_1's rmse: 0.795874\n",
      "[900]\ttraining's rmse: 0.774625\tvalid_1's rmse: 0.795648\n",
      "[1000]\ttraining's rmse: 0.768645\tvalid_1's rmse: 0.795829\n",
      "Early stopping, best iteration is:\n",
      "[897]\ttraining's rmse: 0.774772\tvalid_1's rmse: 0.795568\n"
     ]
    }
   ],
   "source": [
    "import lightgbm as lgb\n",
    "\n",
    "# lgb hyper-parameters\n",
    "params = {'metric': 'rmse',\n",
    "          'num_leaves': 255,\n",
    "          'learning_rate': 0.005,\n",
    "          'feature_fraction': 0.75,\n",
    "          'bagging_fraction': 0.75,\n",
    "          'bagging_freq': 5,\n",
    "          'force_col_wise' : True,\n",
    "          'random_state': 10}\n",
    "\n",
    "cat_features = ['shop_id', 'city', 'item_category_id', 'category', 'month']\n",
    "\n",
    "# lgb train and valid dataset\n",
    "dtrain = lgb.Dataset(X_train, y_train)\n",
    "dvalid = lgb.Dataset(X_valid, y_valid)\n",
    " \n",
    "# Train LightGBM model\n",
    "lgb_model = lgb.train(params=params,\n",
    "                      train_set=dtrain,\n",
    "                      num_boost_round=1500,\n",
    "                      valid_sets=(dtrain, dvalid),\n",
    "                      early_stopping_rounds=150,\n",
    "                      categorical_feature=cat_features,\n",
    "                      verbose_eval=100)      "
   ]
  },
  {
   "cell_type": "code",
   "execution_count": 56,
   "id": "unique-share",
   "metadata": {
    "execution": {
     "iopub.execute_input": "2021-04-29T12:14:01.249088Z",
     "iopub.status.busy": "2021-04-29T12:14:01.246979Z",
     "iopub.status.idle": "2021-04-29T12:14:17.755345Z",
     "shell.execute_reply": "2021-04-29T12:14:17.754538Z"
    },
    "papermill": {
     "duration": 16.596277,
     "end_time": "2021-04-29T12:14:17.755519",
     "exception": false,
     "start_time": "2021-04-29T12:14:01.159242",
     "status": "completed"
    },
    "tags": []
   },
   "outputs": [],
   "source": [
    "preds = lgb_model.predict(X_test).clip(0,20)\n",
    "\n",
    "submission['item_cnt_month'] = preds\n",
    "submission.to_csv('submission.csv', index=False)"
   ]
  },
  {
   "cell_type": "code",
   "execution_count": 57,
   "id": "annual-directive",
   "metadata": {
    "execution": {
     "iopub.execute_input": "2021-04-29T12:14:18.018323Z",
     "iopub.status.busy": "2021-04-29T12:14:18.017426Z",
     "iopub.status.idle": "2021-04-29T12:14:18.151324Z",
     "shell.execute_reply": "2021-04-29T12:14:18.150519Z"
    },
    "papermill": {
     "duration": 0.233729,
     "end_time": "2021-04-29T12:14:18.151509",
     "exception": false,
     "start_time": "2021-04-29T12:14:17.917780",
     "status": "completed"
    },
    "tags": []
   },
   "outputs": [],
   "source": [
    "del X_train, y_train, X_valid, y_valid, X_test, lgb_model, dtrain, dvalid\n",
    "gc.collect();"
   ]
  },
  {
   "cell_type": "markdown",
   "id": "christian-valve",
   "metadata": {
    "papermill": {
     "duration": 0.086226,
     "end_time": "2021-04-29T12:14:18.321868",
     "exception": false,
     "start_time": "2021-04-29T12:14:18.235642",
     "status": "completed"
    },
    "tags": []
   },
   "source": [
    "# Thank you 🙂 Upvote is free 👍"
   ]
  }
 ],
 "metadata": {
  "kernelspec": {
   "display_name": "Python 3 (ipykernel)",
   "language": "python",
   "name": "python3"
  },
  "language_info": {
   "codemirror_mode": {
    "name": "ipython",
    "version": 3
   },
   "file_extension": ".py",
   "mimetype": "text/x-python",
   "name": "python",
   "nbconvert_exporter": "python",
   "pygments_lexer": "ipython3",
   "version": "3.9.12"
  },
  "papermill": {
   "default_parameters": {},
   "duration": 1200.029073,
   "end_time": "2021-04-29T12:14:19.218135",
   "environment_variables": {},
   "exception": null,
   "input_path": "__notebook__.ipynb",
   "output_path": "__notebook__.ipynb",
   "parameters": {},
   "start_time": "2021-04-29T11:54:19.189062",
   "version": "2.3.2"
  }
 },
 "nbformat": 4,
 "nbformat_minor": 5
}
