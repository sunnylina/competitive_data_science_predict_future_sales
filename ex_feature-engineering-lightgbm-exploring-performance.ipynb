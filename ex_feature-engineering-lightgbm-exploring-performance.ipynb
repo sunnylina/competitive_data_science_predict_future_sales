{
 "cells": [
  {
   "cell_type": "markdown",
   "metadata": {
    "papermill": {
     "duration": 0.069939,
     "end_time": "2022-06-10T06:34:56.846306",
     "exception": false,
     "start_time": "2022-06-10T06:34:56.776367",
     "status": "completed"
    },
    "tags": []
   },
   "source": [
    "# 1. Introduction<a id=\"10\"></a>\n",
    "\n",
    "This competition requires us to predict future sales for Russian firm 1C Company. Our submission will contain next month sales predictions for 5100 items at each of 42 shops, with predictions being clipped into the range (0,20). The performance metric is RMSE. To inform these predictions we are given sales data covering the 33 months prior to the test period. For the (shop,item) pairs we are trying to predict, the following possibilities exist:\n",
    "1. This pair exists in our training set\n",
    "2. The item is in our training set, but not with the shop\n",
    "3. The item is not in our training set at all\n",
    "\n",
    "Our model needs to be capable of making predictions in all three cases.\n",
    "\n",
    "**Attached datasets**\n",
    "\n",
    "I initially used previously uploaded datasets containing english translations of item/category/shop names. I found that item names in those datasets had not been translated in their entirety, so I have attached an english translated dataset with complete translations. \n",
    "\n",
    "I have also attached a dataset which contains the dataframe our initial model is trained with and the initial model itself. These can be loaded to skip directly to modelling with the dataset or exploring the model's predictions.\n",
    "\n",
    "**Contents**\n",
    "\n",
    "Multiple other notebooks have already done an excellent job covering EDA, such as [this notebook](https://www.kaggle.com/kyakovlev/1st-place-solution-part-1-hands-on-data/) by the holder of the current 4th place leaderboard submission.\n",
    "\n",
    "[1. Introduction](#10)  \n",
    "[2. Preparing Dataset](#20)  \n",
    "&nbsp;&nbsp;[2.1 Preparing Item/Category Information](#21)  \n",
    "&nbsp;&nbsp;[2.2 Preparing Sales Information](#22)  \n",
    "&nbsp;&nbsp;[2.3 Constructing Training Dataframe](#23)  \n",
    "&nbsp;&nbsp;[2.4 Adding Shop Information](#24)  \n",
    "&nbsp;&nbsp;[2.5 Ages & Aggregating Sales/Price information](#25)  \n",
    "&nbsp;&nbsp;[2.6 Lagging Values & Features that use Prior Information](#26)  \n",
    "&nbsp;&nbsp;[2.7 Encoding Name Information](#27)  \n",
    "[3. Modelling](#30)  \n",
    "&nbsp;&nbsp;[3.1 Training Model](#31)  \n",
    "&nbsp;&nbsp;[3.2 Submitting](#32)  \n",
    "[4. Analysing Model Output](#40)  \n",
    "&nbsp;&nbsp;[4.1 Plots](#41)  \n",
    "&nbsp;&nbsp;[4.2 Table Views](#42) \n",
    "\n",
    "**Results**\n",
    "\n",
    "This notebook has a submission attached which achieves a leaderboard score of 0.85389. Using this submission as a base to improve on by incorporating findings gleaned in [Section 4](#40) allowed me to achieve a leaderboard score of 0.82501.\n",
    "![Leaderboard at time of posting](https://i.imgur.com/GiMxp8O.png)\n",
    "\n",
    "Leave a comment if the code is insufficiently explained at any point or you find any errors, and good luck with your own attempts! 👍"
   ]
  },
  {
   "cell_type": "code",
   "execution_count": 2,
   "metadata": {
    "_cell_guid": "b1076dfc-b9ad-4769-8c92-a6c4dae69d19",
    "_uuid": "8f2839f25d086af736a60e9eeb907d3b93b6e0e5",
    "execution": {
     "iopub.execute_input": "2022-06-10T06:34:56.991276Z",
     "iopub.status.busy": "2022-06-10T06:34:56.990523Z",
     "iopub.status.idle": "2022-06-10T06:34:58.383999Z",
     "shell.execute_reply": "2022-06-10T06:34:58.383305Z",
     "shell.execute_reply.started": "2022-06-10T06:15:54.448615Z"
    },
    "papermill": {
     "duration": 1.469246,
     "end_time": "2022-06-10T06:34:58.384118",
     "exception": false,
     "start_time": "2022-06-10T06:34:56.914872",
     "status": "completed"
    },
    "tags": []
   },
   "outputs": [],
   "source": [
    "import pandas as pd\n",
    "import numpy as np\n",
    "from itertools import product\n",
    "from collections import Counter\n",
    "from sklearn.cluster import KMeans\n",
    "from sklearn.preprocessing import LabelEncoder\n",
    "le = LabelEncoder()\n",
    "import category_encoders as ce\n",
    "import warnings\n",
    "\n",
    "pd.set_option('display.max_rows', 400)\n",
    "pd.set_option('display.max_columns', 160)\n",
    "pd.set_option('display.max_colwidth', 40)\n",
    "warnings.filterwarnings(\"ignore\")"
   ]
  },
  {
   "cell_type": "markdown",
   "metadata": {
    "papermill": {
     "duration": 0.069653,
     "end_time": "2022-06-10T06:34:58.524896",
     "exception": false,
     "start_time": "2022-06-10T06:34:58.455243",
     "status": "completed"
    },
    "tags": []
   },
   "source": [
    "# 2. Preparing Training Dataset & Feature Engineering<a id=\"20\"></a>\n",
    "\n",
    "[1. Introduction](#10)  \n",
    "[2. Preparing Dataset](#20)  \n",
    "&nbsp;&nbsp;[2.1 Preparing Item/Category Information](#21)  \n",
    "&nbsp;&nbsp;[2.2 Preparing Sales Information](#22)  \n",
    "&nbsp;&nbsp;[2.3 Constructing Training Dataframe](#23)  \n",
    "&nbsp;&nbsp;[2.4 Adding Shop Information](#24)  \n",
    "&nbsp;&nbsp;[2.5 Ages & Aggregating Sales/Price information](#25)  \n",
    "&nbsp;&nbsp;[2.6 Lagging Values & Features that use Prior Information](#26)  \n",
    "&nbsp;&nbsp;[2.7 Encoding Name Information](#27)  \n",
    "[3. Modelling](#30)  \n",
    "&nbsp;&nbsp;[3.1 Training Model](#31)  \n",
    "&nbsp;&nbsp;[3.2 Submitting](#32)  \n",
    "[4. Analysing Model Output](#40)  \n",
    "&nbsp;&nbsp;[4.1 Plots](#41)  \n",
    "&nbsp;&nbsp;[4.2 Table Views](#42)  \n",
    "\n",
    "We'll be using shortened column names in this notebook to save some keystrokes and display more compactly. The submission file must name the target value 'item_cnt_month', but all sales data we work with will be monthly unless otherwise specified, so we will use 'item_cnt' until submission. The translated files already use category_id in place of item_category_id etc. "
   ]
  },
  {
   "cell_type": "markdown",
   "metadata": {
    "papermill": {
     "duration": 0.069273,
     "end_time": "2022-06-10T06:34:58.664837",
     "exception": false,
     "start_time": "2022-06-10T06:34:58.595564",
     "status": "completed"
    },
    "tags": []
   },
   "source": [
    "We load the test set now as we'll soon be making use of the shop_id and item_id values."
   ]
  },
  {
   "cell_type": "code",
   "execution_count": 4,
   "metadata": {
    "execution": {
     "iopub.execute_input": "2022-06-10T06:34:58.805484Z",
     "iopub.status.busy": "2022-06-10T06:34:58.804817Z",
     "iopub.status.idle": "2022-06-10T06:34:58.931806Z",
     "shell.execute_reply": "2022-06-10T06:34:58.931282Z",
     "shell.execute_reply.started": "2022-06-10T06:16:30.528115Z"
    },
    "papermill": {
     "duration": 0.198422,
     "end_time": "2022-06-10T06:34:58.931922",
     "exception": false,
     "start_time": "2022-06-10T06:34:58.733500",
     "status": "completed"
    },
    "tags": []
   },
   "outputs": [
    {
     "data": {
      "text/html": [
       "<div>\n",
       "<style scoped>\n",
       "    .dataframe tbody tr th:only-of-type {\n",
       "        vertical-align: middle;\n",
       "    }\n",
       "\n",
       "    .dataframe tbody tr th {\n",
       "        vertical-align: top;\n",
       "    }\n",
       "\n",
       "    .dataframe thead th {\n",
       "        text-align: right;\n",
       "    }\n",
       "</style>\n",
       "<table border=\"1\" class=\"dataframe\">\n",
       "  <thead>\n",
       "    <tr style=\"text-align: right;\">\n",
       "      <th></th>\n",
       "      <th>ID</th>\n",
       "      <th>shop_id</th>\n",
       "      <th>item_id</th>\n",
       "    </tr>\n",
       "  </thead>\n",
       "  <tbody>\n",
       "    <tr>\n",
       "      <th>0</th>\n",
       "      <td>0</td>\n",
       "      <td>5</td>\n",
       "      <td>5037</td>\n",
       "    </tr>\n",
       "    <tr>\n",
       "      <th>1</th>\n",
       "      <td>1</td>\n",
       "      <td>5</td>\n",
       "      <td>5320</td>\n",
       "    </tr>\n",
       "    <tr>\n",
       "      <th>2</th>\n",
       "      <td>2</td>\n",
       "      <td>5</td>\n",
       "      <td>5233</td>\n",
       "    </tr>\n",
       "    <tr>\n",
       "      <th>3</th>\n",
       "      <td>3</td>\n",
       "      <td>5</td>\n",
       "      <td>5232</td>\n",
       "    </tr>\n",
       "    <tr>\n",
       "      <th>4</th>\n",
       "      <td>4</td>\n",
       "      <td>5</td>\n",
       "      <td>5268</td>\n",
       "    </tr>\n",
       "  </tbody>\n",
       "</table>\n",
       "</div>"
      ],
      "text/plain": [
       "   ID  shop_id  item_id\n",
       "0   0        5     5037\n",
       "1   1        5     5320\n",
       "2   2        5     5233\n",
       "3   3        5     5232\n",
       "4   4        5     5268"
      ]
     },
     "execution_count": 4,
     "metadata": {},
     "output_type": "execute_result"
    }
   ],
   "source": [
    "test = pd.read_csv('./test.csv')\n",
    "test.head()"
   ]
  },
  {
   "cell_type": "markdown",
   "metadata": {
    "papermill": {
     "duration": 0.079682,
     "end_time": "2022-06-10T06:34:59.085672",
     "exception": false,
     "start_time": "2022-06-10T06:34:59.005990",
     "status": "completed"
    },
    "tags": []
   },
   "source": [
    "**2.1 Preparing Item/Category Information** <a id=\"21\"></a>\n",
    "\n",
    "We load categories.csv and display the category names"
   ]
  },
  {
   "cell_type": "code",
   "execution_count": 5,
   "metadata": {
    "execution": {
     "iopub.execute_input": "2022-06-10T06:34:59.241600Z",
     "iopub.status.busy": "2022-06-10T06:34:59.240928Z",
     "iopub.status.idle": "2022-06-10T06:34:59.259469Z",
     "shell.execute_reply": "2022-06-10T06:34:59.260036Z",
     "shell.execute_reply.started": "2022-06-10T06:16:35.536747Z"
    },
    "papermill": {
     "duration": 0.102079,
     "end_time": "2022-06-10T06:34:59.260185",
     "exception": false,
     "start_time": "2022-06-10T06:34:59.158106",
     "status": "completed"
    },
    "tags": []
   },
   "outputs": [
    {
     "ename": "FileNotFoundError",
     "evalue": "[Errno 2] No such file or directory: './categories.csv'",
     "output_type": "error",
     "traceback": [
      "\u001b[0;31m---------------------------------------------------------------------------\u001b[0m",
      "\u001b[0;31mFileNotFoundError\u001b[0m                         Traceback (most recent call last)",
      "Input \u001b[0;32mIn [5]\u001b[0m, in \u001b[0;36m<cell line: 1>\u001b[0;34m()\u001b[0m\n\u001b[0;32m----> 1\u001b[0m categories \u001b[38;5;241m=\u001b[39m \u001b[43mpd\u001b[49m\u001b[38;5;241;43m.\u001b[39;49m\u001b[43mread_csv\u001b[49m\u001b[43m(\u001b[49m\u001b[38;5;124;43m'\u001b[39;49m\u001b[38;5;124;43m./categories.csv\u001b[39;49m\u001b[38;5;124;43m'\u001b[39;49m\u001b[43m)\u001b[49m\n\u001b[1;32m      2\u001b[0m pd\u001b[38;5;241m.\u001b[39mDataFrame(categories\u001b[38;5;241m.\u001b[39mcategory_name\u001b[38;5;241m.\u001b[39mvalues\u001b[38;5;241m.\u001b[39mreshape(\u001b[38;5;241m-\u001b[39m\u001b[38;5;241m1\u001b[39m, \u001b[38;5;241m4\u001b[39m))\n",
      "File \u001b[0;32m~/opt/anaconda3/lib/python3.9/site-packages/pandas/util/_decorators.py:311\u001b[0m, in \u001b[0;36mdeprecate_nonkeyword_arguments.<locals>.decorate.<locals>.wrapper\u001b[0;34m(*args, **kwargs)\u001b[0m\n\u001b[1;32m    305\u001b[0m \u001b[38;5;28;01mif\u001b[39;00m \u001b[38;5;28mlen\u001b[39m(args) \u001b[38;5;241m>\u001b[39m num_allow_args:\n\u001b[1;32m    306\u001b[0m     warnings\u001b[38;5;241m.\u001b[39mwarn(\n\u001b[1;32m    307\u001b[0m         msg\u001b[38;5;241m.\u001b[39mformat(arguments\u001b[38;5;241m=\u001b[39marguments),\n\u001b[1;32m    308\u001b[0m         \u001b[38;5;167;01mFutureWarning\u001b[39;00m,\n\u001b[1;32m    309\u001b[0m         stacklevel\u001b[38;5;241m=\u001b[39mstacklevel,\n\u001b[1;32m    310\u001b[0m     )\n\u001b[0;32m--> 311\u001b[0m \u001b[38;5;28;01mreturn\u001b[39;00m \u001b[43mfunc\u001b[49m\u001b[43m(\u001b[49m\u001b[38;5;241;43m*\u001b[39;49m\u001b[43margs\u001b[49m\u001b[43m,\u001b[49m\u001b[43m \u001b[49m\u001b[38;5;241;43m*\u001b[39;49m\u001b[38;5;241;43m*\u001b[39;49m\u001b[43mkwargs\u001b[49m\u001b[43m)\u001b[49m\n",
      "File \u001b[0;32m~/opt/anaconda3/lib/python3.9/site-packages/pandas/io/parsers/readers.py:680\u001b[0m, in \u001b[0;36mread_csv\u001b[0;34m(filepath_or_buffer, sep, delimiter, header, names, index_col, usecols, squeeze, prefix, mangle_dupe_cols, dtype, engine, converters, true_values, false_values, skipinitialspace, skiprows, skipfooter, nrows, na_values, keep_default_na, na_filter, verbose, skip_blank_lines, parse_dates, infer_datetime_format, keep_date_col, date_parser, dayfirst, cache_dates, iterator, chunksize, compression, thousands, decimal, lineterminator, quotechar, quoting, doublequote, escapechar, comment, encoding, encoding_errors, dialect, error_bad_lines, warn_bad_lines, on_bad_lines, delim_whitespace, low_memory, memory_map, float_precision, storage_options)\u001b[0m\n\u001b[1;32m    665\u001b[0m kwds_defaults \u001b[38;5;241m=\u001b[39m _refine_defaults_read(\n\u001b[1;32m    666\u001b[0m     dialect,\n\u001b[1;32m    667\u001b[0m     delimiter,\n\u001b[0;32m   (...)\u001b[0m\n\u001b[1;32m    676\u001b[0m     defaults\u001b[38;5;241m=\u001b[39m{\u001b[38;5;124m\"\u001b[39m\u001b[38;5;124mdelimiter\u001b[39m\u001b[38;5;124m\"\u001b[39m: \u001b[38;5;124m\"\u001b[39m\u001b[38;5;124m,\u001b[39m\u001b[38;5;124m\"\u001b[39m},\n\u001b[1;32m    677\u001b[0m )\n\u001b[1;32m    678\u001b[0m kwds\u001b[38;5;241m.\u001b[39mupdate(kwds_defaults)\n\u001b[0;32m--> 680\u001b[0m \u001b[38;5;28;01mreturn\u001b[39;00m \u001b[43m_read\u001b[49m\u001b[43m(\u001b[49m\u001b[43mfilepath_or_buffer\u001b[49m\u001b[43m,\u001b[49m\u001b[43m \u001b[49m\u001b[43mkwds\u001b[49m\u001b[43m)\u001b[49m\n",
      "File \u001b[0;32m~/opt/anaconda3/lib/python3.9/site-packages/pandas/io/parsers/readers.py:575\u001b[0m, in \u001b[0;36m_read\u001b[0;34m(filepath_or_buffer, kwds)\u001b[0m\n\u001b[1;32m    572\u001b[0m _validate_names(kwds\u001b[38;5;241m.\u001b[39mget(\u001b[38;5;124m\"\u001b[39m\u001b[38;5;124mnames\u001b[39m\u001b[38;5;124m\"\u001b[39m, \u001b[38;5;28;01mNone\u001b[39;00m))\n\u001b[1;32m    574\u001b[0m \u001b[38;5;66;03m# Create the parser.\u001b[39;00m\n\u001b[0;32m--> 575\u001b[0m parser \u001b[38;5;241m=\u001b[39m \u001b[43mTextFileReader\u001b[49m\u001b[43m(\u001b[49m\u001b[43mfilepath_or_buffer\u001b[49m\u001b[43m,\u001b[49m\u001b[43m \u001b[49m\u001b[38;5;241;43m*\u001b[39;49m\u001b[38;5;241;43m*\u001b[39;49m\u001b[43mkwds\u001b[49m\u001b[43m)\u001b[49m\n\u001b[1;32m    577\u001b[0m \u001b[38;5;28;01mif\u001b[39;00m chunksize \u001b[38;5;129;01mor\u001b[39;00m iterator:\n\u001b[1;32m    578\u001b[0m     \u001b[38;5;28;01mreturn\u001b[39;00m parser\n",
      "File \u001b[0;32m~/opt/anaconda3/lib/python3.9/site-packages/pandas/io/parsers/readers.py:933\u001b[0m, in \u001b[0;36mTextFileReader.__init__\u001b[0;34m(self, f, engine, **kwds)\u001b[0m\n\u001b[1;32m    930\u001b[0m     \u001b[38;5;28mself\u001b[39m\u001b[38;5;241m.\u001b[39moptions[\u001b[38;5;124m\"\u001b[39m\u001b[38;5;124mhas_index_names\u001b[39m\u001b[38;5;124m\"\u001b[39m] \u001b[38;5;241m=\u001b[39m kwds[\u001b[38;5;124m\"\u001b[39m\u001b[38;5;124mhas_index_names\u001b[39m\u001b[38;5;124m\"\u001b[39m]\n\u001b[1;32m    932\u001b[0m \u001b[38;5;28mself\u001b[39m\u001b[38;5;241m.\u001b[39mhandles: IOHandles \u001b[38;5;241m|\u001b[39m \u001b[38;5;28;01mNone\u001b[39;00m \u001b[38;5;241m=\u001b[39m \u001b[38;5;28;01mNone\u001b[39;00m\n\u001b[0;32m--> 933\u001b[0m \u001b[38;5;28mself\u001b[39m\u001b[38;5;241m.\u001b[39m_engine \u001b[38;5;241m=\u001b[39m \u001b[38;5;28;43mself\u001b[39;49m\u001b[38;5;241;43m.\u001b[39;49m\u001b[43m_make_engine\u001b[49m\u001b[43m(\u001b[49m\u001b[43mf\u001b[49m\u001b[43m,\u001b[49m\u001b[43m \u001b[49m\u001b[38;5;28;43mself\u001b[39;49m\u001b[38;5;241;43m.\u001b[39;49m\u001b[43mengine\u001b[49m\u001b[43m)\u001b[49m\n",
      "File \u001b[0;32m~/opt/anaconda3/lib/python3.9/site-packages/pandas/io/parsers/readers.py:1217\u001b[0m, in \u001b[0;36mTextFileReader._make_engine\u001b[0;34m(self, f, engine)\u001b[0m\n\u001b[1;32m   1213\u001b[0m     mode \u001b[38;5;241m=\u001b[39m \u001b[38;5;124m\"\u001b[39m\u001b[38;5;124mrb\u001b[39m\u001b[38;5;124m\"\u001b[39m\n\u001b[1;32m   1214\u001b[0m \u001b[38;5;66;03m# error: No overload variant of \"get_handle\" matches argument types\u001b[39;00m\n\u001b[1;32m   1215\u001b[0m \u001b[38;5;66;03m# \"Union[str, PathLike[str], ReadCsvBuffer[bytes], ReadCsvBuffer[str]]\"\u001b[39;00m\n\u001b[1;32m   1216\u001b[0m \u001b[38;5;66;03m# , \"str\", \"bool\", \"Any\", \"Any\", \"Any\", \"Any\", \"Any\"\u001b[39;00m\n\u001b[0;32m-> 1217\u001b[0m \u001b[38;5;28mself\u001b[39m\u001b[38;5;241m.\u001b[39mhandles \u001b[38;5;241m=\u001b[39m \u001b[43mget_handle\u001b[49m\u001b[43m(\u001b[49m\u001b[43m  \u001b[49m\u001b[38;5;66;43;03m# type: ignore[call-overload]\u001b[39;49;00m\n\u001b[1;32m   1218\u001b[0m \u001b[43m    \u001b[49m\u001b[43mf\u001b[49m\u001b[43m,\u001b[49m\n\u001b[1;32m   1219\u001b[0m \u001b[43m    \u001b[49m\u001b[43mmode\u001b[49m\u001b[43m,\u001b[49m\n\u001b[1;32m   1220\u001b[0m \u001b[43m    \u001b[49m\u001b[43mencoding\u001b[49m\u001b[38;5;241;43m=\u001b[39;49m\u001b[38;5;28;43mself\u001b[39;49m\u001b[38;5;241;43m.\u001b[39;49m\u001b[43moptions\u001b[49m\u001b[38;5;241;43m.\u001b[39;49m\u001b[43mget\u001b[49m\u001b[43m(\u001b[49m\u001b[38;5;124;43m\"\u001b[39;49m\u001b[38;5;124;43mencoding\u001b[39;49m\u001b[38;5;124;43m\"\u001b[39;49m\u001b[43m,\u001b[49m\u001b[43m \u001b[49m\u001b[38;5;28;43;01mNone\u001b[39;49;00m\u001b[43m)\u001b[49m\u001b[43m,\u001b[49m\n\u001b[1;32m   1221\u001b[0m \u001b[43m    \u001b[49m\u001b[43mcompression\u001b[49m\u001b[38;5;241;43m=\u001b[39;49m\u001b[38;5;28;43mself\u001b[39;49m\u001b[38;5;241;43m.\u001b[39;49m\u001b[43moptions\u001b[49m\u001b[38;5;241;43m.\u001b[39;49m\u001b[43mget\u001b[49m\u001b[43m(\u001b[49m\u001b[38;5;124;43m\"\u001b[39;49m\u001b[38;5;124;43mcompression\u001b[39;49m\u001b[38;5;124;43m\"\u001b[39;49m\u001b[43m,\u001b[49m\u001b[43m \u001b[49m\u001b[38;5;28;43;01mNone\u001b[39;49;00m\u001b[43m)\u001b[49m\u001b[43m,\u001b[49m\n\u001b[1;32m   1222\u001b[0m \u001b[43m    \u001b[49m\u001b[43mmemory_map\u001b[49m\u001b[38;5;241;43m=\u001b[39;49m\u001b[38;5;28;43mself\u001b[39;49m\u001b[38;5;241;43m.\u001b[39;49m\u001b[43moptions\u001b[49m\u001b[38;5;241;43m.\u001b[39;49m\u001b[43mget\u001b[49m\u001b[43m(\u001b[49m\u001b[38;5;124;43m\"\u001b[39;49m\u001b[38;5;124;43mmemory_map\u001b[39;49m\u001b[38;5;124;43m\"\u001b[39;49m\u001b[43m,\u001b[49m\u001b[43m \u001b[49m\u001b[38;5;28;43;01mFalse\u001b[39;49;00m\u001b[43m)\u001b[49m\u001b[43m,\u001b[49m\n\u001b[1;32m   1223\u001b[0m \u001b[43m    \u001b[49m\u001b[43mis_text\u001b[49m\u001b[38;5;241;43m=\u001b[39;49m\u001b[43mis_text\u001b[49m\u001b[43m,\u001b[49m\n\u001b[1;32m   1224\u001b[0m \u001b[43m    \u001b[49m\u001b[43merrors\u001b[49m\u001b[38;5;241;43m=\u001b[39;49m\u001b[38;5;28;43mself\u001b[39;49m\u001b[38;5;241;43m.\u001b[39;49m\u001b[43moptions\u001b[49m\u001b[38;5;241;43m.\u001b[39;49m\u001b[43mget\u001b[49m\u001b[43m(\u001b[49m\u001b[38;5;124;43m\"\u001b[39;49m\u001b[38;5;124;43mencoding_errors\u001b[39;49m\u001b[38;5;124;43m\"\u001b[39;49m\u001b[43m,\u001b[49m\u001b[43m \u001b[49m\u001b[38;5;124;43m\"\u001b[39;49m\u001b[38;5;124;43mstrict\u001b[39;49m\u001b[38;5;124;43m\"\u001b[39;49m\u001b[43m)\u001b[49m\u001b[43m,\u001b[49m\n\u001b[1;32m   1225\u001b[0m \u001b[43m    \u001b[49m\u001b[43mstorage_options\u001b[49m\u001b[38;5;241;43m=\u001b[39;49m\u001b[38;5;28;43mself\u001b[39;49m\u001b[38;5;241;43m.\u001b[39;49m\u001b[43moptions\u001b[49m\u001b[38;5;241;43m.\u001b[39;49m\u001b[43mget\u001b[49m\u001b[43m(\u001b[49m\u001b[38;5;124;43m\"\u001b[39;49m\u001b[38;5;124;43mstorage_options\u001b[39;49m\u001b[38;5;124;43m\"\u001b[39;49m\u001b[43m,\u001b[49m\u001b[43m \u001b[49m\u001b[38;5;28;43;01mNone\u001b[39;49;00m\u001b[43m)\u001b[49m\u001b[43m,\u001b[49m\n\u001b[1;32m   1226\u001b[0m \u001b[43m\u001b[49m\u001b[43m)\u001b[49m\n\u001b[1;32m   1227\u001b[0m \u001b[38;5;28;01massert\u001b[39;00m \u001b[38;5;28mself\u001b[39m\u001b[38;5;241m.\u001b[39mhandles \u001b[38;5;129;01mis\u001b[39;00m \u001b[38;5;129;01mnot\u001b[39;00m \u001b[38;5;28;01mNone\u001b[39;00m\n\u001b[1;32m   1228\u001b[0m f \u001b[38;5;241m=\u001b[39m \u001b[38;5;28mself\u001b[39m\u001b[38;5;241m.\u001b[39mhandles\u001b[38;5;241m.\u001b[39mhandle\n",
      "File \u001b[0;32m~/opt/anaconda3/lib/python3.9/site-packages/pandas/io/common.py:789\u001b[0m, in \u001b[0;36mget_handle\u001b[0;34m(path_or_buf, mode, encoding, compression, memory_map, is_text, errors, storage_options)\u001b[0m\n\u001b[1;32m    784\u001b[0m \u001b[38;5;28;01melif\u001b[39;00m \u001b[38;5;28misinstance\u001b[39m(handle, \u001b[38;5;28mstr\u001b[39m):\n\u001b[1;32m    785\u001b[0m     \u001b[38;5;66;03m# Check whether the filename is to be opened in binary mode.\u001b[39;00m\n\u001b[1;32m    786\u001b[0m     \u001b[38;5;66;03m# Binary mode does not support 'encoding' and 'newline'.\u001b[39;00m\n\u001b[1;32m    787\u001b[0m     \u001b[38;5;28;01mif\u001b[39;00m ioargs\u001b[38;5;241m.\u001b[39mencoding \u001b[38;5;129;01mand\u001b[39;00m \u001b[38;5;124m\"\u001b[39m\u001b[38;5;124mb\u001b[39m\u001b[38;5;124m\"\u001b[39m \u001b[38;5;129;01mnot\u001b[39;00m \u001b[38;5;129;01min\u001b[39;00m ioargs\u001b[38;5;241m.\u001b[39mmode:\n\u001b[1;32m    788\u001b[0m         \u001b[38;5;66;03m# Encoding\u001b[39;00m\n\u001b[0;32m--> 789\u001b[0m         handle \u001b[38;5;241m=\u001b[39m \u001b[38;5;28;43mopen\u001b[39;49m\u001b[43m(\u001b[49m\n\u001b[1;32m    790\u001b[0m \u001b[43m            \u001b[49m\u001b[43mhandle\u001b[49m\u001b[43m,\u001b[49m\n\u001b[1;32m    791\u001b[0m \u001b[43m            \u001b[49m\u001b[43mioargs\u001b[49m\u001b[38;5;241;43m.\u001b[39;49m\u001b[43mmode\u001b[49m\u001b[43m,\u001b[49m\n\u001b[1;32m    792\u001b[0m \u001b[43m            \u001b[49m\u001b[43mencoding\u001b[49m\u001b[38;5;241;43m=\u001b[39;49m\u001b[43mioargs\u001b[49m\u001b[38;5;241;43m.\u001b[39;49m\u001b[43mencoding\u001b[49m\u001b[43m,\u001b[49m\n\u001b[1;32m    793\u001b[0m \u001b[43m            \u001b[49m\u001b[43merrors\u001b[49m\u001b[38;5;241;43m=\u001b[39;49m\u001b[43merrors\u001b[49m\u001b[43m,\u001b[49m\n\u001b[1;32m    794\u001b[0m \u001b[43m            \u001b[49m\u001b[43mnewline\u001b[49m\u001b[38;5;241;43m=\u001b[39;49m\u001b[38;5;124;43m\"\u001b[39;49m\u001b[38;5;124;43m\"\u001b[39;49m\u001b[43m,\u001b[49m\n\u001b[1;32m    795\u001b[0m \u001b[43m        \u001b[49m\u001b[43m)\u001b[49m\n\u001b[1;32m    796\u001b[0m     \u001b[38;5;28;01melse\u001b[39;00m:\n\u001b[1;32m    797\u001b[0m         \u001b[38;5;66;03m# Binary mode\u001b[39;00m\n\u001b[1;32m    798\u001b[0m         handle \u001b[38;5;241m=\u001b[39m \u001b[38;5;28mopen\u001b[39m(handle, ioargs\u001b[38;5;241m.\u001b[39mmode)\n",
      "\u001b[0;31mFileNotFoundError\u001b[0m: [Errno 2] No such file or directory: './categories.csv'"
     ]
    }
   ],
   "source": [
    "categories = pd.read_csv('./categories.csv')\n",
    "pd.DataFrame(categories.category_name.values.reshape(-1, 4))"
   ]
  },
  {
   "cell_type": "markdown",
   "metadata": {
    "papermill": {
     "duration": 0.082799,
     "end_time": "2022-06-10T06:34:59.414153",
     "exception": false,
     "start_time": "2022-06-10T06:34:59.331354",
     "status": "completed"
    },
    "tags": []
   },
   "source": [
    "Not all category names have a '-' between the main category and the subcategory. We create groups by extracting the part of the name prior to a non-letter character. We then create a group_id column by label encoding the group names."
   ]
  },
  {
   "cell_type": "code",
   "execution_count": null,
   "metadata": {
    "execution": {
     "iopub.execute_input": "2022-06-10T06:34:59.577763Z",
     "iopub.status.busy": "2022-06-10T06:34:59.577045Z",
     "iopub.status.idle": "2022-06-10T06:34:59.596381Z",
     "shell.execute_reply": "2022-06-10T06:34:59.597282Z",
     "shell.execute_reply.started": "2022-06-10T06:16:46.742340Z"
    },
    "papermill": {
     "duration": 0.114411,
     "end_time": "2022-06-10T06:34:59.597533",
     "exception": false,
     "start_time": "2022-06-10T06:34:59.483122",
     "status": "completed"
    },
    "tags": []
   },
   "outputs": [],
   "source": [
    "#create broader category groupings\n",
    "categories['group_name'] = categories['category_name'].str.extract(r'(^[\\w\\s]*)')\n",
    "categories['group_name'] = categories['group_name'].str.strip()\n",
    "#label encode group names\n",
    "categories['group_id']  = le.fit_transform(categories.group_name.values)\n",
    "categories.sample(5)"
   ]
  },
  {
   "cell_type": "markdown",
   "metadata": {
    "papermill": {
     "duration": 0.077421,
     "end_time": "2022-06-10T06:34:59.759427",
     "exception": false,
     "start_time": "2022-06-10T06:34:59.682006",
     "status": "completed"
    },
    "tags": []
   },
   "source": [
    "We load items.csv, clean the name column, create multiple features based on the cleaned name, and use label encoding. The categories dataframe is then joined to the items dataframe."
   ]
  },
  {
   "cell_type": "code",
   "execution_count": null,
   "metadata": {
    "execution": {
     "iopub.execute_input": "2022-06-10T06:34:59.935457Z",
     "iopub.status.busy": "2022-06-10T06:34:59.917372Z",
     "iopub.status.idle": "2022-06-10T06:35:00.915536Z",
     "shell.execute_reply": "2022-06-10T06:35:00.914801Z",
     "shell.execute_reply.started": "2022-06-10T06:17:03.489258Z"
    },
    "papermill": {
     "duration": 1.081808,
     "end_time": "2022-06-10T06:35:00.915674",
     "exception": false,
     "start_time": "2022-06-10T06:34:59.833866",
     "status": "completed"
    },
    "tags": []
   },
   "outputs": [],
   "source": [
    "#load items\n",
    "items = pd.read_csv('../input/predict-future-sales-eng-translation/items.csv')\n",
    "\n",
    "#clean item_name\n",
    "items['item_name'] = items['item_name'].str.lower()\n",
    "items['item_name'] = items['item_name'].str.replace('.', '')\n",
    "for i in [r'[^\\w\\d\\s\\.]', r'\\bthe\\b', r'\\bin\\b', r'\\bis\\b',\n",
    "          r'\\bfor\\b', r'\\bof\\b', r'\\bon\\b', r'\\band\\b',  \n",
    "          r'\\bto\\b', r'\\bwith\\b' , r'\\byo\\b']:\n",
    "    items['item_name'] = items['item_name'].str.replace(i, ' ')\n",
    "items['item_name'] = items['item_name'].str.replace(r'\\b.\\b', ' ')\n",
    "\n",
    "#extract first n characters of name\n",
    "items['item_name_no_space'] = items['item_name'].str.replace(' ', '')\n",
    "items['item_name_first4'] = [x[:4] for x in items['item_name_no_space']]\n",
    "items['item_name_first6'] = [x[:6] for x in items['item_name_no_space']]\n",
    "items['item_name_first11'] = [x[:11] for x in items['item_name_no_space']]\n",
    "del items['item_name_no_space']\n",
    "                              \n",
    "#label encode these columns\n",
    "items.item_name_first4 = le.fit_transform(items.item_name_first4.values)\n",
    "items.item_name_first6 = le.fit_transform(items.item_name_first6.values)\n",
    "items.item_name_first11 = le.fit_transform(items.item_name_first11.values)\n",
    "\n",
    "#join category_name, group_name and group_id to items\n",
    "items = items.join(categories.set_index('category_id'), on='category_id')\n",
    "items.sample(10)"
   ]
  },
  {
   "cell_type": "markdown",
   "metadata": {
    "papermill": {
     "duration": 0.089224,
     "end_time": "2022-06-10T06:35:01.075726",
     "exception": false,
     "start_time": "2022-06-10T06:35:00.986502",
     "status": "completed"
    },
    "tags": []
   },
   "source": [
    "Duplicate rows exist in the item list. The following cell creates a dictionary that will allow us to reassign item id's where appropriate."
   ]
  },
  {
   "cell_type": "code",
   "execution_count": null,
   "metadata": {
    "execution": {
     "iopub.execute_input": "2022-06-10T06:35:01.226871Z",
     "iopub.status.busy": "2022-06-10T06:35:01.226241Z",
     "iopub.status.idle": "2022-06-10T06:35:01.281744Z",
     "shell.execute_reply": "2022-06-10T06:35:01.282302Z",
     "shell.execute_reply.started": "2022-06-10T06:17:20.222019Z"
    },
    "papermill": {
     "duration": 0.130879,
     "end_time": "2022-06-10T06:35:01.282450",
     "exception": false,
     "start_time": "2022-06-10T06:35:01.151571",
     "status": "completed"
    },
    "tags": []
   },
   "outputs": [],
   "source": [
    "dupes = items[(items.duplicated(subset=['item_name','category_id'],keep=False))]\n",
    "dupes['in_test'] = dupes.item_id.isin(test.item_id.unique())\n",
    "dupes = dupes.groupby('item_name').agg({'item_id':['first','last'],'in_test':['first','last']})\n",
    "\n",
    "#if both item id's are in the test set do nothing\n",
    "dupes = dupes[(dupes[('in_test', 'first')]==False) | (dupes[('in_test', 'last')]==False)]\n",
    "#if only the first id is in the test set assign this id to both\n",
    "temp = dupes[dupes[('in_test', 'first')]==True]\n",
    "keep_first = dict(zip(temp[('item_id', 'last')], temp[('item_id',  'first')]))\n",
    "#if neither id or only the second id is in the test set, assign the second id to both\n",
    "temp = dupes[dupes[('in_test', 'first')]==False]\n",
    "keep_second = dict(zip(temp[('item_id', 'first')], temp[('item_id',  'last')]))\n",
    "item_map = {**keep_first, **keep_second}"
   ]
  },
  {
   "cell_type": "markdown",
   "metadata": {
    "papermill": {
     "duration": 0.070337,
     "end_time": "2022-06-10T06:35:01.423868",
     "exception": false,
     "start_time": "2022-06-10T06:35:01.353531",
     "status": "completed"
    },
    "tags": []
   },
   "source": [
    "**2.2 Preparing Sales Information** <a id=\"22\"></a>\n",
    "\n",
    "We load sales.csv, remove the small proportion of rows without outlying values, use the dictionary we created above to reassign item id's where appropriate, then filter out sales for shops that don't exist in the test set and create features that need to be made before the data is grouped by month."
   ]
  },
  {
   "cell_type": "code",
   "execution_count": null,
   "metadata": {
    "execution": {
     "iopub.execute_input": "2022-06-10T06:35:01.578875Z",
     "iopub.status.busy": "2022-06-10T06:35:01.569434Z",
     "iopub.status.idle": "2022-06-10T06:35:16.532898Z",
     "shell.execute_reply": "2022-06-10T06:35:16.532345Z",
     "shell.execute_reply.started": "2022-06-10T06:17:27.617217Z"
    },
    "papermill": {
     "duration": 15.036942,
     "end_time": "2022-06-10T06:35:16.533054",
     "exception": false,
     "start_time": "2022-06-10T06:35:01.496112",
     "status": "completed"
    },
    "tags": []
   },
   "outputs": [],
   "source": [
    "#loading sales data\n",
    "sales = pd.read_csv('../input/competitive-data-science-predict-future-sales/sales_train.csv')\n",
    "sales = (sales\n",
    "    .query('0 < item_price < 50000 and 0 < item_cnt_day < 1001') #removing outliers\n",
    "    .replace({\n",
    "        'shop_id':{0:57, 1:58, 11:10}, #replacing obsolete shop id's\n",
    "        'item_id':item_map #fixing duplicate item id's  \n",
    "    })    \n",
    ")\n",
    "\n",
    "#removing shops which don't appear in the test set\n",
    "sales = sales[sales['shop_id'].isin(test.shop_id.unique())]\n",
    "\n",
    "sales['date'] = pd.to_datetime(sales.date,format='%d.%m.%Y')\n",
    "sales['weekday'] = sales.date.dt.dayofweek\n",
    "\n",
    "#first day the item was sold, day 0 is the first day of the training set period\n",
    "sales['first_sale_day'] = sales.date.dt.dayofyear \n",
    "sales['first_sale_day'] += 365 * (sales.date.dt.year-2013)\n",
    "sales['first_sale_day'] = sales.groupby('item_id')['first_sale_day'].transform('min').astype('int16')\n",
    "\n",
    "#revenue is needed to accurately calculate prices after grouping\n",
    "sales['revenue'] = sales['item_cnt_day']*sales['item_price']"
   ]
  },
  {
   "cell_type": "markdown",
   "metadata": {
    "papermill": {
     "duration": 0.07024,
     "end_time": "2022-06-10T06:35:16.675710",
     "exception": false,
     "start_time": "2022-06-10T06:35:16.605470",
     "status": "completed"
    },
    "tags": []
   },
   "source": [
    "We calculate the proportion of weekly sales that occurred on each weekday at each shop. Using this information we can assign a measure of weeks of sales power to each month. February always has 4 exactly weeks worth of days since there are no leap years in our time range and all other months have a value >4 since they have extra days of varying sales power. \n",
    "\n",
    "Month, year and first day of the month features are also created."
   ]
  },
  {
   "cell_type": "code",
   "execution_count": null,
   "metadata": {
    "execution": {
     "iopub.execute_input": "2022-06-10T06:35:16.831867Z",
     "iopub.status.busy": "2022-06-10T06:35:16.830823Z",
     "iopub.status.idle": "2022-06-10T06:35:17.023037Z",
     "shell.execute_reply": "2022-06-10T06:35:17.022433Z",
     "shell.execute_reply.started": "2022-06-10T06:17:48.357658Z"
    },
    "papermill": {
     "duration": 0.277055,
     "end_time": "2022-06-10T06:35:17.023157",
     "exception": false,
     "start_time": "2022-06-10T06:35:16.746102",
     "status": "completed"
    },
    "tags": []
   },
   "outputs": [],
   "source": [
    "temp = sales.groupby(['shop_id','weekday']).agg({'item_cnt_day':'sum'}).reset_index()\n",
    "temp = pd.merge(temp, sales.groupby(['shop_id']).agg({'item_cnt_day':'sum'}).reset_index(), on='shop_id', how='left')\n",
    "temp.columns = ['shop_id','weekday', 'shop_day_sales', 'shop_total_sales']\n",
    "temp['day_quality'] = temp['shop_day_sales']/temp['shop_total_sales']\n",
    "temp = temp[['shop_id','weekday','day_quality']]\n",
    "\n",
    "dates = pd.DataFrame(data={'date':pd.date_range(start='2013-01-01',end='2015-11-30')})\n",
    "dates['weekday'] = dates.date.dt.dayofweek\n",
    "dates['month'] = dates.date.dt.month\n",
    "dates['year'] = dates.date.dt.year - 2013\n",
    "dates['date_block_num'] = dates['year']*12 + dates['month'] - 1\n",
    "dates['first_day_of_month'] = dates.date.dt.dayofyear\n",
    "dates['first_day_of_month'] += 365 * dates['year']\n",
    "dates = dates.join(temp.set_index('weekday'), on='weekday')\n",
    "dates = dates.groupby(['date_block_num','shop_id','month','year']).agg({'day_quality':'sum','first_day_of_month':'min'}).reset_index()\n",
    "\n",
    "dates.query('shop_id == 28').head(15)"
   ]
  },
  {
   "cell_type": "markdown",
   "metadata": {
    "papermill": {
     "duration": 0.071392,
     "end_time": "2022-06-10T06:35:17.166198",
     "exception": false,
     "start_time": "2022-06-10T06:35:17.094806",
     "status": "completed"
    },
    "tags": []
   },
   "source": [
    "We now group the sales data by month, shop_id a"
   ]
  },
  {
   "cell_type": "code",
   "execution_count": null,
   "metadata": {
    "execution": {
     "iopub.execute_input": "2022-06-10T06:35:17.315852Z",
     "iopub.status.busy": "2022-06-10T06:35:17.315202Z",
     "iopub.status.idle": "2022-06-10T06:35:17.964482Z",
     "shell.execute_reply": "2022-06-10T06:35:17.963836Z",
     "shell.execute_reply.started": "2022-06-10T06:18:24.592021Z"
    },
    "papermill": {
     "duration": 0.727632,
     "end_time": "2022-06-10T06:35:17.964602",
     "exception": false,
     "start_time": "2022-06-10T06:35:17.236970",
     "status": "completed"
    },
    "tags": []
   },
   "outputs": [],
   "source": [
    "sales = (sales\n",
    "     .groupby(['date_block_num', 'shop_id', 'item_id'])\n",
    "     .agg({\n",
    "         'item_cnt_day':'sum', \n",
    "         'revenue':'sum',\n",
    "         'first_sale_day':'first'\n",
    "     })\n",
    "     .reset_index()\n",
    "     .rename(columns={'item_cnt_day':'item_cnt'})\n",
    ")\n",
    "sales.sample(5)"
   ]
  },
  {
   "cell_type": "markdown",
   "metadata": {
    "papermill": {
     "duration": 0.073432,
     "end_time": "2022-06-10T06:35:18.111860",
     "exception": false,
     "start_time": "2022-06-10T06:35:18.038428",
     "status": "completed"
    },
    "tags": []
   },
   "source": [
    "**2.3 Constructing Training Dataframe** <a id=\"23\"></a>\n",
    "\n",
    "The test set consists of the cartesian product of 42 shops and 5100 items. To make a training set which approximates the test set we create a training dataframe consisting of the cartesian product (active items) x (active shops) for each month."
   ]
  },
  {
   "cell_type": "code",
   "execution_count": null,
   "metadata": {
    "execution": {
     "iopub.execute_input": "2022-06-10T06:35:18.264604Z",
     "iopub.status.busy": "2022-06-10T06:35:18.263592Z",
     "iopub.status.idle": "2022-06-10T06:35:28.929968Z",
     "shell.execute_reply": "2022-06-10T06:35:28.929212Z",
     "shell.execute_reply.started": "2022-06-10T06:18:45.983498Z"
    },
    "papermill": {
     "duration": 10.747213,
     "end_time": "2022-06-10T06:35:28.930082",
     "exception": false,
     "start_time": "2022-06-10T06:35:18.182869",
     "status": "completed"
    },
    "tags": []
   },
   "outputs": [],
   "source": [
    "df = [] \n",
    "for block_num in sales['date_block_num'].unique():\n",
    "    cur_shops = sales.loc[sales['date_block_num'] == block_num, 'shop_id'].unique()\n",
    "    cur_items = sales.loc[sales['date_block_num'] == block_num, 'item_id'].unique()\n",
    "    df.append(np.array(list(product(*[cur_shops, cur_items, [block_num]]))))\n",
    "\n",
    "df = pd.DataFrame(np.vstack(df), columns=['shop_id', 'item_id', 'date_block_num'])\n",
    "df.head()"
   ]
  },
  {
   "cell_type": "code",
   "execution_count": null,
   "metadata": {
    "execution": {
     "iopub.execute_input": "2022-06-10T06:35:29.085714Z",
     "iopub.status.busy": "2022-06-10T06:35:29.084710Z",
     "iopub.status.idle": "2022-06-10T06:35:29.088360Z",
     "shell.execute_reply": "2022-06-10T06:35:29.088815Z",
     "shell.execute_reply.started": "2022-06-10T06:20:27.598207Z"
    },
    "papermill": {
     "duration": 0.084646,
     "end_time": "2022-06-10T06:35:29.089006",
     "exception": false,
     "start_time": "2022-06-10T06:35:29.004360",
     "status": "completed"
    },
    "tags": []
   },
   "outputs": [],
   "source": [
    "#add the appropriate date_block_num value to the test set\n",
    "test['date_block_num'] = 34\n",
    "del test['ID']"
   ]
  },
  {
   "cell_type": "code",
   "execution_count": null,
   "metadata": {
    "execution": {
     "iopub.execute_input": "2022-06-10T06:35:29.237787Z",
     "iopub.status.busy": "2022-06-10T06:35:29.237155Z",
     "iopub.status.idle": "2022-06-10T06:35:29.548764Z",
     "shell.execute_reply": "2022-06-10T06:35:29.547999Z",
     "shell.execute_reply.started": "2022-06-10T06:20:33.205635Z"
    },
    "papermill": {
     "duration": 0.3883,
     "end_time": "2022-06-10T06:35:29.548902",
     "exception": false,
     "start_time": "2022-06-10T06:35:29.160602",
     "status": "completed"
    },
    "tags": []
   },
   "outputs": [],
   "source": [
    "#append test set to training dataframe\n",
    "df = pd.concat([df,test]).fillna(0)\n",
    "df = df.reset_index()\n",
    "del df['index']"
   ]
  },
  {
   "cell_type": "code",
   "execution_count": null,
   "metadata": {
    "execution": {
     "iopub.execute_input": "2022-06-10T06:35:29.701209Z",
     "iopub.status.busy": "2022-06-10T06:35:29.700516Z",
     "iopub.status.idle": "2022-06-10T06:35:36.109742Z",
     "shell.execute_reply": "2022-06-10T06:35:36.109018Z",
     "shell.execute_reply.started": "2022-06-10T06:20:37.622077Z"
    },
    "papermill": {
     "duration": 6.489302,
     "end_time": "2022-06-10T06:35:36.109867",
     "exception": false,
     "start_time": "2022-06-10T06:35:29.620565",
     "status": "completed"
    },
    "tags": []
   },
   "outputs": [],
   "source": [
    "#join sales and item inforamtion to the training dataframe\n",
    "df = pd.merge(df, sales, on=['shop_id', 'item_id', 'date_block_num'], how='left').fillna(0)\n",
    "df = pd.merge(df, dates, on=['date_block_num','shop_id'], how='left')\n",
    "df = pd.merge(df, items.drop(columns=['item_name','group_name','category_name']), on='item_id', how='left')"
   ]
  },
  {
   "cell_type": "markdown",
   "metadata": {
    "papermill": {
     "duration": 0.072568,
     "end_time": "2022-06-10T06:35:36.254904",
     "exception": false,
     "start_time": "2022-06-10T06:35:36.182336",
     "status": "completed"
    },
    "tags": []
   },
   "source": [
    "**2.4 Adding Shop Information** <a id=\"24\"></a>\n",
    "\n",
    "We cluster the shops using K-means clustering, using the proportion of their sales they make in each category as features.\n",
    "\n",
    "k=7 was selected because:\n",
    "* k=7 resulted in the highest average silhouette score aside from a choice of k=2. \n",
    "* k=2 would not provide a useful clustering because it creates a feature with value (shop_id==55)\\*1. \n",
    "* k=7 is also in an appropriate area when using the elbow method"
   ]
  },
  {
   "cell_type": "code",
   "execution_count": null,
   "metadata": {
    "execution": {
     "iopub.execute_input": "2022-06-10T06:35:36.404895Z",
     "iopub.status.busy": "2022-06-10T06:35:36.404231Z",
     "iopub.status.idle": "2022-06-10T06:35:37.000565Z",
     "shell.execute_reply": "2022-06-10T06:35:36.999755Z",
     "shell.execute_reply.started": "2022-06-10T06:20:48.686477Z"
    },
    "papermill": {
     "duration": 0.672024,
     "end_time": "2022-06-10T06:35:37.000693",
     "exception": false,
     "start_time": "2022-06-10T06:35:36.328669",
     "status": "completed"
    },
    "tags": []
   },
   "outputs": [],
   "source": [
    "#loading shops.csv\n",
    "shops = pd.read_csv('../input/predict-future-sales-eng-translation/shops.csv')\n",
    "\n",
    "#clustering shops\n",
    "shops_cats = pd.DataFrame(\n",
    "    np.array(list(product(*[df['shop_id'].unique(), df['category_id'].unique()]))),\n",
    "    columns =['shop_id', 'category_id']\n",
    ")\n",
    "temp = df.groupby(['category_id', 'shop_id']).agg({'item_cnt':'sum'}).reset_index()\n",
    "temp2 = temp.groupby('shop_id').agg({'item_cnt':'sum'}).rename(columns={'item_cnt':'shop_total'})\n",
    "temp = temp.join(temp2, on='shop_id')\n",
    "temp['category_proportion'] = temp['item_cnt']/temp['shop_total']\n",
    "temp = temp[['shop_id', 'category_id', 'category_proportion']]\n",
    "shops_cats = pd.merge(shops_cats, temp, on=['shop_id','category_id'], how='left')\n",
    "shops_cats = shops_cats.fillna(0)\n",
    "\n",
    "shops_cats = shops_cats.pivot(index='shop_id', columns=['category_id'])\n",
    "kmeans = KMeans(n_clusters=7, random_state=0).fit(shops_cats)\n",
    "shops_cats['shop_cluster'] = kmeans.labels_.astype('int8')\n",
    "\n",
    "#adding these clusters to the shops dataframe\n",
    "shops = shops.join(shops_cats['shop_cluster'], on='shop_id')"
   ]
  },
  {
   "cell_type": "markdown",
   "metadata": {
    "papermill": {
     "duration": 0.071491,
     "end_time": "2022-06-10T06:35:37.145886",
     "exception": false,
     "start_time": "2022-06-10T06:35:37.074395",
     "status": "completed"
    },
    "tags": []
   },
   "source": [
    "We clean the shop names column then use the opening word to create the shop_city feature. We then create the shop_type feature based on terms that occur in the name of the shop. Both these features are then label encoded."
   ]
  },
  {
   "cell_type": "code",
   "execution_count": null,
   "metadata": {
    "execution": {
     "iopub.execute_input": "2022-06-10T06:35:37.298764Z",
     "iopub.status.busy": "2022-06-10T06:35:37.298033Z",
     "iopub.status.idle": "2022-06-10T06:35:37.330349Z",
     "shell.execute_reply": "2022-06-10T06:35:37.330939Z",
     "shell.execute_reply.started": "2022-06-10T06:20:58.005225Z"
    },
    "papermill": {
     "duration": 0.112133,
     "end_time": "2022-06-10T06:35:37.331104",
     "exception": false,
     "start_time": "2022-06-10T06:35:37.218971",
     "status": "completed"
    },
    "tags": []
   },
   "outputs": [],
   "source": [
    "#removing unused shop ids\n",
    "shops.dropna(inplace=True)\n",
    "\n",
    "#cleaning the name column\n",
    "shops['shop_name'] = shops['shop_name'].str.lower()\n",
    "shops['shop_name'] = shops['shop_name'].str.replace(r'[^\\w\\d\\s]', ' ')\n",
    "\n",
    "#creating a column for the type of shop\n",
    "shops['shop_type'] = 'regular'\n",
    "\n",
    "#there is some overlap in tc and mall, mall is given precedence\n",
    "shops.loc[shops['shop_name'].str.contains(r'tc'), 'shop_type'] = 'tc'\n",
    "shops.loc[shops['shop_name'].str.contains(r'mall|center|mega'), 'shop_type'] = 'mall'\n",
    "shops.loc[shops['shop_id'].isin([9,20]), 'shop_type'] = 'special'\n",
    "shops.loc[shops['shop_id'].isin([12,55]), 'shop_type'] = 'online'\n",
    "\n",
    "#the first word of shop name is largely sufficient as a city feature\n",
    "shops['shop_city'] = shops['shop_name'].str.split().str[0]\n",
    "shops.loc[shops['shop_id'].isin([12,55]), 'shop_city'] = 'online'\n",
    "shops.shop_city = le.fit_transform(shops.shop_city.values)\n",
    "shops.shop_type = le.fit_transform(shops.shop_type.values)\n",
    "shops.head()"
   ]
  },
  {
   "cell_type": "code",
   "execution_count": null,
   "metadata": {
    "execution": {
     "iopub.execute_input": "2022-06-10T06:35:37.486653Z",
     "iopub.status.busy": "2022-06-10T06:35:37.486024Z",
     "iopub.status.idle": "2022-06-10T06:35:38.926528Z",
     "shell.execute_reply": "2022-06-10T06:35:38.925970Z",
     "shell.execute_reply.started": "2022-06-10T06:21:14.660487Z"
    },
    "papermill": {
     "duration": 1.518092,
     "end_time": "2022-06-10T06:35:38.926639",
     "exception": false,
     "start_time": "2022-06-10T06:35:37.408547",
     "status": "completed"
    },
    "tags": []
   },
   "outputs": [],
   "source": [
    "#add shop information to the training dataframe\n",
    "df = pd.merge(df, shops.drop(columns='shop_name'), on='shop_id', how='left')\n",
    "df.head()"
   ]
  },
  {
   "cell_type": "markdown",
   "metadata": {
    "papermill": {
     "duration": 0.073959,
     "end_time": "2022-06-10T06:35:39.077736",
     "exception": false,
     "start_time": "2022-06-10T06:35:39.003777",
     "status": "completed"
    },
    "tags": []
   },
   "source": [
    "**2.5 Ages & Aggregating Sales/Price information** <a id=\"25\"></a>"
   ]
  },
  {
   "cell_type": "markdown",
   "metadata": {
    "papermill": {
     "duration": 0.072575,
     "end_time": "2022-06-10T06:35:39.223207",
     "exception": false,
     "start_time": "2022-06-10T06:35:39.150632",
     "status": "completed"
    },
    "tags": []
   },
   "source": [
    "We create a feature showing how many days have passed between the first time an item was sold and the beginning of the current month."
   ]
  },
  {
   "cell_type": "code",
   "execution_count": null,
   "metadata": {
    "execution": {
     "iopub.execute_input": "2022-06-10T06:35:39.371783Z",
     "iopub.status.busy": "2022-06-10T06:35:39.371140Z",
     "iopub.status.idle": "2022-06-10T06:35:48.640343Z",
     "shell.execute_reply": "2022-06-10T06:35:48.639732Z",
     "shell.execute_reply.started": "2022-06-10T06:21:35.543682Z"
    },
    "papermill": {
     "duration": 9.344584,
     "end_time": "2022-06-10T06:35:48.640463",
     "exception": false,
     "start_time": "2022-06-10T06:35:39.295879",
     "status": "completed"
    },
    "tags": []
   },
   "outputs": [],
   "source": [
    "df['first_sale_day'] = df.groupby('item_id')['first_sale_day'].transform('max').astype('int16')\n",
    "df.loc[df['first_sale_day']==0, 'first_sale_day'] = 1035\n",
    "df['prev_days_on_sale'] = [max(idx) for idx in zip(df['first_day_of_month']-df['first_sale_day'],[0]*len(df))]\n",
    "del df['first_day_of_month']"
   ]
  },
  {
   "cell_type": "code",
   "execution_count": null,
   "metadata": {
    "execution": {
     "iopub.execute_input": "2022-06-10T06:35:48.791098Z",
     "iopub.status.busy": "2022-06-10T06:35:48.790104Z",
     "iopub.status.idle": "2022-06-10T06:35:48.810768Z",
     "shell.execute_reply": "2022-06-10T06:35:48.810258Z",
     "shell.execute_reply.started": "2022-06-10T06:21:46.331046Z"
    },
    "papermill": {
     "duration": 0.097362,
     "end_time": "2022-06-10T06:35:48.810884",
     "exception": false,
     "start_time": "2022-06-10T06:35:48.713522",
     "status": "completed"
    },
    "tags": []
   },
   "outputs": [],
   "source": [
    "#freeing RAM, removing unneeded columns and encoding object columns\n",
    "del sales, categories, shops, shops_cats, temp, temp2, test, dupes, item_map, \n",
    "df.head()"
   ]
  },
  {
   "cell_type": "markdown",
   "metadata": {
    "papermill": {
     "duration": 0.073704,
     "end_time": "2022-06-10T06:35:48.960145",
     "exception": false,
     "start_time": "2022-06-10T06:35:48.886441",
     "status": "completed"
    },
    "tags": []
   },
   "source": [
    "We want to clip the target value before aggregating so that mean values are not distorted due to outliers. We retain the unclipped value for use in features that do not aggregate the sales data."
   ]
  },
  {
   "cell_type": "code",
   "execution_count": null,
   "metadata": {
    "execution": {
     "iopub.execute_input": "2022-06-10T06:35:49.126308Z",
     "iopub.status.busy": "2022-06-10T06:35:49.125608Z",
     "iopub.status.idle": "2022-06-10T06:35:49.247992Z",
     "shell.execute_reply": "2022-06-10T06:35:49.247399Z",
     "shell.execute_reply.started": "2022-06-10T06:21:57.300441Z"
    },
    "papermill": {
     "duration": 0.206239,
     "end_time": "2022-06-10T06:35:49.248107",
     "exception": false,
     "start_time": "2022-06-10T06:35:49.041868",
     "status": "completed"
    },
    "tags": []
   },
   "outputs": [],
   "source": [
    "df['item_cnt_unclipped'] = df['item_cnt']\n",
    "df['item_cnt'] = df['item_cnt'].clip(0, 20)"
   ]
  },
  {
   "cell_type": "markdown",
   "metadata": {
    "papermill": {
     "duration": 0.0744,
     "end_time": "2022-06-10T06:35:49.397073",
     "exception": false,
     "start_time": "2022-06-10T06:35:49.322673",
     "status": "completed"
    },
    "tags": []
   },
   "source": [
    "No columns with float dtype require more than float32 precision and no int dtype columns require values outside the int16 range. The following function will compress the data types of these columns."
   ]
  },
  {
   "cell_type": "code",
   "execution_count": null,
   "metadata": {
    "execution": {
     "iopub.execute_input": "2022-06-10T06:35:49.547361Z",
     "iopub.status.busy": "2022-06-10T06:35:49.546725Z",
     "iopub.status.idle": "2022-06-10T06:35:53.763561Z",
     "shell.execute_reply": "2022-06-10T06:35:53.762930Z",
     "shell.execute_reply.started": "2022-06-10T06:22:01.515227Z"
    },
    "papermill": {
     "duration": 4.292514,
     "end_time": "2022-06-10T06:35:53.763679",
     "exception": false,
     "start_time": "2022-06-10T06:35:49.471165",
     "status": "completed"
    },
    "tags": []
   },
   "outputs": [],
   "source": [
    "def downcast(df):\n",
    "    #reduce size of the dataframe\n",
    "    float_cols = [c for c in df if df[c].dtype in [\"float64\"]]\n",
    "    int_cols = [c for c in df if df[c].dtype in ['int64']]\n",
    "    df[float_cols] = df[float_cols].astype('float32')\n",
    "    df[int_cols] = df[int_cols].astype('int16')\n",
    "    return df\n",
    "df = downcast(df)"
   ]
  },
  {
   "cell_type": "markdown",
   "metadata": {
    "papermill": {
     "duration": 0.074115,
     "end_time": "2022-06-10T06:35:53.914044",
     "exception": false,
     "start_time": "2022-06-10T06:35:53.839929",
     "status": "completed"
    },
    "tags": []
   },
   "source": [
    "These features show how many months have passed since the first appearance of the item/name/category/group/shop"
   ]
  },
  {
   "cell_type": "code",
   "execution_count": null,
   "metadata": {
    "execution": {
     "iopub.execute_input": "2022-06-10T06:35:54.069213Z",
     "iopub.status.busy": "2022-06-10T06:35:54.068520Z",
     "iopub.status.idle": "2022-06-10T06:35:55.732874Z",
     "shell.execute_reply": "2022-06-10T06:35:55.733383Z",
     "shell.execute_reply.started": "2022-06-10T06:22:09.551101Z"
    },
    "papermill": {
     "duration": 1.743265,
     "end_time": "2022-06-10T06:35:55.733540",
     "exception": false,
     "start_time": "2022-06-10T06:35:53.990275",
     "status": "completed"
    },
    "tags": []
   },
   "outputs": [],
   "source": [
    "df['item_age'] = (df['date_block_num'] - df.groupby('item_id')['date_block_num'].transform('min')).astype('int8')\n",
    "df['item_name_first4_age'] = (df['date_block_num'] - df.groupby('item_name_first4')['date_block_num'].transform('min')).astype('int8')\n",
    "df['item_name_first6_age'] = (df['date_block_num'] - df.groupby('item_name_first6')['date_block_num'].transform('min')).astype('int8')\n",
    "df['item_name_first11_age'] = (df['date_block_num'] - df.groupby('item_name_first11')['date_block_num'].transform('min')).astype('int8')\n",
    "df['category_age'] = (df['date_block_num'] - df.groupby('category_id')['date_block_num'].transform('min')).astype('int8')\n",
    "df['group_age'] = (df['date_block_num'] - df.groupby('group_id')['date_block_num'].transform('min')).astype('int8')\n",
    "df['shop_age'] = (df['date_block_num'] - df.groupby('shop_id')['date_block_num'].transform('min')).astype('int8')"
   ]
  },
  {
   "cell_type": "code",
   "execution_count": null,
   "metadata": {
    "execution": {
     "iopub.execute_input": "2022-06-10T06:35:55.884811Z",
     "iopub.status.busy": "2022-06-10T06:35:55.884165Z",
     "iopub.status.idle": "2022-06-10T06:35:59.599152Z",
     "shell.execute_reply": "2022-06-10T06:35:59.599662Z",
     "shell.execute_reply.started": "2022-06-10T06:22:16.220112Z"
    },
    "papermill": {
     "duration": 3.791792,
     "end_time": "2022-06-10T06:35:59.599826",
     "exception": false,
     "start_time": "2022-06-10T06:35:55.808034",
     "status": "completed"
    },
    "tags": []
   },
   "outputs": [],
   "source": [
    "#indicates whether shops have previously sold the item\n",
    "temp = df.query('item_cnt > 0').groupby(['item_id','shop_id']).agg({'date_block_num':'min'}).reset_index()\n",
    "temp.columns = ['item_id', 'shop_id', 'item_shop_first_sale']\n",
    "df = pd.merge(df, temp, on=['item_id','shop_id'], how='left')\n",
    "df['item_shop_first_sale'] = df['item_shop_first_sale'].fillna(50)\n",
    "#item age that stays at 0 if a shop hasn't sold the item\n",
    "df['item_age_if_shop_sale'] = (df['date_block_num'] > df['item_shop_first_sale']) * df['item_age']\n",
    "#the length of time an item has been for sale without being sold at individual shops\n",
    "df['item_age_without_shop_sale'] = (df['date_block_num'] <= df['item_shop_first_sale']) * df['item_age']\n",
    "del df['item_shop_first_sale']"
   ]
  },
  {
   "cell_type": "markdown",
   "metadata": {
    "papermill": {
     "duration": 0.073764,
     "end_time": "2022-06-10T06:35:59.748115",
     "exception": false,
     "start_time": "2022-06-10T06:35:59.674351",
     "status": "completed"
    },
    "tags": []
   },
   "source": [
    "The target variable, 'item_cnt', is the monthly sale count of individual items at individual shops. We now create features showing average monthly sales based on various groupings"
   ]
  },
  {
   "cell_type": "code",
   "execution_count": null,
   "metadata": {
    "execution": {
     "iopub.execute_input": "2022-06-10T06:35:59.903647Z",
     "iopub.status.busy": "2022-06-10T06:35:59.902922Z",
     "iopub.status.idle": "2022-06-10T06:36:25.271558Z",
     "shell.execute_reply": "2022-06-10T06:36:25.270750Z",
     "shell.execute_reply.started": "2022-06-10T06:22:24.452356Z"
    },
    "papermill": {
     "duration": 25.450186,
     "end_time": "2022-06-10T06:36:25.271685",
     "exception": false,
     "start_time": "2022-06-10T06:35:59.821499",
     "status": "completed"
    },
    "tags": []
   },
   "outputs": [],
   "source": [
    "def agg_cnt_col(df, merging_cols, new_col,aggregation):\n",
    "    temp = df.groupby(merging_cols).agg(aggregation).reset_index()\n",
    "    temp.columns = merging_cols + [new_col]\n",
    "    df = pd.merge(df, temp, on=merging_cols, how='left')\n",
    "    return df\n",
    "\n",
    "#individual items across all shops\n",
    "df = agg_cnt_col(df, ['date_block_num','item_id'],'item_cnt_all_shops',{'item_cnt':'mean'})\n",
    "df = agg_cnt_col(df, ['date_block_num','category_id','shop_id'],'item_cnt_all_shops_median',{'item_cnt':'median'}) \n",
    "#all items in category at individual shops\n",
    "df = agg_cnt_col(df, ['date_block_num','category_id','shop_id'],'category_cnt',{'item_cnt':'mean'})\n",
    "df = agg_cnt_col(df, ['date_block_num','category_id','shop_id'],'category_cnt_median',{'item_cnt':'median'}) \n",
    "#all items in category across all shops\n",
    "df = agg_cnt_col(df, ['date_block_num','category_id'],'category_cnt_all_shops',{'item_cnt':'mean'})\n",
    "df = agg_cnt_col(df, ['date_block_num','category_id'],'category_cnt_all_shops_median',{'item_cnt':'median'})\n",
    "#all items in group\n",
    "df = agg_cnt_col(df, ['date_block_num','group_id','shop_id'],'group_cnt',{'item_cnt':'mean'})\n",
    "#all items in group across all shops\n",
    "df = agg_cnt_col(df, ['date_block_num','group_id'],'group_cnt_all_shops',{'item_cnt':'mean'})\n",
    "#all items at individual shops\n",
    "df = agg_cnt_col(df, ['date_block_num','shop_id'],'shop_cnt',{'item_cnt':'mean'})\n",
    "#all items at all shops within the city\n",
    "df = agg_cnt_col(df, ['date_block_num','shop_city'],'city_cnt',{'item_cnt':'mean'})"
   ]
  },
  {
   "cell_type": "markdown",
   "metadata": {
    "papermill": {
     "duration": 0.073145,
     "end_time": "2022-06-10T06:36:25.418325",
     "exception": false,
     "start_time": "2022-06-10T06:36:25.345180",
     "status": "completed"
    },
    "tags": []
   },
   "source": [
    "We now create features showing the mean first month sales for items in each category"
   ]
  },
  {
   "cell_type": "code",
   "execution_count": null,
   "metadata": {
    "execution": {
     "iopub.execute_input": "2022-06-10T06:36:25.575967Z",
     "iopub.status.busy": "2022-06-10T06:36:25.574563Z",
     "iopub.status.idle": "2022-06-10T06:36:34.526629Z",
     "shell.execute_reply": "2022-06-10T06:36:34.526036Z",
     "shell.execute_reply.started": "2022-06-10T06:23:01.974440Z"
    },
    "papermill": {
     "duration": 9.034187,
     "end_time": "2022-06-10T06:36:34.526754",
     "exception": false,
     "start_time": "2022-06-10T06:36:25.492567",
     "status": "completed"
    },
    "tags": []
   },
   "outputs": [],
   "source": [
    "def new_item_sales(df, merging_cols, new_col):\n",
    "    temp = (\n",
    "        df\n",
    "        .query('item_age==0')\n",
    "        .groupby(merging_cols)['item_cnt']\n",
    "        .mean()\n",
    "        .reset_index()\n",
    "        .rename(columns={'item_cnt': new_col})\n",
    "    )\n",
    "    df = pd.merge(df, temp, on=merging_cols, how='left')\n",
    "    return df\n",
    "\n",
    "#mean units sold of new item in category at individual shop\n",
    "df = new_item_sales(df, ['date_block_num','category_id','shop_id'], 'new_items_in_cat')\n",
    "#mean units sold of new item in category across all shops\n",
    "df = new_item_sales(df, ['date_block_num','category_id'], 'new_items_in_cat_all_shops')"
   ]
  },
  {
   "cell_type": "code",
   "execution_count": null,
   "metadata": {
    "execution": {
     "iopub.execute_input": "2022-06-10T06:36:34.682755Z",
     "iopub.status.busy": "2022-06-10T06:36:34.682124Z",
     "iopub.status.idle": "2022-06-10T06:36:41.625351Z",
     "shell.execute_reply": "2022-06-10T06:36:41.624545Z",
     "shell.execute_reply.started": "2022-06-10T06:23:15.426871Z"
    },
    "papermill": {
     "duration": 7.024576,
     "end_time": "2022-06-10T06:36:41.625504",
     "exception": false,
     "start_time": "2022-06-10T06:36:34.600928",
     "status": "completed"
    },
    "tags": []
   },
   "outputs": [],
   "source": [
    "def agg_price_col(df, merging_cols, new_col):\n",
    "    temp = df.groupby(merging_cols).agg({'revenue':'sum','item_cnt_unclipped':'sum'}).reset_index()\n",
    "    temp[new_col] = temp['revenue']/temp['item_cnt_unclipped']\n",
    "    temp = temp[merging_cols + [new_col]]\n",
    "    df = pd.merge(df, temp, on=merging_cols, how='left')\n",
    "    return df\n",
    "\n",
    "#average item price\n",
    "df = agg_price_col(df,['date_block_num','item_id'],'item_price')\n",
    "#average price of items in category\n",
    "df = agg_price_col(df,['date_block_num','category_id'],'category_price')\n",
    "#average price of all items\n",
    "df = agg_price_col(df,['date_block_num'],'block_price')"
   ]
  },
  {
   "cell_type": "code",
   "execution_count": null,
   "metadata": {
    "execution": {
     "iopub.execute_input": "2022-06-10T06:36:41.785242Z",
     "iopub.status.busy": "2022-06-10T06:36:41.784495Z",
     "iopub.status.idle": "2022-06-10T06:36:42.416144Z",
     "shell.execute_reply": "2022-06-10T06:36:42.415525Z",
     "shell.execute_reply.started": "2022-06-10T06:23:27.269433Z"
    },
    "papermill": {
     "duration": 0.710784,
     "end_time": "2022-06-10T06:36:42.416284",
     "exception": false,
     "start_time": "2022-06-10T06:36:41.705500",
     "status": "completed"
    },
    "tags": []
   },
   "outputs": [],
   "source": [
    "df = downcast(df)"
   ]
  },
  {
   "cell_type": "markdown",
   "metadata": {
    "papermill": {
     "duration": 0.077306,
     "end_time": "2022-06-10T06:36:42.567860",
     "exception": false,
     "start_time": "2022-06-10T06:36:42.490554",
     "status": "completed"
    },
    "tags": []
   },
   "source": [
    "**2.6 Lagging Values & Features that use Prior Information** <a id=\"26\"></a>\n",
    "\n",
    "The following function will be used to create lag features of varying lag periods."
   ]
  },
  {
   "cell_type": "code",
   "execution_count": null,
   "metadata": {
    "execution": {
     "iopub.execute_input": "2022-06-10T06:36:42.733571Z",
     "iopub.status.busy": "2022-06-10T06:36:42.732796Z",
     "iopub.status.idle": "2022-06-10T06:36:42.735007Z",
     "shell.execute_reply": "2022-06-10T06:36:42.735469Z",
     "shell.execute_reply.started": "2022-06-10T06:23:37.056364Z"
    },
    "papermill": {
     "duration": 0.089426,
     "end_time": "2022-06-10T06:36:42.735612",
     "exception": false,
     "start_time": "2022-06-10T06:36:42.646186",
     "status": "completed"
    },
    "tags": []
   },
   "outputs": [],
   "source": [
    "def lag_feature(df, lag, col, merge_cols):        \n",
    "    temp = df[merge_cols + [col]]\n",
    "    temp = temp.groupby(merge_cols).agg({f'{col}':'first'}).reset_index()\n",
    "    temp.columns = merge_cols + [f'{col}_lag{lag}']\n",
    "    temp['date_block_num'] += lag\n",
    "    df = pd.merge(df, temp, on=merge_cols, how='left')\n",
    "    df[f'{col}_lag{lag}'] = df[f'{col}_lag{lag}'].fillna(0).astype('float32')\n",
    "    return df"
   ]
  },
  {
   "cell_type": "markdown",
   "metadata": {
    "papermill": {
     "duration": 0.082826,
     "end_time": "2022-06-10T06:36:42.900090",
     "exception": false,
     "start_time": "2022-06-10T06:36:42.817264",
     "status": "completed"
    },
    "tags": []
   },
   "source": [
    "These features each have 3 lagged columns returned:\n",
    "* lag1 shows the value of the prior month\n",
    "* lag2 shows the value two months prior\n",
    "* lag1to12 is the sum of values across the previous 12 months\n",
    "\n",
    "Original columns will be deleted when they are no longer needed to avoid data leakage."
   ]
  },
  {
   "cell_type": "code",
   "execution_count": null,
   "metadata": {
    "execution": {
     "iopub.execute_input": "2022-06-10T06:36:43.060912Z",
     "iopub.status.busy": "2022-06-10T06:36:43.059897Z",
     "iopub.status.idle": "2022-06-10T06:52:24.733769Z",
     "shell.execute_reply": "2022-06-10T06:52:24.732580Z",
     "shell.execute_reply.started": "2022-06-10T06:23:40.506199Z"
    },
    "papermill": {
     "duration": 941.755088,
     "end_time": "2022-06-10T06:52:24.734132",
     "exception": false,
     "start_time": "2022-06-10T06:36:42.979044",
     "status": "completed"
    },
    "tags": []
   },
   "outputs": [],
   "source": [
    "lag12_cols = {\n",
    "    'item_cnt':['date_block_num', 'shop_id', 'item_id'],\n",
    "    'item_cnt_all_shops':['date_block_num', 'item_id'],\n",
    "    'category_cnt':['date_block_num', 'shop_id', 'category_id'],\n",
    "    'category_cnt_all_shops':['date_block_num', 'category_id'],\n",
    "    'group_cnt':['date_block_num', 'shop_id', 'group_id'],\n",
    "    'group_cnt_all_shops':['date_block_num', 'group_id'],\n",
    "    'shop_cnt':['date_block_num', 'shop_id'],\n",
    "    'city_cnt':['date_block_num', 'shop_city'],\n",
    "    'new_items_in_cat':['date_block_num', 'shop_id', 'category_id'],\n",
    "    'new_items_in_cat_all_shops':['date_block_num', 'category_id']\n",
    "}\n",
    "for col,merge_cols in lag12_cols.items():\n",
    "    df[f'{col}_lag1to12'] = 0\n",
    "    for i in range(1,13):\n",
    "        df = lag_feature(df, i, col, merge_cols)\n",
    "        df[f'{col}_lag1to12'] += df[f'{col}_lag{i}']\n",
    "        if i > 2:\n",
    "            del df[f'{col}_lag{i}']\n",
    "    if col == 'item_cnt':\n",
    "        del df[f'{col}_lag1']\n",
    "        del df[f'{col}_lag2']        \n",
    "    else:\n",
    "        del df[col]"
   ]
  },
  {
   "cell_type": "markdown",
   "metadata": {
    "papermill": {
     "duration": 0.155421,
     "end_time": "2022-06-10T06:52:24.968639",
     "exception": false,
     "start_time": "2022-06-10T06:52:24.813218",
     "status": "completed"
    },
    "tags": []
   },
   "source": [
    "We take lag1 and lag2 values for these columns"
   ]
  },
  {
   "cell_type": "code",
   "execution_count": null,
   "metadata": {
    "execution": {
     "iopub.execute_input": "2022-06-10T06:52:25.128807Z",
     "iopub.status.busy": "2022-06-10T06:52:25.128125Z",
     "iopub.status.idle": "2022-06-10T06:53:35.293125Z",
     "shell.execute_reply": "2022-06-10T06:53:35.292494Z",
     "shell.execute_reply.started": "2022-06-10T06:31:22.066406Z"
    },
    "papermill": {
     "duration": 70.248606,
     "end_time": "2022-06-10T06:53:35.293324",
     "exception": false,
     "start_time": "2022-06-10T06:52:25.044718",
     "status": "completed"
    },
    "tags": []
   },
   "outputs": [],
   "source": [
    "lag2_cols = {\n",
    "    'item_cnt_unclipped':['date_block_num', 'shop_id', 'item_id'],\n",
    "    'item_cnt_all_shops_median':['date_block_num', 'item_id'],\n",
    "    'category_cnt_median':['date_block_num', 'shop_id', 'category_id'],\n",
    "    'category_cnt_all_shops_median':['date_block_num', 'category_id']\n",
    "}\n",
    "for col in lag2_cols:\n",
    "    df = lag_feature(df, 1, col, merge_cols)\n",
    "    df = lag_feature(df, 2, col, merge_cols)\n",
    "    if col!='item_cnt_unclipped':\n",
    "        del df[col]"
   ]
  },
  {
   "cell_type": "markdown",
   "metadata": {
    "papermill": {
     "duration": 0.075041,
     "end_time": "2022-06-10T06:53:35.443508",
     "exception": false,
     "start_time": "2022-06-10T06:53:35.368467",
     "status": "completed"
    },
    "tags": []
   },
   "source": [
    "These features show the ratio between lag1 and lag1to12 values"
   ]
  },
  {
   "cell_type": "code",
   "execution_count": null,
   "metadata": {
    "execution": {
     "iopub.execute_input": "2022-06-10T06:53:35.595313Z",
     "iopub.status.busy": "2022-06-10T06:53:35.594305Z",
     "iopub.status.idle": "2022-06-10T06:53:35.696044Z",
     "shell.execute_reply": "2022-06-10T06:53:35.696606Z",
     "shell.execute_reply.started": "2022-06-10T06:31:47.815336Z"
    },
    "papermill": {
     "duration": 0.179484,
     "end_time": "2022-06-10T06:53:35.696753",
     "exception": false,
     "start_time": "2022-06-10T06:53:35.517269",
     "status": "completed"
    },
    "tags": []
   },
   "outputs": [],
   "source": [
    "df['item_cnt_diff'] = df['item_cnt_unclipped_lag1']/df['item_cnt_lag1to12']\n",
    "df['item_cnt_all_shops_diff'] = df['item_cnt_all_shops_lag1']/df['item_cnt_all_shops_lag1to12']\n",
    "df['category_cnt_diff'] = df['category_cnt_lag1']/df['category_cnt_lag1to12']\n",
    "df['category_cnt_all_shops_diff'] = df['category_cnt_all_shops_lag1']/df['category_cnt_all_shops_lag1to12']"
   ]
  },
  {
   "cell_type": "markdown",
   "metadata": {
    "papermill": {
     "duration": 0.073464,
     "end_time": "2022-06-10T06:53:35.844515",
     "exception": false,
     "start_time": "2022-06-10T06:53:35.771051",
     "status": "completed"
    },
    "tags": []
   },
   "source": [
    "We create lag1 values for category and block prices."
   ]
  },
  {
   "cell_type": "code",
   "execution_count": null,
   "metadata": {
    "execution": {
     "iopub.execute_input": "2022-06-10T06:53:35.996170Z",
     "iopub.status.busy": "2022-06-10T06:53:35.995525Z",
     "iopub.status.idle": "2022-06-10T06:53:54.880761Z",
     "shell.execute_reply": "2022-06-10T06:53:54.881339Z",
     "shell.execute_reply.started": "2022-06-10T06:31:50.744503Z"
    },
    "papermill": {
     "duration": 18.961988,
     "end_time": "2022-06-10T06:53:54.881492",
     "exception": false,
     "start_time": "2022-06-10T06:53:35.919504",
     "status": "completed"
    },
    "tags": []
   },
   "outputs": [],
   "source": [
    "df = lag_feature(df, 1, 'category_price',['date_block_num', 'category_id'])\n",
    "df = lag_feature(df, 1, 'block_price',['date_block_num'])\n",
    "del df['category_price'], df['block_price']"
   ]
  },
  {
   "cell_type": "markdown",
   "metadata": {
    "papermill": {
     "duration": 0.077571,
     "end_time": "2022-06-10T06:53:55.034405",
     "exception": false,
     "start_time": "2022-06-10T06:53:54.956834",
     "status": "completed"
    },
    "tags": []
   },
   "source": [
    "We fill the missing values in the below columns with 0 because we know this is the correct value."
   ]
  },
  {
   "cell_type": "code",
   "execution_count": null,
   "metadata": {
    "execution": {
     "iopub.execute_input": "2022-06-10T06:53:55.186108Z",
     "iopub.status.busy": "2022-06-10T06:53:55.185446Z",
     "iopub.status.idle": "2022-06-10T06:53:56.590965Z",
     "shell.execute_reply": "2022-06-10T06:53:56.591514Z",
     "shell.execute_reply.started": "2022-06-10T06:32:15.627321Z"
    },
    "papermill": {
     "duration": 1.482679,
     "end_time": "2022-06-10T06:53:56.591662",
     "exception": false,
     "start_time": "2022-06-10T06:53:55.108983",
     "status": "completed"
    },
    "tags": []
   },
   "outputs": [],
   "source": [
    "df.loc[(df['item_age']>0) & (df['item_cnt_lag1to12'].isna()), 'item_cnt_lag1to12'] = 0\n",
    "df.loc[(df['category_age']>0) & (df['category_cnt_lag1to12'].isna()), 'category_cnt_lag1to12'] = 0\n",
    "df.loc[(df['group_age']>0) & (df['group_cnt_lag1to12'].isna()), 'group_cnt_lag1to12'] = 0"
   ]
  },
  {
   "cell_type": "markdown",
   "metadata": {
    "papermill": {
     "duration": 0.072987,
     "end_time": "2022-06-10T06:53:56.738722",
     "exception": false,
     "start_time": "2022-06-10T06:53:56.665735",
     "status": "completed"
    },
    "tags": []
   },
   "source": [
    "Currently, lag1to12 values are the sum of values over the previous 12 months. Differing ages in the dataset mean that some lag1to12 values are calculated over the previous 12 months, but others have had less time to accrue. \n",
    "\n",
    "We divide lag1to12 values by the minimum between 12 and previous periods in the dataset. This turns lag1to12 into a monthly average that can be more accurately compared between datapoints."
   ]
  },
  {
   "cell_type": "code",
   "execution_count": null,
   "metadata": {
    "execution": {
     "iopub.execute_input": "2022-06-10T06:53:56.896387Z",
     "iopub.status.busy": "2022-06-10T06:53:56.895691Z",
     "iopub.status.idle": "2022-06-10T06:54:54.247071Z",
     "shell.execute_reply": "2022-06-10T06:54:54.246340Z",
     "shell.execute_reply.started": "2022-06-10T06:32:22.923731Z"
    },
    "papermill": {
     "duration": 57.435004,
     "end_time": "2022-06-10T06:54:54.247201",
     "exception": false,
     "start_time": "2022-06-10T06:53:56.812197",
     "status": "completed"
    },
    "tags": []
   },
   "outputs": [],
   "source": [
    "df['item_cnt_lag1to12'] /= [min(idx) for idx in zip(df['item_age'],df['shop_age'],[12]*len(df))]\n",
    "df['item_cnt_all_shops_lag1to12'] /= [min(idx) for idx in zip(df['item_age'],[12]*len(df))]\n",
    "df['category_cnt_lag1to12'] /= [min(idx) for idx in zip(df['category_age'],df['shop_age'],[12]*len(df))]\n",
    "df['category_cnt_all_shops_lag1to12'] /= [min(idx) for idx in zip(df['category_age'],[12]*len(df))]\n",
    "df['group_cnt_lag1to12'] /= [min(idx) for idx in zip(df['group_age'],df['shop_age'],[12]*len(df))]\n",
    "df['group_cnt_all_shops_lag1to12'] /= [min(idx) for idx in zip(df['group_age'],[12]*len(df))]\n",
    "df['city_cnt_lag1to12'] /= [min(idx) for idx in zip(df['date_block_num'],[12]*len(df))]\n",
    "df['shop_cnt_lag1to12'] /= [min(idx) for idx in zip(df['shop_age'],[12]*len(df))]\n",
    "df['new_items_in_cat_lag1to12'] /= [min(idx) for idx in zip(df['category_age'],df['shop_age'],[12]*len(df))]\n",
    "df['new_items_in_cat_all_shops_lag1to12'] /= [min(idx) for idx in zip(df['category_age'],[12]*len(df))]"
   ]
  },
  {
   "cell_type": "code",
   "execution_count": null,
   "metadata": {
    "execution": {
     "iopub.execute_input": "2022-06-10T06:54:54.408287Z",
     "iopub.status.busy": "2022-06-10T06:54:54.407631Z",
     "iopub.status.idle": "2022-06-10T06:54:54.411120Z",
     "shell.execute_reply": "2022-06-10T06:54:54.411589Z",
     "shell.execute_reply.started": "2022-06-10T06:32:45.680002Z"
    },
    "papermill": {
     "duration": 0.089829,
     "end_time": "2022-06-10T06:54:54.411754",
     "exception": false,
     "start_time": "2022-06-10T06:54:54.321925",
     "status": "completed"
    },
    "tags": []
   },
   "outputs": [],
   "source": [
    "df = downcast(df)"
   ]
  },
  {
   "cell_type": "markdown",
   "metadata": {
    "papermill": {
     "duration": 0.076417,
     "end_time": "2022-06-10T06:54:54.563256",
     "exception": false,
     "start_time": "2022-06-10T06:54:54.486839",
     "status": "completed"
    },
    "tags": []
   },
   "source": [
    "These features use past information across more than one period of the dataset. They are not suitable to be lagged in the normal manner."
   ]
  },
  {
   "cell_type": "code",
   "execution_count": null,
   "metadata": {
    "execution": {
     "iopub.execute_input": "2022-06-10T06:54:54.715895Z",
     "iopub.status.busy": "2022-06-10T06:54:54.714912Z",
     "iopub.status.idle": "2022-06-10T06:57:12.101849Z",
     "shell.execute_reply": "2022-06-10T06:57:12.100866Z",
     "shell.execute_reply.started": "2022-06-10T06:33:56.004629Z"
    },
    "papermill": {
     "duration": 137.464296,
     "end_time": "2022-06-10T06:57:12.102074",
     "exception": false,
     "start_time": "2022-06-10T06:54:54.637778",
     "status": "completed"
    },
    "tags": []
   },
   "outputs": [],
   "source": [
    "def past_information(df, merging_cols, new_col, aggregation):\n",
    "    temp = []\n",
    "    for i in range(1,35):\n",
    "        block = df.query(f'date_block_num < {i}').groupby(merging_cols).agg(aggregation).reset_index()\n",
    "        block.columns = merging_cols + [new_col]\n",
    "        block['date_block_num'] = i\n",
    "        block = block[block[new_col]>0]\n",
    "        temp.append(block)\n",
    "    temp = pd.concat(temp)\n",
    "    df = pd.merge(df, temp, on=['date_block_num']+merging_cols, how='left')\n",
    "    return df\n",
    "\n",
    "#average item price in latest block item was sold\n",
    "df = past_information(df, ['item_id'],'last_item_price',{'item_price':'last'})\n",
    "#total units of item sold at individual shop\n",
    "df = past_information(df, ['shop_id','item_id'],'item_cnt_sum_alltime',{'item_cnt':'sum'})\n",
    "#total units of item sold at all shops\n",
    "df = past_information(df, ['item_id'],'item_cnt_sum_alltime_allshops',{'item_cnt':'sum'})\n",
    "\n",
    "#these columns are no longer needed, and would cause data leakage if retained\n",
    "del df['revenue'], df['item_cnt_unclipped'], df['item_price']"
   ]
  },
  {
   "cell_type": "markdown",
   "metadata": {
    "papermill": {
     "duration": 0.074422,
     "end_time": "2022-06-10T06:57:12.254883",
     "exception": false,
     "start_time": "2022-06-10T06:57:12.180461",
     "status": "completed"
    },
    "tags": []
   },
   "source": [
    "Feature showing item prices relative to the block price."
   ]
  },
  {
   "cell_type": "code",
   "execution_count": null,
   "metadata": {
    "execution": {
     "iopub.execute_input": "2022-06-10T06:57:12.409732Z",
     "iopub.status.busy": "2022-06-10T06:57:12.408594Z",
     "iopub.status.idle": "2022-06-10T06:57:12.436523Z",
     "shell.execute_reply": "2022-06-10T06:57:12.435927Z",
     "shell.execute_reply.started": "2022-06-10T06:34:02.009202Z"
    },
    "papermill": {
     "duration": 0.1079,
     "end_time": "2022-06-10T06:57:12.436638",
     "exception": false,
     "start_time": "2022-06-10T06:57:12.328738",
     "status": "completed"
    },
    "tags": []
   },
   "outputs": [],
   "source": [
    "df['relative_price_item_block_lag1'] = df['last_item_price']/df['block_price_lag1']"
   ]
  },
  {
   "cell_type": "markdown",
   "metadata": {
    "papermill": {
     "duration": 0.073672,
     "end_time": "2022-06-10T06:57:12.584844",
     "exception": false,
     "start_time": "2022-06-10T06:57:12.511172",
     "status": "completed"
    },
    "tags": []
   },
   "source": [
    "These features show per day sales values since an item was first sold."
   ]
  },
  {
   "cell_type": "code",
   "execution_count": null,
   "metadata": {
    "execution": {
     "iopub.execute_input": "2022-06-10T06:57:12.739103Z",
     "iopub.status.busy": "2022-06-10T06:57:12.738461Z",
     "iopub.status.idle": "2022-06-10T06:57:12.870862Z",
     "shell.execute_reply": "2022-06-10T06:57:12.870174Z",
     "shell.execute_reply.started": "2022-06-10T06:34:08.521465Z"
    },
    "papermill": {
     "duration": 0.212259,
     "end_time": "2022-06-10T06:57:12.870997",
     "exception": false,
     "start_time": "2022-06-10T06:57:12.658738",
     "status": "completed"
    },
    "tags": []
   },
   "outputs": [],
   "source": [
    "df['item_cnt_per_day_alltime'] = (df['item_cnt_sum_alltime']/df['prev_days_on_sale']).fillna(0)\n",
    "df['item_cnt_per_day_alltime_allshops'] = (df['item_cnt_sum_alltime_allshops']/df['prev_days_on_sale']).fillna(0)"
   ]
  },
  {
   "cell_type": "code",
   "execution_count": null,
   "metadata": {
    "execution": {
     "iopub.execute_input": "2022-06-10T06:57:13.024418Z",
     "iopub.status.busy": "2022-06-10T06:57:13.023744Z",
     "iopub.status.idle": "2022-06-10T06:57:14.483464Z",
     "shell.execute_reply": "2022-06-10T06:57:14.484013Z",
     "shell.execute_reply.started": "2022-06-10T06:34:10.979155Z"
    },
    "papermill": {
     "duration": 1.538819,
     "end_time": "2022-06-10T06:57:14.484160",
     "exception": false,
     "start_time": "2022-06-10T06:57:12.945341",
     "status": "completed"
    },
    "tags": []
   },
   "outputs": [],
   "source": [
    "import gc\n",
    "gc.collect()\n",
    "df = downcast(df)"
   ]
  },
  {
   "cell_type": "markdown",
   "metadata": {
    "papermill": {
     "duration": 0.073537,
     "end_time": "2022-06-10T06:57:14.633229",
     "exception": false,
     "start_time": "2022-06-10T06:57:14.559692",
     "status": "completed"
    },
    "tags": []
   },
   "source": [
    "These features show the mean sales of items with names that have the same first n characters, in the same category and at the same item age. The hope is that this feature can catch past performance of similar items such as earlier titles in a series, particularly in their debut month."
   ]
  },
  {
   "cell_type": "code",
   "execution_count": null,
   "metadata": {
    "execution": {
     "iopub.execute_input": "2022-06-10T06:57:14.785343Z",
     "iopub.status.busy": "2022-06-10T06:57:14.784631Z",
     "iopub.status.idle": "2022-06-10T07:06:02.686848Z",
     "shell.execute_reply": "2022-06-10T07:06:02.686117Z",
     "shell.execute_reply.started": "2022-06-10T06:34:13.777175Z"
    },
    "papermill": {
     "duration": 527.97959,
     "end_time": "2022-06-10T07:06:02.687022",
     "exception": false,
     "start_time": "2022-06-10T06:57:14.707432",
     "status": "completed"
    },
    "tags": []
   },
   "outputs": [],
   "source": [
    "def matching_name_cat_age(df,n,all_shops):\n",
    "    temp_cols = [f'same_name{n}catage_cnt','date_block_num', f'item_name_first{n}','item_age','category_id']\n",
    "    if all_shops:\n",
    "        temp_cols[0] += '_all_shops'\n",
    "    else:\n",
    "        temp_cols += ['shop_id']\n",
    "    temp = []\n",
    "    for i in range(1,35):\n",
    "        block = (\n",
    "            df\n",
    "            .query(f'date_block_num < {i}')\n",
    "            .groupby(temp_cols[2:])\n",
    "            .agg({'item_cnt':'mean'})\n",
    "            .reset_index()\n",
    "            .rename(columns={'item_cnt':temp_cols[0]})\n",
    "        )\n",
    "        block = block[block[temp_cols[0]]>0]\n",
    "        block['date_block_num'] = i\n",
    "        temp.append(block)\n",
    "    temp = pd.concat(temp)\n",
    "    df = pd.merge(df, temp, on=temp_cols[1:], how='left')\n",
    "    return df\n",
    "\n",
    "for n in [4,6,11]:\n",
    "    for all_shops in [True,False]:\n",
    "        df = matching_name_cat_age(df,n,all_shops)"
   ]
  },
  {
   "cell_type": "code",
   "execution_count": null,
   "metadata": {
    "execution": {
     "iopub.execute_input": "2022-06-10T07:06:02.848502Z",
     "iopub.status.busy": "2022-06-10T07:06:02.847827Z",
     "iopub.status.idle": "2022-06-10T07:06:05.480439Z",
     "shell.execute_reply": "2022-06-10T07:06:05.479707Z",
     "shell.execute_reply.started": "2022-06-10T06:34:17.470630Z"
    },
    "papermill": {
     "duration": 2.716732,
     "end_time": "2022-06-10T07:06:05.480557",
     "exception": false,
     "start_time": "2022-06-10T07:06:02.763825",
     "status": "completed"
    },
    "tags": []
   },
   "outputs": [],
   "source": [
    "#assign appropriate datatypes\n",
    "df = downcast(df)\n",
    "int8_cols = [\n",
    "    'item_cnt','month','group_id','shop_type',\n",
    "    'shop_city','shop_id','date_block_num','category_id',\n",
    "    'item_age',\n",
    "]\n",
    "int16_cols = [\n",
    "    'item_id','item_name_first4',\n",
    "    'item_name_first6','item_name_first11'\n",
    "]\n",
    "for col in int8_cols:\n",
    "    df[col] = df[col].astype('int8')\n",
    "for col in int16_cols:\n",
    "    df[col] = df[col].astype('int16')"
   ]
  },
  {
   "cell_type": "markdown",
   "metadata": {
    "papermill": {
     "duration": 0.073676,
     "end_time": "2022-06-10T07:06:05.628716",
     "exception": false,
     "start_time": "2022-06-10T07:06:05.555040",
     "status": "completed"
    },
    "tags": []
   },
   "source": [
    "These features show sales data for items with item_id 1 above and 1 below the item in question."
   ]
  },
  {
   "cell_type": "code",
   "execution_count": null,
   "metadata": {
    "execution": {
     "iopub.execute_input": "2022-06-10T07:06:05.782991Z",
     "iopub.status.busy": "2022-06-10T07:06:05.782283Z",
     "iopub.status.idle": "2022-06-10T07:07:01.579548Z",
     "shell.execute_reply": "2022-06-10T07:07:01.580073Z",
     "shell.execute_reply.started": "2022-06-10T06:34:20.500665Z"
    },
    "papermill": {
     "duration": 55.876225,
     "end_time": "2022-06-10T07:07:01.580243",
     "exception": false,
     "start_time": "2022-06-10T07:06:05.704018",
     "status": "completed"
    },
    "tags": []
   },
   "outputs": [],
   "source": [
    "def nearby_item_data(df,col):\n",
    "    if col in ['item_cnt_unclipped_lag1','item_cnt_lag1to12']:\n",
    "        cols = ['date_block_num', 'shop_id', 'item_id']\n",
    "        temp = df[cols + [col]] \n",
    "    else:\n",
    "        cols = ['date_block_num', 'item_id']\n",
    "        temp = df.groupby(cols).agg({col:'first'}).reset_index()[cols + [col]]   \n",
    "    \n",
    "    temp.columns = cols + [f'below_{col}']\n",
    "    temp['item_id'] += 1\n",
    "    df = pd.merge(df, temp, on=cols, how='left')\n",
    "    \n",
    "    temp.columns = cols + [f'above_{col}']\n",
    "    temp['item_id'] -= 2\n",
    "    df = pd.merge(df, temp, on=cols, how='left')\n",
    "    \n",
    "    return df\n",
    "\n",
    "item_cols = ['item_cnt_unclipped_lag1','item_cnt_lag1to12',\n",
    "             'item_cnt_all_shops_lag1','item_cnt_all_shops_lag1to12']\n",
    "for col in item_cols:\n",
    "    df = nearby_item_data(df,col)\n",
    "    \n",
    "del temp"
   ]
  },
  {
   "cell_type": "markdown",
   "metadata": {
    "papermill": {
     "duration": 0.075032,
     "end_time": "2022-06-10T07:07:01.729594",
     "exception": false,
     "start_time": "2022-06-10T07:07:01.654562",
     "status": "completed"
    },
    "tags": []
   },
   "source": [
    "**2.7 Encoding Name Information** <a id=\"27\"></a>\n",
    "\n",
    "We add boolean features indicating whether an item's name contains any words which frequently appear in the item set."
   ]
  },
  {
   "cell_type": "code",
   "execution_count": null,
   "metadata": {
    "execution": {
     "iopub.execute_input": "2022-06-10T07:07:01.881548Z",
     "iopub.status.busy": "2022-06-10T07:07:01.880852Z",
     "iopub.status.idle": "2022-06-10T07:07:02.805833Z",
     "shell.execute_reply": "2022-06-10T07:07:02.805289Z",
     "shell.execute_reply.started": "2022-06-10T06:34:24.809701Z"
    },
    "papermill": {
     "duration": 1.002266,
     "end_time": "2022-06-10T07:07:02.805975",
     "exception": false,
     "start_time": "2022-06-10T07:07:01.803709",
     "status": "completed"
    },
    "tags": []
   },
   "outputs": [],
   "source": [
    "results = Counter()\n",
    "items['item_name'].str.split().apply(results.update)\n",
    "\n",
    "words = []\n",
    "cnts = []\n",
    "for key, value in results.items():\n",
    "    words.append(key)\n",
    "    cnts.append(value)\n",
    "    \n",
    "counts = pd.DataFrame({'word':words,'count':cnts})\n",
    "common_words = counts.query('count>200').word.to_list()\n",
    "for word in common_words:\n",
    "    items[f'{word}_in_name'] = items['item_name'].str.contains(word).astype('int8')\n",
    "drop_cols = [\n",
    "    'item_id','category_id','item_name','item_name_first4',\n",
    "    'item_name_first6','item_name_first11',\n",
    "    'category_name','group_name','group_id'\n",
    "]\n",
    "items = items.drop(columns=drop_cols)"
   ]
  },
  {
   "cell_type": "code",
   "execution_count": null,
   "metadata": {
    "execution": {
     "iopub.execute_input": "2022-06-10T07:07:02.960280Z",
     "iopub.status.busy": "2022-06-10T07:07:02.959584Z",
     "iopub.status.idle": "2022-06-10T07:07:05.245604Z",
     "shell.execute_reply": "2022-06-10T07:07:05.244921Z"
    },
    "papermill": {
     "duration": 2.365128,
     "end_time": "2022-06-10T07:07:05.245721",
     "exception": false,
     "start_time": "2022-06-10T07:07:02.880593",
     "status": "completed"
    },
    "tags": []
   },
   "outputs": [],
   "source": [
    "#join these word vectors to the training dataframe\n",
    "df = df.join(items, on='item_id')"
   ]
  },
  {
   "cell_type": "markdown",
   "metadata": {
    "papermill": {
     "duration": 0.073866,
     "end_time": "2022-06-10T07:07:05.393526",
     "exception": false,
     "start_time": "2022-06-10T07:07:05.319660",
     "status": "completed"
    },
    "tags": []
   },
   "source": [
    "Given it's high cardinality, we use binary encoding to create a better representation of item_name_first11. The other name features are now deleted."
   ]
  },
  {
   "cell_type": "code",
   "execution_count": null,
   "metadata": {
    "execution": {
     "iopub.execute_input": "2022-06-10T07:07:05.553316Z",
     "iopub.status.busy": "2022-06-10T07:07:05.551306Z",
     "iopub.status.idle": "2022-06-10T07:07:29.920865Z",
     "shell.execute_reply": "2022-06-10T07:07:29.921412Z"
    },
    "papermill": {
     "duration": 24.453627,
     "end_time": "2022-06-10T07:07:29.921609",
     "exception": false,
     "start_time": "2022-06-10T07:07:05.467982",
     "status": "completed"
    },
    "tags": []
   },
   "outputs": [],
   "source": [
    "def binary_encode(df, letters, cols):\n",
    "    encoder = ce.BinaryEncoder(cols=[f'item_name_first{letters}'], return_df=True)\n",
    "    temp = encoder.fit_transform(df[f'item_name_first{letters}'])\n",
    "    df = pd.concat([df,temp], axis=1)\n",
    "    del df[f'item_name_first{letters}_0']\n",
    "    name_cols = [f'item_name_first{letters}_{x}' for x in range(1,cols)]\n",
    "    df[name_cols] = df[name_cols].astype('int8')\n",
    "    return df\n",
    "\n",
    "df = binary_encode(df, 11, 15)\n",
    "    \n",
    "del df['item_name_first4'], df['item_name_first6']"
   ]
  },
  {
   "cell_type": "code",
   "execution_count": null,
   "metadata": {
    "execution": {
     "iopub.execute_input": "2022-06-10T07:07:30.075904Z",
     "iopub.status.busy": "2022-06-10T07:07:30.075148Z",
     "iopub.status.idle": "2022-06-10T07:07:43.119924Z",
     "shell.execute_reply": "2022-06-10T07:07:43.120506Z"
    },
    "papermill": {
     "duration": 13.124594,
     "end_time": "2022-06-10T07:07:43.120655",
     "exception": false,
     "start_time": "2022-06-10T07:07:29.996061",
     "status": "completed"
    },
    "tags": []
   },
   "outputs": [],
   "source": [
    "#save dataframe for later use\n",
    "df.to_pickle('df_complete.pkl')"
   ]
  },
  {
   "cell_type": "code",
   "execution_count": null,
   "metadata": {
    "execution": {
     "iopub.execute_input": "2022-06-10T07:07:43.983278Z",
     "iopub.status.busy": "2022-06-10T07:07:43.982246Z",
     "iopub.status.idle": "2022-06-10T07:07:44.270623Z",
     "shell.execute_reply": "2022-06-10T07:07:44.271598Z"
    },
    "papermill": {
     "duration": 0.742737,
     "end_time": "2022-06-10T07:07:44.271753",
     "exception": false,
     "start_time": "2022-06-10T07:07:43.529016",
     "status": "completed"
    },
    "tags": []
   },
   "outputs": [],
   "source": [
    "#Reset the kernel to clear memory.\n",
    "%reset -f"
   ]
  },
  {
   "cell_type": "markdown",
   "metadata": {
    "papermill": {
     "duration": 0.075538,
     "end_time": "2022-06-10T07:07:44.423176",
     "exception": false,
     "start_time": "2022-06-10T07:07:44.347638",
     "status": "completed"
    },
    "tags": []
   },
   "source": [
    "# 3. Modelling<a id=\"30\"></a>\n",
    "[1. Introduction](#10)  \n",
    "[2. Preparing Dataset](#20)  \n",
    "&nbsp;&nbsp;[2.1 Preparing Item/Category Information](#21)  \n",
    "&nbsp;&nbsp;[2.2 Preparing Sales Information](#22)  \n",
    "&nbsp;&nbsp;[2.3 Constructing Training Dataframe](#23)  \n",
    "&nbsp;&nbsp;[2.4 Adding Shop Information](#24)  \n",
    "&nbsp;&nbsp;[2.5 Ages & Aggregating Sales/Price information](#25)  \n",
    "&nbsp;&nbsp;[2.6 Lagging Values & Features that use Prior Information](#26)  \n",
    "&nbsp;&nbsp;[2.7 Encoding Name Information](#27)  \n",
    "[3. Modelling](#30)  \n",
    "&nbsp;&nbsp;[3.1 Training Model](#31)  \n",
    "&nbsp;&nbsp;[3.2 Submitting](#32)  \n",
    "[4. Analysing Model Output](#40)  \n",
    "&nbsp;&nbsp;[4.1 Plots](#41)  \n",
    "&nbsp;&nbsp;[4.2 Table Views](#42) "
   ]
  },
  {
   "cell_type": "code",
   "execution_count": null,
   "metadata": {
    "execution": {
     "iopub.execute_input": "2022-06-10T07:07:44.575615Z",
     "iopub.status.busy": "2022-06-10T07:07:44.574590Z",
     "iopub.status.idle": "2022-06-10T07:07:46.088085Z",
     "shell.execute_reply": "2022-06-10T07:07:46.087071Z"
    },
    "papermill": {
     "duration": 1.59086,
     "end_time": "2022-06-10T07:07:46.088213",
     "exception": false,
     "start_time": "2022-06-10T07:07:44.497353",
     "status": "completed"
    },
    "tags": []
   },
   "outputs": [],
   "source": [
    "import pandas as pd\n",
    "import numpy as np\n",
    "import lightgbm as lgb\n",
    "import shap\n",
    "from plotly.subplots import make_subplots\n",
    "import plotly.graph_objects as go\n",
    "\n",
    "pd.set_option('display.max_rows', 160)\n",
    "pd.set_option('display.max_columns', 160)\n",
    "pd.set_option('display.max_colwidth', 30)\n",
    "\n",
    "import warnings\n",
    "warnings.filterwarnings(\"ignore\")"
   ]
  },
  {
   "cell_type": "markdown",
   "metadata": {
    "papermill": {
     "duration": 1.474807,
     "end_time": "2022-06-10T07:07:47.638275",
     "exception": false,
     "start_time": "2022-06-10T07:07:46.163468",
     "status": "completed"
    },
    "tags": []
   },
   "source": [
    "We create the training, validation, and test sets. The first 2 months are not used for training as many feature values are likely to be misrepresentative in this period. \n",
    "\n",
    "The month of data directly before the test period is used as our validation set. "
   ]
  },
  {
   "cell_type": "code",
   "execution_count": null,
   "metadata": {
    "execution": {
     "iopub.execute_input": "2022-06-10T07:07:47.795381Z",
     "iopub.status.busy": "2022-06-10T07:07:47.794356Z",
     "iopub.status.idle": "2022-06-10T07:08:33.216737Z",
     "shell.execute_reply": "2022-06-10T07:08:33.217275Z"
    },
    "papermill": {
     "duration": 45.502749,
     "end_time": "2022-06-10T07:08:33.217455",
     "exception": false,
     "start_time": "2022-06-10T07:07:47.714706",
     "status": "completed"
    },
    "tags": []
   },
   "outputs": [],
   "source": [
    "#load the saved training dataframe\n",
    "df = pd.read_pickle('../input/files-top-scoring-notebook-output-exploration/df_complete.pkl')\n",
    "\n",
    "X_train = df[~df.date_block_num.isin([0,1,33,34])]\n",
    "y_train = X_train['item_cnt']\n",
    "del X_train['item_cnt']\n",
    "\n",
    "X_val = df[df['date_block_num']==33]\n",
    "y_val = X_val['item_cnt']\n",
    "del X_val['item_cnt']\n",
    "\n",
    "X_test = df[df['date_block_num']==34].drop(columns='item_cnt')\n",
    "X_test = X_test.reset_index()\n",
    "del X_test['index']\n",
    "\n",
    "#free memory\n",
    "del df"
   ]
  },
  {
   "cell_type": "markdown",
   "metadata": {
    "papermill": {
     "duration": 0.076084,
     "end_time": "2022-06-10T07:08:33.369613",
     "exception": false,
     "start_time": "2022-06-10T07:08:33.293529",
     "status": "completed"
    },
    "tags": []
   },
   "source": [
    "**3.1 Training Model** <a id=\"31\"></a>\n",
    "\n",
    "Hyperparameter values were selected using a gridsearch with ranges of values for num_leaves, feature_fraction, bagging_fraction and min_data_in_leaf. \n",
    "\n",
    "The combination of values which resulted in the lowest validation set RMSE was selected. \n",
    "\n",
    "Learning rate is set to 0.01 as this value results in a well-behaved learning curve. Default values for other hyperparameters were deemed appropriate.\n",
    "\n",
    "The moderately sized gap between training set RMSE and validation set RMSE implies some overfitting may be occurring, however, no tweaking of hyperparameters to constrict model flexibility resulted in a lower validation RMSE.\n"
   ]
  },
  {
   "cell_type": "code",
   "execution_count": null,
   "metadata": {
    "execution": {
     "iopub.execute_input": "2022-06-10T07:08:33.528859Z",
     "iopub.status.busy": "2022-06-10T07:08:33.528212Z",
     "iopub.status.idle": "2022-06-10T07:08:33.532940Z",
     "shell.execute_reply": "2022-06-10T07:08:33.532412Z"
    },
    "papermill": {
     "duration": 0.086331,
     "end_time": "2022-06-10T07:08:33.533073",
     "exception": false,
     "start_time": "2022-06-10T07:08:33.446742",
     "status": "completed"
    },
    "tags": []
   },
   "outputs": [],
   "source": [
    "def build_lgb_model(params, X_train, X_val, y_train, y_val, cat_features):\n",
    "    lgb_train = lgb.Dataset(X_train, y_train)\n",
    "    lgb_val = lgb.Dataset(X_val, y_val)\n",
    "    model = lgb.train(params=params, train_set=lgb_train, valid_sets=(lgb_train, lgb_val), verbose_eval=50,\n",
    "                     categorical_feature=cat_features)\n",
    "    return model"
   ]
  },
  {
   "cell_type": "code",
   "execution_count": null,
   "metadata": {
    "execution": {
     "iopub.execute_input": "2022-06-10T07:08:33.694122Z",
     "iopub.status.busy": "2022-06-10T07:08:33.693415Z",
     "iopub.status.idle": "2022-06-10T07:32:19.312613Z",
     "shell.execute_reply": "2022-06-10T07:32:19.313916Z"
    },
    "papermill": {
     "duration": 1425.70387,
     "end_time": "2022-06-10T07:32:19.314312",
     "exception": false,
     "start_time": "2022-06-10T07:08:33.610442",
     "status": "completed"
    },
    "tags": []
   },
   "outputs": [],
   "source": [
    "#skip this cell if directly loading saved model \n",
    "params = {\n",
    "    'objective': 'rmse',\n",
    "    'metric': 'rmse',\n",
    "    'num_leaves': 1023,\n",
    "    'min_data_in_leaf':10,\n",
    "    'feature_fraction':0.7,\n",
    "    'learning_rate': 0.01,\n",
    "    'num_rounds': 1000,\n",
    "    'early_stopping_rounds': 30,\n",
    "    'seed': 1\n",
    "}\n",
    "#designating the categorical features which should be focused on\n",
    "cat_features = ['category_id','month','shop_id','shop_city']\n",
    "\n",
    "lgb_model = build_lgb_model(params, X_train, X_val, y_train, y_val, cat_features)\n",
    "\n",
    "#save model for later use\n",
    "lgb_model.save_model('initial_lgb_model.txt')"
   ]
  },
  {
   "cell_type": "markdown",
   "metadata": {
    "papermill": {
     "duration": 0.081218,
     "end_time": "2022-06-10T07:32:19.498607",
     "exception": false,
     "start_time": "2022-06-10T07:32:19.417389",
     "status": "completed"
    },
    "tags": []
   },
   "source": [
    "**If you wish to explore the model without retraining, it can be directly loaded by uncommenting and running the cell below**"
   ]
  },
  {
   "cell_type": "code",
   "execution_count": null,
   "metadata": {
    "execution": {
     "iopub.execute_input": "2022-06-10T07:32:19.663588Z",
     "iopub.status.busy": "2022-06-10T07:32:19.662532Z",
     "iopub.status.idle": "2022-06-10T07:32:19.666626Z",
     "shell.execute_reply": "2022-06-10T07:32:19.665995Z"
    },
    "papermill": {
     "duration": 0.088174,
     "end_time": "2022-06-10T07:32:19.666741",
     "exception": false,
     "start_time": "2022-06-10T07:32:19.578567",
     "status": "completed"
    },
    "tags": []
   },
   "outputs": [],
   "source": [
    "#lgb_model = lgb.Booster(model_file='../input/files-top-scoring-notebook-output-exploration/initial_lgb_model.txt')#\n",
    "#lgb_model.params['objective'] = 'rmse'"
   ]
  },
  {
   "cell_type": "markdown",
   "metadata": {
    "papermill": {
     "duration": 0.080364,
     "end_time": "2022-06-10T07:32:19.830380",
     "exception": false,
     "start_time": "2022-06-10T07:32:19.750016",
     "status": "completed"
    },
    "tags": []
   },
   "source": [
    "**3.2 Submitting** <a id=\"32\"></a>\n",
    "\n",
    "We use this model to predict on the test set, and clip the predictions into the range (0,20) before submitting. \n",
    "\n",
    "This achieves a score of 0.85389 on the public leaderboard."
   ]
  },
  {
   "cell_type": "code",
   "execution_count": null,
   "metadata": {
    "execution": {
     "iopub.execute_input": "2022-06-10T07:32:19.997196Z",
     "iopub.status.busy": "2022-06-10T07:32:19.996557Z",
     "iopub.status.idle": "2022-06-10T07:32:32.128275Z",
     "shell.execute_reply": "2022-06-10T07:32:32.128776Z"
    },
    "papermill": {
     "duration": 12.216867,
     "end_time": "2022-06-10T07:32:32.128980",
     "exception": false,
     "start_time": "2022-06-10T07:32:19.912113",
     "status": "completed"
    },
    "tags": []
   },
   "outputs": [],
   "source": [
    "submission = pd.read_csv('../input/competitive-data-science-predict-future-sales/sample_submission.csv')\n",
    "submission['item_cnt_month'] = lgb_model.predict(X_test).clip(0,20)\n",
    "submission[['ID', 'item_cnt_month']].to_csv('initial_lgb_submission.csv', index=False)"
   ]
  },
  {
   "cell_type": "markdown",
   "metadata": {
    "papermill": {
     "duration": 0.080824,
     "end_time": "2022-06-10T07:32:32.292712",
     "exception": false,
     "start_time": "2022-06-10T07:32:32.211888",
     "status": "completed"
    },
    "tags": []
   },
   "source": [
    "# 4. Analysing Model Output<a id=\"40\"></a>\n",
    "[1. Introduction](#10)  \n",
    "[2. Preparing Dataset](#20)  \n",
    "&nbsp;&nbsp;[2.1 Preparing Item/Category Information](#21)  \n",
    "&nbsp;&nbsp;[2.2 Preparing Sales Information](#22)  \n",
    "&nbsp;&nbsp;[2.3 Constructing Training Dataframe](#23)  \n",
    "&nbsp;&nbsp;[2.4 Adding Shop Information](#24)  \n",
    "&nbsp;&nbsp;[2.5 Ages & Aggregating Sales/Price information](#25)  \n",
    "&nbsp;&nbsp;[2.6 Lagging Values & Features that use Prior Information](#26)  \n",
    "&nbsp;&nbsp;[2.7 Encoding Name Information](#27)  \n",
    "[3. Modelling](#30)  \n",
    "&nbsp;&nbsp;[3.1 Training Model](#31)  \n",
    "&nbsp;&nbsp;[3.2 Submitting](#32)  \n",
    "[4. Analysing Model Output](#40)  \n",
    "&nbsp;&nbsp;[4.1 Plots](#41)  \n",
    "&nbsp;&nbsp;[4.2 Table Views](#42)  \n",
    "\n",
    "By looking more closely at the test set and our model output, we can make adjustments to improve on our initial model. The exploration shown below can provide insights that will allow us to make beneficial changes to the model."
   ]
  },
  {
   "cell_type": "code",
   "execution_count": null,
   "metadata": {
    "_kg_hide-input": true,
    "execution": {
     "iopub.execute_input": "2022-06-10T07:32:32.458132Z",
     "iopub.status.busy": "2022-06-10T07:32:32.457431Z",
     "iopub.status.idle": "2022-06-10T07:32:33.092167Z",
     "shell.execute_reply": "2022-06-10T07:32:33.091545Z"
    },
    "papermill": {
     "duration": 0.718637,
     "end_time": "2022-06-10T07:32:33.092345",
     "exception": false,
     "start_time": "2022-06-10T07:32:32.373708",
     "status": "completed"
    },
    "tags": []
   },
   "outputs": [],
   "source": [
    "#load item/category/shop information to make analysing the results easier\n",
    "categories = pd.read_csv('../input/predict-future-sales-eng-translation/categories.csv')\n",
    "categories['group_name'] = categories['category_name'].str.extract(r'(^[\\w\\s]*)')\n",
    "categories['group_name'] = categories['group_name'].str.strip()\n",
    "\n",
    "items = pd.read_csv('../input/predict-future-sales-eng-translation/items.csv')\n",
    "items['item_name'] = items['item_name'].str.lower()\n",
    "for i in [r'[^\\w\\d\\s]', r'\\bthe\\b', r'\\bin\\b', r'\\bfor\\b', r'\\bof\\b', r'\\bd\\b', r'\\bis\\b', r'\\bon\\b']:\n",
    "    items['item_name'] = items['item_name'].str.replace(i, ' ')\n",
    "items['item_name'] = items['item_name'].str.replace(' ', '')\n",
    "items = items.join(categories.set_index('category_id'), on='category_id')\n",
    "\n",
    "shops = pd.read_csv('../input/predict-future-sales-eng-translation/shops.csv')\n",
    "shops['shop_name'] = shops['shop_name'].str.lower()\n",
    "shops['shop_name'] = shops['shop_name'].str.replace(r'[^\\w\\d\\s]', ' ')\n",
    "shops['shop_city'] = shops['shop_name'].str.split().str[0]\n",
    "shops.loc[shops['shop_id'].isin([12,55]), 'shop_city'] = 'online'"
   ]
  },
  {
   "cell_type": "markdown",
   "metadata": {
    "papermill": {
     "duration": 0.080743,
     "end_time": "2022-06-10T07:32:33.254038",
     "exception": false,
     "start_time": "2022-06-10T07:32:33.173295",
     "status": "completed"
    },
    "tags": []
   },
   "source": [
    "We add columns showing predicted values, along with target values and sq_error for our training and validation sets"
   ]
  },
  {
   "cell_type": "code",
   "execution_count": null,
   "metadata": {
    "execution": {
     "iopub.execute_input": "2022-06-10T07:32:33.424578Z",
     "iopub.status.busy": "2022-06-10T07:32:33.423916Z",
     "iopub.status.idle": "2022-06-10T07:39:58.733462Z",
     "shell.execute_reply": "2022-06-10T07:39:58.734211Z"
    },
    "papermill": {
     "duration": 445.399439,
     "end_time": "2022-06-10T07:39:58.734456",
     "exception": false,
     "start_time": "2022-06-10T07:32:33.335017",
     "status": "completed"
    },
    "tags": []
   },
   "outputs": [],
   "source": [
    "X_train['lgb_pred'] = lgb_model.predict(X_train).clip(0,20)\n",
    "X_train['target'] = y_train\n",
    "X_train['sq_err'] = (X_train['lgb_pred']-X_train['target'])**2\n",
    "\n",
    "X_val['lgb_pred'] = lgb_model.predict(X_val).clip(0,20)\n",
    "X_val['target'] = y_val\n",
    "X_val['sq_err'] = (X_val['lgb_pred']-X_val['target'])**2\n",
    "\n",
    "X_test['lgb_pred'] = lgb_model.predict(X_test).clip(0,20)"
   ]
  },
  {
   "cell_type": "markdown",
   "metadata": {
    "papermill": {
     "duration": 0.080942,
     "end_time": "2022-06-10T07:39:58.901559",
     "exception": false,
     "start_time": "2022-06-10T07:39:58.820617",
     "status": "completed"
    },
    "tags": []
   },
   "source": [
    "We create a dataframe that will allow us to easily graph some aspects of model's performance."
   ]
  },
  {
   "cell_type": "code",
   "execution_count": null,
   "metadata": {
    "execution": {
     "iopub.execute_input": "2022-06-10T07:39:59.202622Z",
     "iopub.status.busy": "2022-06-10T07:39:59.200999Z",
     "iopub.status.idle": "2022-06-10T07:40:04.058002Z",
     "shell.execute_reply": "2022-06-10T07:40:04.058579Z"
    },
    "papermill": {
     "duration": 4.954712,
     "end_time": "2022-06-10T07:40:04.058733",
     "exception": false,
     "start_time": "2022-06-10T07:39:59.104021",
     "status": "completed"
    },
    "tags": []
   },
   "outputs": [],
   "source": [
    "data = X_train.groupby('date_block_num').agg({'lgb_pred':'mean','target':'mean','sq_err':'mean'}).reset_index()\n",
    "data['new_item_rmse'] = np.sqrt(X_train.query('item_age<=1').groupby('date_block_num').agg({'sq_err':'mean'}).sq_err)\n",
    "data['old_item_rmse'] = np.sqrt(X_train.query('item_age>1').groupby('date_block_num').agg({'sq_err':'mean'}).sq_err)\n",
    "data = data.append([\n",
    "    {'date_block_num':33,\n",
    "     'target':X_val.target.mean(),\n",
    "     'lgb_pred':X_val.lgb_pred.mean(),\n",
    "     'sq_err':np.sqrt(X_val.sq_err.mean()),\n",
    "     'old_item_rmse':np.sqrt(X_val.query('item_age>1').sq_err.mean()),\n",
    "     'new_item_rmse':np.sqrt(X_val.query('item_age<=1').sq_err.mean())},\n",
    "    {'date_block_num':34,\n",
    "     'target':0,\n",
    "     'lgb_pred':X_test.lgb_pred.mean(),\n",
    "     'sq_err':0,\n",
    "     'old_item_rmse':0,\n",
    "     'new_item_rmse':0}\n",
    "    ],\n",
    "    ignore_index=True\n",
    ")\n",
    "data['date'] = [x[:7] for x in pd.date_range(start='2013-03',end='2015-09',freq='MS').astype('str')]+['Validation','Test']"
   ]
  },
  {
   "cell_type": "markdown",
   "metadata": {
    "papermill": {
     "duration": 0.081812,
     "end_time": "2022-06-10T07:40:04.221886",
     "exception": false,
     "start_time": "2022-06-10T07:40:04.140074",
     "status": "completed"
    },
    "tags": []
   },
   "source": [
    "**4.1 Plots** <a id=\"41\"></a>\n",
    "\n",
    "A summary plot of feature importance. We can use this along with other [shap](https://shap.readthedocs.io/en/latest/) plots to get an idea of what drives the models predictions, and help us find spurious features which can be filtered out."
   ]
  },
  {
   "cell_type": "code",
   "execution_count": null,
   "metadata": {
    "execution": {
     "iopub.execute_input": "2022-06-10T07:40:04.389769Z",
     "iopub.status.busy": "2022-06-10T07:40:04.388788Z",
     "iopub.status.idle": "2022-06-10T08:15:42.350043Z",
     "shell.execute_reply": "2022-06-10T08:15:42.350612Z"
    },
    "papermill": {
     "duration": 2138.048208,
     "end_time": "2022-06-10T08:15:42.350787",
     "exception": false,
     "start_time": "2022-06-10T07:40:04.302579",
     "status": "completed"
    },
    "tags": []
   },
   "outputs": [],
   "source": [
    "temp = X_test.drop(columns='lgb_pred').sample(10000)\n",
    "explainer = shap.TreeExplainer(lgb_model)\n",
    "shap_values = explainer.shap_values(temp)\n",
    "shap.summary_plot(shap_values, temp, max_display=30)"
   ]
  },
  {
   "cell_type": "code",
   "execution_count": null,
   "metadata": {
    "_kg_hide-input": true,
    "execution": {
     "iopub.execute_input": "2022-06-10T08:15:42.524449Z",
     "iopub.status.busy": "2022-06-10T08:15:42.523730Z",
     "iopub.status.idle": "2022-06-10T08:15:43.871772Z",
     "shell.execute_reply": "2022-06-10T08:15:43.871230Z"
    },
    "papermill": {
     "duration": 1.436099,
     "end_time": "2022-06-10T08:15:43.871898",
     "exception": false,
     "start_time": "2022-06-10T08:15:42.435799",
     "status": "completed"
    },
    "tags": []
   },
   "outputs": [],
   "source": [
    "fig = go.Figure(data=[\n",
    "    go.Bar(name='Prediction',x=data.date,y=data.lgb_pred),\n",
    "    go.Bar(name='Target',x=data.date,y=data.target)\n",
    "])\n",
    "fig.update_layout(\n",
    "    title='Mean Prediction and Target Values by Month',\n",
    "    xaxis={'title':'Month','type':'category'},\n",
    "    yaxis={'title':'Mean Value'},\n",
    "    legend={'yanchor':'top','y':1.05,'xanchor':'left','x':0.01},\n",
    "    template='plotly_dark'\n",
    ")\n",
    "\n",
    "text = '''\n",
    "    The model may not be adequately accounting for<br>\n",
    "    the December sales spike. There is no systemic under or<br>\n",
    "    over-prediction visible for the test month, November.\n",
    "'''\n",
    "fig.add_annotation(\n",
    "    yref='paper', y=1.1,\n",
    "    xref='paper', x=0.7,\n",
    "    text=text,\n",
    "    font={'size':11},\n",
    "    showarrow=False)\n",
    "\n",
    "text = '''\n",
    "    Prediction mean is very close to the  <br> \n",
    "    target mean in our validation set.\n",
    "'''\n",
    "fig.add_annotation(\n",
    "    xref='paper', x=0.95,\n",
    "    yref='paper', y=0.58,\n",
    "    text=text,\n",
    "    font={'size':11},\n",
    "    showarrow=True, arrowhead=1)\n",
    "fig.show()"
   ]
  },
  {
   "cell_type": "code",
   "execution_count": null,
   "metadata": {
    "_kg_hide-input": true,
    "execution": {
     "iopub.execute_input": "2022-06-10T08:15:44.050259Z",
     "iopub.status.busy": "2022-06-10T08:15:44.049530Z",
     "iopub.status.idle": "2022-06-10T08:15:44.098094Z",
     "shell.execute_reply": "2022-06-10T08:15:44.098724Z"
    },
    "papermill": {
     "duration": 0.139096,
     "end_time": "2022-06-10T08:15:44.098884",
     "exception": false,
     "start_time": "2022-06-10T08:15:43.959788",
     "status": "completed"
    },
    "tags": []
   },
   "outputs": [],
   "source": [
    "fig = go.Figure(data=[go.Bar(\n",
    "    x=data.date[:-1],\n",
    "    y=data.sq_err[:-1],\n",
    "    marker_color=[x%12 for x in range(2,34)]\n",
    ")])\n",
    "fig.update_layout(\n",
    "    title='RMSE by Month',\n",
    "    xaxis={'title':'Month','type':'category'},\n",
    "    yaxis={'title':'RMSE'},\n",
    "    template='plotly_dark'\n",
    ")\n",
    "text = '''\n",
    "    In the training set, RMSE is highest in December. <br>\n",
    "    \n",
    "'''\n",
    "fig.add_annotation(\n",
    "    yref='paper', y=0.9,\n",
    "    xref='paper', x=0.1,\n",
    "    text=text,\n",
    "    font={'size':11},\n",
    "    showarrow=False)\n",
    "text = '''\n",
    "    Validation RMSE is higher than in any month of <br>\n",
    "    the training set. This is expected given the <br>\n",
    "    gap in training set and validation set RMSE we <br>\n",
    "    saw when training the model.\n",
    "'''\n",
    "fig.add_annotation(\n",
    "    yref='paper', y=1.1,\n",
    "    xref='paper', x=1,\n",
    "    text=text,\n",
    "    font={'size':11},\n",
    "    showarrow=False)\n",
    "fig.show()"
   ]
  },
  {
   "cell_type": "code",
   "execution_count": null,
   "metadata": {
    "_kg_hide-input": true,
    "execution": {
     "iopub.execute_input": "2022-06-10T08:15:44.278359Z",
     "iopub.status.busy": "2022-06-10T08:15:44.277658Z",
     "iopub.status.idle": "2022-06-10T08:15:44.330974Z",
     "shell.execute_reply": "2022-06-10T08:15:44.330298Z"
    },
    "papermill": {
     "duration": 0.145583,
     "end_time": "2022-06-10T08:15:44.331097",
     "exception": false,
     "start_time": "2022-06-10T08:15:44.185514",
     "status": "completed"
    },
    "tags": []
   },
   "outputs": [],
   "source": [
    "temp = X_val.groupby('item_age').agg({'sq_err':'mean','target':'mean'}).reset_index()\n",
    "temp['sq_err'] = np.sqrt(temp['sq_err'])\n",
    "fig = go.Figure(data=[\n",
    "    go.Bar(name='RMSE',x=temp.item_age,y=temp.sq_err)\n",
    "])\n",
    "fig.update_layout(\n",
    "    title='Validation set RMSE by Item Age',\n",
    "    xaxis={'title':'Item Age','type':'category'},\n",
    "    yaxis={'title':'RMSE'},\n",
    "    template='plotly_dark'\n",
    ")\n",
    "text = '''\n",
    "    RMSE is much higher for items with age 0 or 1. There is a <br>\n",
    "    sharp decrease in RMSE between ages 0 and 2, then a much <br>\n",
    "    flatter downwards trend as age increases beyond 2.\n",
    "'''\n",
    "fig.add_annotation(\n",
    "    yref='paper', y=0.8,\n",
    "    xref='paper', x=0.04,\n",
    "    text=text,\n",
    "    font={'size':11},\n",
    "    showarrow=False)\n",
    "fig.show()"
   ]
  },
  {
   "cell_type": "code",
   "execution_count": null,
   "metadata": {
    "_kg_hide-input": true,
    "execution": {
     "iopub.execute_input": "2022-06-10T08:15:44.517126Z",
     "iopub.status.busy": "2022-06-10T08:15:44.516407Z",
     "iopub.status.idle": "2022-06-10T08:15:44.558038Z",
     "shell.execute_reply": "2022-06-10T08:15:44.558521Z"
    },
    "papermill": {
     "duration": 0.139441,
     "end_time": "2022-06-10T08:15:44.558677",
     "exception": false,
     "start_time": "2022-06-10T08:15:44.419236",
     "status": "completed"
    },
    "tags": []
   },
   "outputs": [],
   "source": [
    "fig = go.Figure(data=[\n",
    "    go.Bar(name='Item Age <=1 RMSE',x=data.date[:-1],y=data.new_item_rmse[:-1]),\n",
    "    go.Bar(name='Item Age > 1 RMSE',x=data.date[:-1],y=data.old_item_rmse[:-1])\n",
    "])\n",
    "fig.update_layout(\n",
    "    title='RMSE by Month for New and Old Items',\n",
    "    xaxis={'title':'Month','type':'category'},\n",
    "    yaxis={'title':'Mean Value'},\n",
    "    legend={'yanchor':'top','y':1.05,'xanchor':'left','x':0.01},\n",
    "    template='plotly_dark'\n",
    ")\n",
    "text = '''\n",
    "    For older items, performance on the validation set is no worse than <br>\n",
    "    performance on the training set. The higher overall validation set <br>\n",
    "    RMSE is caused by a significantly higher RMSE for new items.\n",
    "'''\n",
    "fig.add_annotation(yref='paper', y=1.1,\n",
    "                   xref='paper', x=0.93,\n",
    "                   text=text,\n",
    "                   font={'size':11},\n",
    "                   showarrow=False)\n",
    "fig.show()"
   ]
  },
  {
   "cell_type": "markdown",
   "metadata": {
    "papermill": {
     "duration": 0.089251,
     "end_time": "2022-06-10T08:15:44.739458",
     "exception": false,
     "start_time": "2022-06-10T08:15:44.650207",
     "status": "completed"
    },
    "tags": []
   },
   "source": [
    "**4.2 Table Views** <a id=\"42\"></a>\n",
    "\n",
    "There are 42 shops in our dataset. The following view shows us which shops have previously sold any items from each category. "
   ]
  },
  {
   "cell_type": "code",
   "execution_count": null,
   "metadata": {
    "execution": {
     "iopub.execute_input": "2022-06-10T08:15:44.925314Z",
     "iopub.status.busy": "2022-06-10T08:15:44.924624Z",
     "iopub.status.idle": "2022-06-10T08:16:29.319044Z",
     "shell.execute_reply": "2022-06-10T08:16:29.319621Z"
    },
    "papermill": {
     "duration": 44.48996,
     "end_time": "2022-06-10T08:16:29.319787",
     "exception": false,
     "start_time": "2022-06-10T08:15:44.829827",
     "status": "completed"
    },
    "tags": []
   },
   "outputs": [],
   "source": [
    "df = pd.read_pickle('../input/files-top-scoring-notebook-output-exploration/df_complete.pkl')\n",
    "(\n",
    "df\n",
    "[df['category_id'].isin(X_test.category_id.unique())]\n",
    ".query('item_cnt>0')\n",
    ".groupby('category_id')\n",
    ".agg({\n",
    "    'category_age':'max',\n",
    "    'shop_id':['nunique','unique'],\n",
    "    'item_cnt':'sum'\n",
    "    })\n",
    ".join(categories['category_name'])\n",
    ".join(\n",
    "    X_test       \n",
    "    .groupby('category_id')\n",
    "    .agg({'item_id':'nunique'})\n",
    "    .rename(columns={'item_id':'test_set_items'})\n",
    ")\n",
    ".sort_values(('shop_id', 'nunique'))\n",
    ".head(20)\n",
    ")"
   ]
  },
  {
   "cell_type": "markdown",
   "metadata": {
    "papermill": {
     "duration": 0.09072,
     "end_time": "2022-06-10T08:16:29.500346",
     "exception": false,
     "start_time": "2022-06-10T08:16:29.409626",
     "status": "completed"
    },
    "tags": []
   },
   "source": [
    "The following view shows which shops are causing the most loss in our validation set. Shops 25, 31, 42, and 28 have the highest MSEs but also the highest target means (we would expect to see MSE scale with target mean). Shops 12 and 55 have the next highest MSEs, and do not have relatively high target means. These are the only two shops which have a category only they sell. Could they benefit from being segregated in the training stage?"
   ]
  },
  {
   "cell_type": "code",
   "execution_count": null,
   "metadata": {
    "execution": {
     "iopub.execute_input": "2022-06-10T08:16:29.688860Z",
     "iopub.status.busy": "2022-06-10T08:16:29.687757Z",
     "iopub.status.idle": "2022-06-10T08:16:29.793188Z",
     "shell.execute_reply": "2022-06-10T08:16:29.792600Z"
    },
    "papermill": {
     "duration": 0.203059,
     "end_time": "2022-06-10T08:16:29.793312",
     "exception": false,
     "start_time": "2022-06-10T08:16:29.590253",
     "status": "completed"
    },
    "tags": []
   },
   "outputs": [],
   "source": [
    "(\n",
    "X_val\n",
    "[X_val['category_id'].isin(X_test.category_id.unique())]\n",
    ".groupby('shop_id')\n",
    ".agg({\n",
    "    'sq_err':'mean',\n",
    "    'target':'mean',\n",
    "    'lgb_pred':'mean'\n",
    "})\n",
    ".join(\n",
    "    X_test\n",
    "    .rename(columns={'lgb_pred':'test_pred'})\n",
    "    .groupby('shop_id')\n",
    "    .agg({'test_pred':'mean'})\n",
    ")\n",
    ".join(shops['shop_name'])\n",
    ".sort_values('sq_err', ascending=False)\n",
    ".head(20)\n",
    ")"
   ]
  },
  {
   "cell_type": "markdown",
   "metadata": {
    "papermill": {
     "duration": 0.092692,
     "end_time": "2022-06-10T08:16:29.979267",
     "exception": false,
     "start_time": "2022-06-10T08:16:29.886575",
     "status": "completed"
    },
    "tags": []
   },
   "source": [
    "The following view shows which categories are causing the most loss in our validation set, and how prominent these categories are within the test set. Looking at their MSE and presence in the test set shows us that the video game categories are the causing the most loss and might warrant especially close examination."
   ]
  },
  {
   "cell_type": "code",
   "execution_count": null,
   "metadata": {
    "execution": {
     "iopub.execute_input": "2022-06-10T08:16:30.169095Z",
     "iopub.status.busy": "2022-06-10T08:16:30.168376Z",
     "iopub.status.idle": "2022-06-10T08:16:30.333557Z",
     "shell.execute_reply": "2022-06-10T08:16:30.332806Z"
    },
    "papermill": {
     "duration": 0.260996,
     "end_time": "2022-06-10T08:16:30.333723",
     "exception": false,
     "start_time": "2022-06-10T08:16:30.072727",
     "status": "completed"
    },
    "tags": []
   },
   "outputs": [],
   "source": [
    "(\n",
    "X_val\n",
    "[X_val['category_id'].isin(X_test.category_id.unique())]\n",
    ".groupby('category_id')\n",
    ".agg({\n",
    "    'sq_err':['sum','mean'],\n",
    "    'target':'mean',\n",
    "    'lgb_pred':['sum','mean'],\n",
    "    'item_id':'nunique'\n",
    "})\n",
    ".join(\n",
    "    X_test\n",
    "    .rename(columns={'lgb_pred':'test_pred','item_id':'test_items'})\n",
    "    .groupby('category_id')        \n",
    "    .agg({\n",
    "        'test_pred':['sum','mean'],\n",
    "        'test_items':'nunique'\n",
    "    }),\n",
    "    on='category_id'\n",
    ")\n",
    ".join(categories)\n",
    ".sort_values(('sq_err', 'mean'), ascending=False)\n",
    ".head(20)\n",
    ")"
   ]
  },
  {
   "cell_type": "markdown",
   "metadata": {
    "papermill": {
     "duration": 0.094554,
     "end_time": "2022-06-10T08:16:30.525675",
     "exception": false,
     "start_time": "2022-06-10T08:16:30.431121",
     "status": "completed"
    },
    "tags": []
   },
   "source": [
    "The following view shows which items have the least accurate predictions across all shops in the validation set. Changing the value of the CATEGORY variable will allow you to look through different categories of interest."
   ]
  },
  {
   "cell_type": "code",
   "execution_count": null,
   "metadata": {
    "execution": {
     "iopub.execute_input": "2022-06-10T08:16:30.731053Z",
     "iopub.status.busy": "2022-06-10T08:16:30.730351Z",
     "iopub.status.idle": "2022-06-10T08:16:30.829203Z",
     "shell.execute_reply": "2022-06-10T08:16:30.829748Z"
    },
    "papermill": {
     "duration": 0.209827,
     "end_time": "2022-06-10T08:16:30.829896",
     "exception": false,
     "start_time": "2022-06-10T08:16:30.620069",
     "status": "completed"
    },
    "tags": []
   },
   "outputs": [],
   "source": [
    "#edit this value to look through the biggest problem items in each category\n",
    "CATEGORY = 20\n",
    "(\n",
    "items[\n",
    "    items['item_id'].isin(X_val.item_id.unique()) & \n",
    "    items['item_id'].isin(X_test.item_id.unique())\n",
    "]\n",
    "[['category_id','category_name','item_id','item_name']]\n",
    ".join(\n",
    "    X_test\n",
    "    .rename(columns={'lgb_pred':'test_pred'})\n",
    "    .groupby('item_id')        \n",
    "    .agg({'test_pred':'mean'}),\n",
    "    on='item_id'\n",
    ")\n",
    ".join(\n",
    "    X_val\n",
    "    .groupby('item_id')\n",
    "    .agg({\n",
    "        'lgb_pred':'mean',\n",
    "        'target':'mean',\n",
    "        'sq_err':'mean',\n",
    "        'same_name4catage_cnt_all_shops':'first',\n",
    "        'new_items_in_cat_all_shops_lag1to12':'first',\n",
    "        'item_cnt_all_shops_lag1':'first',\n",
    "        'category_cnt_all_shops_lag1':'first',\n",
    "        'item_cnt_sum_alltime_allshops':'first',\n",
    "        'prev_days_on_sale':'first'\n",
    "    })\n",
    "    .rename(columns={\n",
    "        'lgb_pred':'val_pred',\n",
    "        'target':'val_target',  \n",
    "    }),\n",
    "    on='item_id'\n",
    ")\n",
    ".query(f'category_id=={CATEGORY}')\n",
    ".sort_values('sq_err',ascending=False)\n",
    ".rename(columns={\n",
    "    'same_name4catage_cnt_all_shops':'name4mean',\n",
    "    'new_items_in_cat_all_shops_lag1to12':'new_in_cat_mean',\n",
    "    'item_cnt_all_shops_lag1':'item_cnt_lag1',\n",
    "    'category_cnt_all_shops_lag1':'cat_cnt_lag1',\n",
    "    'category_id':'cat',\n",
    "    'item_cnt_sum_alltime_allshops':'item_cnt_alltime'\n",
    "})\n",
    ".head(20)\n",
    ")"
   ]
  },
  {
   "cell_type": "markdown",
   "metadata": {
    "papermill": {
     "duration": 0.096487,
     "end_time": "2022-06-10T08:16:31.020997",
     "exception": false,
     "start_time": "2022-06-10T08:16:30.924510",
     "status": "completed"
    },
    "tags": []
   },
   "source": [
    "The following view shows which items in each category have the highest prediction value across all shops in the test set. Again the CATEGORY variable can be changed to look through different categories of interest."
   ]
  },
  {
   "cell_type": "code",
   "execution_count": null,
   "metadata": {
    "execution": {
     "iopub.execute_input": "2022-06-10T08:16:31.220740Z",
     "iopub.status.busy": "2022-06-10T08:16:31.219803Z",
     "iopub.status.idle": "2022-06-10T08:16:31.278418Z",
     "shell.execute_reply": "2022-06-10T08:16:31.278986Z"
    },
    "papermill": {
     "duration": 0.162877,
     "end_time": "2022-06-10T08:16:31.279134",
     "exception": false,
     "start_time": "2022-06-10T08:16:31.116257",
     "status": "completed"
    },
    "tags": []
   },
   "outputs": [],
   "source": [
    "CATEGORY = 20  \n",
    "(\n",
    "items[items['item_id'].isin(X_test.item_id.unique())]\n",
    "[['category_id','category_name','item_id','item_name']]\n",
    ".join(\n",
    "    X_test\n",
    "    .groupby('item_id')\n",
    "    .agg({\n",
    "        'lgb_pred':'mean',\n",
    "        'same_name4catage_cnt_all_shops':'first',\n",
    "        'new_items_in_cat_all_shops_lag1to12':'first',\n",
    "        'item_cnt_all_shops_lag1':'first',\n",
    "        'category_cnt_all_shops_lag1':'first',\n",
    "        'item_cnt_sum_alltime_allshops':'first',\n",
    "        'prev_days_on_sale':'first'\n",
    "    })\n",
    "    .rename(columns={'lgb_pred':'test_pred'}),\n",
    "    on='item_id'\n",
    ")\n",
    ".query(f'category_id=={CATEGORY}')\n",
    ".sort_values('test_pred',ascending=False)\n",
    ".rename(columns={\n",
    "     'same_name4catage_cnt_all_shops':'name4mean',\n",
    "     'new_items_in_cat_all_shops_lag1to12':'new_in_cat_mean',\n",
    "     'item_cnt_all_shops_lag1':'item_cnt_lag1',\n",
    "     'category_cnt_all_shops_lag1':'cat_cnt_lag1',\n",
    "     'item_category_id':'cat',\n",
    "     'item_cnt_sum_alltime_allshops':'item_cnt_alltime'\n",
    "})\n",
    ".head(20)\n",
    ")"
   ]
  },
  {
   "cell_type": "markdown",
   "metadata": {
    "papermill": {
     "duration": 0.094909,
     "end_time": "2022-06-10T08:16:31.470880",
     "exception": false,
     "start_time": "2022-06-10T08:16:31.375971",
     "status": "completed"
    },
    "tags": []
   },
   "source": [
    "Using these final two views in tandem can help identify specific problematic items in the test set. It is easier to keep track of the information when all the columns can be seen at once in the wider view available when running the notebook."
   ]
  }
 ],
 "metadata": {
  "kernelspec": {
   "display_name": "Python 3 (ipykernel)",
   "language": "python",
   "name": "python3"
  },
  "language_info": {
   "codemirror_mode": {
    "name": "ipython",
    "version": 3
   },
   "file_extension": ".py",
   "mimetype": "text/x-python",
   "name": "python",
   "nbconvert_exporter": "python",
   "pygments_lexer": "ipython3",
   "version": "3.9.12"
  },
  "papermill": {
   "duration": 6099.830065,
   "end_time": "2022-06-10T08:16:31.885478",
   "environment_variables": {},
   "exception": null,
   "input_path": "__notebook__.ipynb",
   "output_path": "__notebook__.ipynb",
   "parameters": {},
   "start_time": "2022-06-10T06:34:52.055413",
   "version": "2.1.0"
  }
 },
 "nbformat": 4,
 "nbformat_minor": 4
}
